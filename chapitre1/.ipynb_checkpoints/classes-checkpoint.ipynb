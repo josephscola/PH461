{
 "cells": [
  {
   "cell_type": "markdown",
   "metadata": {},
   "source": [
    "## Classes"
   ]
  },
  {
   "cell_type": "markdown",
   "metadata": {},
   "source": [
    "Les classes sont les structures sur lesquelles s'appuie la programmation par _objet_.\n",
    "Une classe rassemble:\n",
    "- des variables appelées _attributs_\n",
    "- des fonctions appelées _méthodes_ qui ont un accès direct aux _attributs_ de la classe.\n",
    "On appelle _instance_ une variable dont le type est une classe."
   ]
  },
  {
   "cell_type": "markdown",
   "metadata": {},
   "source": [
    "```python\n",
    "# Syntaxe Python de la définition d'une class\n",
    "class nom_de_la_classe :\n",
    "    def __init__ (self, var1, var2, var3, ...):  # constructeur de la classe\n",
    "        self.variable1 = var1 # variable1 = attribut de la classe; var1 = variable locale\n",
    "        self.variable2 = var2\n",
    "        self.variable3 = var3  \n",
    "        # pas d'instruction return\n",
    "      \n",
    "    def methode1 (self, arg1, arg2, ...): #définition des fonctions de la classe ou méthodes\n",
    "        ...\n",
    "        return resultat1\n",
    "    \n",
    "```"
   ]
  },
  {
   "cell_type": "markdown",
   "metadata": {},
   "source": [
    "### Exemple d'une classe COMPLEXE"
   ]
  },
  {
   "cell_type": "code",
   "execution_count": 1,
   "metadata": {},
   "outputs": [],
   "source": [
    "class COMPLEXE :\n",
    "    def __init__ (self, real, imag) :\n",
    "        self.real = real\n",
    "        self.imag = imag\n",
    "            \n",
    "    def conjugate (self):\n",
    "        return COMPLEXE (self.real, -self.imag)\n",
    "    \n",
    "    def modulus (self):\n",
    "        return (self.real ** 2 + self.imag ** 2)**0.5\n",
    "    \n",
    "    def C2string (self):\n",
    "        # n nombre de chiffres décimaux\n",
    "        if self.imag < 0:\n",
    "            string = f'{self.real:.3f} - {-self.imag:.3f}i'\n",
    "        else:\n",
    "            string = f'{self.real:.3f} + {self.imag:.3f}i'\n",
    "        return string"
   ]
  },
  {
   "cell_type": "code",
   "execution_count": 2,
   "metadata": {},
   "outputs": [
    {
     "name": "stdout",
     "output_type": "stream",
     "text": [
      "z1 =  1.000 + 2.000i\n",
      "z2 = conj (z1) = 1.000 - 2.000i\n"
     ]
    }
   ],
   "source": [
    "z1 = COMPLEXE (1, 2)\n",
    "print ('z1 = ', z1.C2string ())\n",
    "\n",
    "z2 = z1.conjugate ()\n",
    "print ('z2 = conj (z1) = ' + z2.C2string ())"
   ]
  },
  {
   "cell_type": "markdown",
   "metadata": {},
   "source": [
    "## Arguments des fonctions"
   ]
  },
  {
   "cell_type": "code",
   "execution_count": 3,
   "metadata": {},
   "outputs": [],
   "source": [
    "def ADD_NUMBERS (x1, x2) :\n",
    "    x3 = x1 + x2\n",
    "    x1 *= 2\n",
    "    return x3"
   ]
  },
  {
   "cell_type": "code",
   "execution_count": 4,
   "metadata": {},
   "outputs": [
    {
     "name": "stdout",
     "output_type": "stream",
     "text": [
      "x3 =  5\n",
      "x1 =  2\n"
     ]
    }
   ],
   "source": [
    "x1 = 2\n",
    "x2 = 3\n",
    "x3 = ADD_NUMBERS (x1, x2)\n",
    "print ('x3 = ', x3)\n",
    "print ('x1 = ', x1)"
   ]
  },
  {
   "cell_type": "markdown",
   "metadata": {},
   "source": [
    "Le premier argument de la fonction se nomme __x1__ mais il est interprété comme une variable distincte de la variable __x1__ passée en argument lors de l'appel de la fonction."
   ]
  },
  {
   "cell_type": "code",
   "execution_count": 5,
   "metadata": {},
   "outputs": [],
   "source": [
    "def ADD_COMPLEXES (arg1, arg2) :\n",
    "    z3 = COMPLEXE (arg1.real + arg2.real, arg1.imag + arg2.imag)\n",
    "    arg1.imag *= 2\n",
    "    return z3"
   ]
  },
  {
   "cell_type": "code",
   "execution_count": 6,
   "metadata": {},
   "outputs": [
    {
     "name": "stdout",
     "output_type": "stream",
     "text": [
      "avant l'appel de la fonction\n",
      "z1 = 1.000 + 2.000i\n",
      "après l'appel de la fonction\n",
      "z4 = 2.000 + 0.000i\n",
      "z1 = 1.000 + 4.000i\n"
     ]
    }
   ],
   "source": [
    "z1 = COMPLEXE (1, 2)\n",
    "print ('avant l\\'appel de la fonction')\n",
    "print ('z1 = ' + z1.C2string () )\n",
    "z2 = z1.conjugate ()\n",
    "\n",
    "print ('après l\\'appel de la fonction')\n",
    "z4 = ADD_COMPLEXES (z1, z2)\n",
    "print ('z4 = ' + z4.C2string () )\n",
    "print ('z1 = ' + z1.C2string () )"
   ]
  },
  {
   "cell_type": "markdown",
   "metadata": {},
   "source": [
    "Le premier argument de la fonction porte un nom différent de la variable passée en argument lors de l'appel de la fonction mais comme il s'agit d'une classe, la fonction a traité l'instance de la classe qui a été déclarée dans le script d'appel."
   ]
  }
 ],
 "metadata": {
  "hide_input": false,
  "kernelspec": {
   "display_name": "Python 3 (ipykernel)",
   "language": "python",
   "name": "python3"
  },
  "language_info": {
   "codemirror_mode": {
    "name": "ipython",
    "version": 3
   },
   "file_extension": ".py",
   "mimetype": "text/x-python",
   "name": "python",
   "nbconvert_exporter": "python",
   "pygments_lexer": "ipython3",
   "version": "3.9.16"
  }
 },
 "nbformat": 4,
 "nbformat_minor": 4
}
