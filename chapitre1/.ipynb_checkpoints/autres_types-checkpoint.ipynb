{
 "cells": [
  {
   "cell_type": "markdown",
   "metadata": {},
   "source": [
    "# Autre types de variables"
   ]
  },
  {
   "cell_type": "code",
   "execution_count": 3,
   "metadata": {},
   "outputs": [],
   "source": [
    "from IPython.display import display, Markdown"
   ]
  },
  {
   "cell_type": "markdown",
   "metadata": {},
   "source": [
    "## Variable None"
   ]
  },
  {
   "cell_type": "markdown",
   "metadata": {},
   "source": [
    "La variable _None_ ne prend aucune autre valeur qu'elle même constitue un type de variable à elle toute seule.\n",
    "Le type _None_ est distinct de tous les autres types de variables.\n",
    "L'utilité d'une telle variable se trouve dans la _gestion d'exceptions_"
   ]
  },
  {
   "cell_type": "code",
   "execution_count": 3,
   "metadata": {},
   "outputs": [
    {
     "name": "stdout",
     "output_type": "stream",
     "text": [
      "The condition \"var == None\" is True\n",
      "The condition \"not var\" is True\n"
     ]
    }
   ],
   "source": [
    "var = None\n",
    "print ('The condition \"var == None\" is', (var == None))\n",
    "print ('The condition \"not var\" is', (not var))"
   ]
  },
  {
   "cell_type": "markdown",
   "metadata": {},
   "source": [
    "## Booléens"
   ]
  },
  {
   "cell_type": "markdown",
   "metadata": {},
   "source": [
    "Les variables bouléennes premettent de représenter les résultats des opérations dans l'algèbre de Boole (ou opérations logiques).\n",
    "Elles peuvent prendre les deux valeurs __True__ ou __False__."
   ]
  },
  {
   "cell_type": "code",
   "execution_count": 6,
   "metadata": {},
   "outputs": [
    {
     "name": "stdout",
     "output_type": "stream",
     "text": [
      "<class 'bool'>\n",
      "La valeur de x est True\n",
      "La valeur de x considérée comme un entier est 1\n"
     ]
    }
   ],
   "source": [
    "x = True\n",
    "print (type (x))\n",
    "print (f'La valeur de x est {x}')\n",
    "print (f'La valeur de x considérée comme un entier est {x:d}')"
   ]
  },
  {
   "cell_type": "markdown",
   "metadata": {},
   "source": [
    "### Comparaisons"
   ]
  },
  {
   "cell_type": "code",
   "execution_count": 7,
   "metadata": {},
   "outputs": [
    {
     "name": "stdout",
     "output_type": "stream",
     "text": [
      "2 < 5   True\n",
      "5 < 2   False\n",
      "2 < 2   False\n",
      "2 ≤ 2   True\n",
      "2 == 5 False\n",
      "2 != 5 True\n",
      "not (2 == 5) True\n",
      "2 < x < 4 True\n"
     ]
    }
   ],
   "source": [
    "proposition = 2 < 5\n",
    "print ('2 < 5  ', proposition)\n",
    "\n",
    "proposition = 5 < 2\n",
    "print ('5 < 2  ', proposition)\n",
    "\n",
    "proposition = 2 < 2\n",
    "print ('2 < 2  ', proposition)\n",
    "\n",
    "proposition = 2 <= 2\n",
    "print ('2 ≤ 2  ', proposition)\n",
    "\n",
    "proposition = 2 == 5\n",
    "print ('2 == 5', proposition)\n",
    "\n",
    "proposition = 2 != 5\n",
    "print ('2 != 5', proposition)\n",
    "\n",
    "proposition = not (2 == 5)\n",
    "print ('not (2 == 5)', proposition)\n",
    "\n",
    "x = 3\n",
    "proposition = 2 < x < 4\n",
    "print ('2 < x < 4', proposition)"
   ]
  },
  {
   "cell_type": "markdown",
   "metadata": {},
   "source": [
    "### Opérateurs __and__ et __or__"
   ]
  },
  {
   "cell_type": "code",
   "execution_count": 17,
   "metadata": {},
   "outputs": [
    {
     "data": {
      "text/markdown": [
       "|a|b|a and b|\n",
       "|:-:|:-:|:-:|\n",
       "|True|True|True\n",
       "|True|False|False\n",
       "|False|True|False\n",
       "|False|False|False\n"
      ],
      "text/plain": [
       "<IPython.core.display.Markdown object>"
      ]
     },
     "metadata": {},
     "output_type": "display_data"
    }
   ],
   "source": [
    "table = '|a|b|a and b|\\n|:-:|:-:|:-:|\\n'\n",
    "\n",
    "for a in [True, False]:\n",
    "    for b in [True, False] :\n",
    "        table += '|' + str (a) + '|' + str (b) + '|' + str (a and b)  + '\\n'\n",
    "display (Markdown (table))"
   ]
  },
  {
   "cell_type": "code",
   "execution_count": 11,
   "metadata": {},
   "outputs": [
    {
     "data": {
      "text/markdown": [
       "|a|b|a or b|\n",
       "|:-:|:-:|:-:|\n",
       "|True|True|True|\n",
       "|True|False|True|\n",
       "|False|True|True|\n",
       "|False|False|False|\n"
      ],
      "text/plain": [
       "<IPython.core.display.Markdown object>"
      ]
     },
     "metadata": {},
     "output_type": "display_data"
    }
   ],
   "source": [
    "table = '|a|b|a or b|\\n|:-:|:-:|:-:|\\n'\n",
    "for a in [True, False]:\n",
    "    for b in [True, False] :\n",
    "        expression = a or b\n",
    "        table += '|' + str (a) + '|' + str (b) + '|' + str (expression) + '|\\n'\n",
    "display (Markdown (table))"
   ]
  },
  {
   "cell_type": "markdown",
   "metadata": {},
   "source": [
    "### Opérateur __not__"
   ]
  },
  {
   "cell_type": "code",
   "execution_count": 4,
   "metadata": {},
   "outputs": [
    {
     "data": {
      "text/markdown": [
       "|a|b|a and b|not (a and b)|\n",
       "|:-:|:-:|:-:|:-:|\n",
       "|True|True|True|False||\n",
       "|True|False|False|True||\n",
       "|False|True|False|True||\n",
       "|False|False|False|True||\n"
      ],
      "text/plain": [
       "<IPython.core.display.Markdown object>"
      ]
     },
     "metadata": {},
     "output_type": "display_data"
    }
   ],
   "source": [
    "table = '|a|b|a and b|not (a and b)|\\n|:-:|:-:|:-:|:-:|\\n'\n",
    "for a in [True, False]:\n",
    "    for b in [True, False] :\n",
    "        expression = a and b\n",
    "        table += ('|' + str (a) + '|' + str (b) + '|' + str (expression) \n",
    "                  + '|' + str (not expression) + '|' ) + '|\\n'\n",
    "display (Markdown (table))"
   ]
  },
  {
   "cell_type": "code",
   "execution_count": 6,
   "metadata": {},
   "outputs": [
    {
     "name": "stdout",
     "output_type": "stream",
     "text": [
      "|a|b|a and b|not (a and b)|\n",
      "|:-:|:-:|:-:|:-:|\n",
      "|True|True|True|False||\n",
      "|True|False|False|True||\n",
      "|False|True|False|True||\n",
      "|False|False|False|True||\n",
      "\n"
     ]
    }
   ],
   "source": [
    "print (table)"
   ]
  },
  {
   "cell_type": "markdown",
   "metadata": {},
   "source": [
    "### Fonction __all ()__ "
   ]
  },
  {
   "cell_type": "code",
   "execution_count": 18,
   "metadata": {},
   "outputs": [
    {
     "data": {
      "text/markdown": [
       "|a|b|c|all (a,b,c) |\n",
       "|:-:|:-:|:-:|:-:|\n",
       "|True|True|True|True|\n",
       "|True|True|False|False|\n",
       "|True|False|True|False|\n",
       "|True|False|False|False|\n",
       "|False|True|True|False|\n",
       "|False|True|False|False|\n",
       "|False|False|True|False|\n",
       "|False|False|False|False|\n"
      ],
      "text/plain": [
       "<IPython.core.display.Markdown object>"
      ]
     },
     "metadata": {},
     "output_type": "display_data"
    }
   ],
   "source": [
    "table = '|a|b|c|all (a,b,c) |\\n|:-:|:-:|:-:|:-:|\\n'\n",
    "for a in [True, False]:\n",
    "    for b in [True, False] :\n",
    "        for c in [True, False] :\n",
    "            expression = all ( [a, b, c] )\n",
    "            table += '|' + str (a) + '|' + str (b) + '|' + str (c) + '|' + str (expression) + '|\\n'\n",
    "display (Markdown (table))"
   ]
  },
  {
   "cell_type": "markdown",
   "metadata": {},
   "source": [
    "### Fonction __any ()__"
   ]
  },
  {
   "cell_type": "code",
   "execution_count": 19,
   "metadata": {},
   "outputs": [
    {
     "data": {
      "text/markdown": [
       "|a|b|c|any (a,b,c) |\n",
       "|:-:|:-:|:-:|:-:|\n",
       "|True|True|True|True\n",
       "||True|True|False|True\n",
       "||True|False|True|True\n",
       "||True|False|False|True\n",
       "||False|True|True|True\n",
       "||False|True|False|True\n",
       "||False|False|True|True\n",
       "||False|False|False|False\n",
       "|"
      ],
      "text/plain": [
       "<IPython.core.display.Markdown object>"
      ]
     },
     "metadata": {},
     "output_type": "display_data"
    }
   ],
   "source": [
    "table = '|a|b|c|any (a,b,c) |\\n|:-:|:-:|:-:|:-:|\\n'\n",
    "for a in [True, False]:\n",
    "    for b in [True, False] :\n",
    "        for c in [True, False] :\n",
    "            expression = any ( [a, b, c] )\n",
    "            table += '|' + str (a) + '|' + str (b) + '|' + str (c) + '|' + str (expression) + '\\n|'\n",
    "display (Markdown (table))        "
   ]
  },
  {
   "cell_type": "markdown",
   "metadata": {
    "heading_collapsed": true
   },
   "source": [
    "## Chaînes de caractères (première partie)"
   ]
  },
  {
   "cell_type": "markdown",
   "metadata": {
    "hidden": true
   },
   "source": [
    "### Introduction minimale\n",
    "Les variables figurant à l'intérieur d'une paire d'apostrophes (') ou de guillemets (\") sont interprétées comme des _chaînes de caractères_.\n",
    "Le type d'une _chaîne de caractères_ est __str__."
   ]
  },
  {
   "cell_type": "markdown",
   "metadata": {
    "hidden": true
   },
   "source": [
    "### Formattage des nombres convertis d'une chaîne de caractère\n",
    " A l'intérieur d'une chaîne de caractère, il est permis d'évaluer la valeur d'une variable numérique et de la convertir en _chaîne de caractère_.\n",
    " La variable numérique doit figurer entre accolades et le format de représentation doit être indiqué derrière deux points (:)."
   ]
  },
  {
   "cell_type": "code",
   "execution_count": null,
   "metadata": {
    "hidden": true
   },
   "outputs": [],
   "source": [
    "s = 'Coucou'\n",
    "print (s)\n",
    "print ('le type de s est : ', type (s))"
   ]
  },
  {
   "cell_type": "markdown",
   "metadata": {
    "hidden": true
   },
   "source": [
    "Python permet la concaténation de _chaînes de caractères_ par simple utilisation des opérations __+__ et __*__ : "
   ]
  },
  {
   "cell_type": "code",
   "execution_count": null,
   "metadata": {
    "hidden": true
   },
   "outputs": [],
   "source": [
    "s = 'Coucou'\n",
    "s2 = s + s\n",
    "print (s2)"
   ]
  },
  {
   "cell_type": "code",
   "execution_count": 19,
   "metadata": {
    "hidden": true
   },
   "outputs": [
    {
     "name": "stdout",
     "output_type": "stream",
     "text": [
      "CoucouCoucouCoucou\n"
     ]
    }
   ],
   "source": [
    "s = 'Coucou'\n",
    "s3 = s * 3\n",
    "print (s3)"
   ]
  },
  {
   "cell_type": "code",
   "execution_count": 20,
   "metadata": {
    "hidden": true
   },
   "outputs": [
    {
     "name": "stdout",
     "output_type": "stream",
     "text": [
      "la valeur de l'entier n est 2\n",
      "la valeur du réel x est 23.456000, avec 6 décimales, par défaut\n",
      "la valeur du réel x est 23.46, arrondis avec 2 décimales\n",
      "la valeur du réel x est 2.35e+01, en notation ingénieur\n"
     ]
    }
   ],
   "source": [
    "# formattage d'un entier\n",
    "n = 2\n",
    "print (f'la valeur de l\\'entier n est {n:d}')\n",
    "\n",
    "x = 23.456\n",
    "print (f'la valeur du réel x est {x:f}, avec 6 décimales, par défaut')\n",
    "print (f'la valeur du réel x est {x:.2f}, arrondis avec 2 décimales')\n",
    "print (f'la valeur du réel x est {x:.2e}, en notation ingénieur')"
   ]
  },
  {
   "cell_type": "code",
   "execution_count": null,
   "metadata": {
    "hidden": true
   },
   "outputs": [],
   "source": [
    "s = 'Coucou'\n",
    "print (s[0])"
   ]
  },
  {
   "cell_type": "markdown",
   "metadata": {
    "hidden": true
   },
   "source": [
    "Les chaînes de caractères sont __non modifiables__."
   ]
  },
  {
   "cell_type": "code",
   "execution_count": null,
   "metadata": {
    "hidden": true
   },
   "outputs": [],
   "source": [
    "s = 'Coucou'\n",
    "s [0] = 'D'"
   ]
  },
  {
   "cell_type": "markdown",
   "metadata": {
    "hidden": true
   },
   "source": [
    "Toute modification d'une variable de type __str__ nécessite d'écraser sa valeur précédente :\n"
   ]
  },
  {
   "cell_type": "code",
   "execution_count": 21,
   "metadata": {
    "hidden": true
   },
   "outputs": [
    {
     "name": "stdout",
     "output_type": "stream",
     "text": [
      "Avant modification, la chaîne s contient :  Coucou\n",
      "Après modification, la chaîne s contient :  Doucou\n"
     ]
    }
   ],
   "source": [
    "s = 'Coucou'\n",
    "print ('Avant modification, la chaîne s contient : ', s)\n",
    "s = 'Doucou'\n",
    "print ('Après modification, la chaîne s contient : ', s)"
   ]
  },
  {
   "cell_type": "markdown",
   "metadata": {
    "hidden": true
   },
   "source": [
    "### Fonction len()\n",
    "La fonction __len__ permet de connaître la longueur d'une __chaîne de caractères__."
   ]
  },
  {
   "cell_type": "code",
   "execution_count": 22,
   "metadata": {
    "hidden": true
   },
   "outputs": [
    {
     "name": "stdout",
     "output_type": "stream",
     "text": [
      "7\n"
     ]
    }
   ],
   "source": [
    "print (len ('Coucou '))"
   ]
  }
 ],
 "metadata": {
  "hide_input": false,
  "kernelspec": {
   "display_name": "Python 3 (ipykernel)",
   "language": "python",
   "name": "python3"
  },
  "language_info": {
   "codemirror_mode": {
    "name": "ipython",
    "version": 3
   },
   "file_extension": ".py",
   "mimetype": "text/x-python",
   "name": "python",
   "nbconvert_exporter": "python",
   "pygments_lexer": "ipython3",
   "version": "3.12.3"
  }
 },
 "nbformat": 4,
 "nbformat_minor": 4
}
