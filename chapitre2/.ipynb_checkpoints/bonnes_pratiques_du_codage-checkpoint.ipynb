{
 "cells": [
  {
   "cell_type": "markdown",
   "metadata": {},
   "source": [
    "# Bonnes pratiques du codage"
   ]
  },
  {
   "cell_type": "markdown",
   "metadata": {},
   "source": [
    "## Lisibilité et mise en page du code\n",
    "Voici une liste non-exhaustive de conseils contribuant à améliorer la lisibilité d'un code et, partant, la facilité à y trouver une erreur de syntaxe, un dysfonctionnement, ou encore à l'étendre ou le partager."
   ]
  },
  {
   "cell_type": "markdown",
   "metadata": {},
   "source": [
    "#### En-tête de fichiers\n",
    "Pour tout nouveau fichier, ajouter une introduction descriptive en commentaire :\n",
    "- nom du programme\n",
    "- date de création\n",
    "- nom de l'auteur·rice (et adresse mail)\n",
    "- établissement ou entreprise où le programme a été développé"
   ]
  },
  {
   "cell_type": "markdown",
   "metadata": {},
   "source": [
    "#### Nommage des variables et des fonctions\n",
    "Le nom d'une variable ou d'une fonction doit clairement informer sur son rôle dans le programme.\n",
    "\n",
    "<span style=\"color:green\">Facile à lire</span>\n",
    "```python\n",
    "variable_facile_a_lire = 20/20\n",
    "```\n",
    "\n",
    "<span style=\"color:red\">A proscrire</span>\n",
    "```python\n",
    "c = 2 # c représente telle grandeur et il faudra revenir à cette ligne pour le savoir\n",
    "variableinutilementillisible = 0/20\n",
    "\n",
    "```\n",
    "---\n",
    "<span style=\"color:green\">Facile à lire</span>\n",
    "```python\n",
    "def estimation_de_telle_grandeur (mesure_truc, parametre_machin) :\n",
    "    # cette fonction calcule une estimation de telle grandeur \n",
    "    # en fonction de la mesure truc et du parametre machin\n",
    "    ...\n",
    "    return estimation\n",
    "```\n",
    "<span style=\"color:red\">A proscrire</span>\n",
    "```python\n",
    "def fonction1 (arg1, arg2) :\n",
    "    # cette fonction calcule une estimation de telle grandeur en fonction de arg1 et arg2\n",
    "    # arg1 représente la mesure truc\n",
    "    # arg2 représente le paramètre machin\n",
    "    ...\n",
    "    return output\n",
    "```\n",
    "\n"
   ]
  },
  {
   "cell_type": "markdown",
   "metadata": {},
   "source": [
    "#### Commenter le code\n",
    "Un programme convenablement structuré se présente sous la forme d'une __séquence de fonctions__ dont le nom et celui des arguments sont explicites. \n",
    "Il se lit donc comme un __pseudo-code__ qui doit pouvoir se passer de commentaire.\n",
    "\n",
    "Les commentaires doivent trouver leur place\n",
    "- au début des blocs d'instructions (délimités par des sauts de ligne) \n",
    "- à la tête du corps des fonctions : doivent figurer la description de la fonctionnalité, celles des variables d'entrées et de sortie."
   ]
  },
  {
   "cell_type": "markdown",
   "metadata": {},
   "source": [
    "#### Où mettre les espaces ? \n",
    "\n",
    "\n",
    "Utiliser des espaces pour séparer les variables des opérateurs.\n",
    "\n",
    "<span style=\"color:green\">Facile à lire</span>\n",
    "```python\n",
    "if (a + 5 < ma_fonction(arg1, arg2.method() + 4)):\n",
    "```\n",
    "<span style=\"color:red\">Moins lisible</span>\n",
    "```python\n",
    "if a+5<ma_fonction(arg1,arg2.method()+ 4):\n",
    "```\n"
   ]
  },
  {
   "cell_type": "markdown",
   "metadata": {},
   "source": [
    "#### Où placer des sauts de lignes ?\n",
    "Il est impératif de sauter une ligne __entre différentes fonctions__.\n",
    "\n",
    "Les sauts de lignes permettent de regrouper les instructions en __blocs cohérents__.\n",
    "\n",
    "En revanche, sauter plusieurs lignes risque de morceler le code et nuire à sa lisibilité."
   ]
  },
  {
   "cell_type": "markdown",
   "metadata": {},
   "source": [
    "## PEP 8 – Style Guide for Python Code\n",
    "\n",
    "Une description exhaustive des conventions de codage en Python est accessible [ici](https://peps.python.org/pep-0008/)"
   ]
  }
 ],
 "metadata": {
  "hide_input": false,
  "kernelspec": {
   "display_name": "Python 3 (ipykernel)",
   "language": "python",
   "name": "python3"
  },
  "language_info": {
   "codemirror_mode": {
    "name": "ipython",
    "version": 3
   },
   "file_extension": ".py",
   "mimetype": "text/x-python",
   "name": "python",
   "nbconvert_exporter": "python",
   "pygments_lexer": "ipython3",
   "version": "3.9.16"
  }
 },
 "nbformat": 4,
 "nbformat_minor": 4
}
