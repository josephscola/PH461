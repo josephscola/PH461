{
 "cells": [
  {
   "cell_type": "markdown",
   "metadata": {},
   "source": [
    "# Fonctions"
   ]
  },
  {
   "cell_type": "markdown",
   "metadata": {},
   "source": [
    "Un des enjeux de la programmation est la décomposition d'une procédure complexe en une cascade de sous-procédures de plus en plus simples.\n",
    "On appelle parfois ces sous-procédures des _routines_ du fait qu'elles sont tellement élémentaires que l'on fait régulièrement appelle à elles.\n",
    "\n",
    "Par exemple :\n",
    "La procédure \"__Se lever le matin__\" peut se décomposer de la façon suivante :\n",
    "\n",
    "- __definition__ de __Se lever le matin__ :\n",
    "    - __Initialiser__ le processeur\n",
    "    - heure_courante = __Lecture__ de l'affichage du réveil\n",
    "    - __Si__ heure_courante < heure_de_se_lever : __Ne rien faire__\n",
    "    - __Sinon__ : \n",
    "    - __Si__ _soi_ est recouvert d'une couverture: \n",
    "        - __Retrait__ de la couverture\n",
    "    - __Fin bloc si__\n",
    "    - __Se redresser__\n",
    "    - pied_a_bouger = __Identifier__ le pied le plus proche du bord du lit\n",
    "    - __Poser par terre__ pied_a_bouger \n",
    "    - __Poser par terre__ ensemble_des_pieds - pied_a_bouger \n",
    "    - __Contrôle de stabilité bipédique__\n",
    "    - __Atteindre la station bipédique__\n",
    "    - __Fin de la procédure__"
   ]
  },
  {
   "cell_type": "markdown",
   "metadata": {},
   "source": [
    "Chaque instruction peut être elle aussi une procédure ou une fonction. Par exemple :\n",
    "> __definition__ de __Lecture__ (chose_a_lire) :\n",
    ">> __Si__ les yeux sont fermés :__Ouvrir les yeux__\\\n",
    "__Localisation__ de la position relative de chose_a_lire \\\n",
    "heure_lue = __Lecture__ d'une chaîne de caractère au format \"hh : mm\"\\\n",
    "__Retourne__ heure_lue\\\n",
    "__Fin de la fonction__"
   ]
  },
  {
   "cell_type": "markdown",
   "metadata": {},
   "source": [
    "### Arguments d'une procédure ou d'une fonction\n",
    "Ces procédures font intervenir des paramètres qui permettent de tenir compte du contexte d'exécution.\n",
    "Ces paramètres sont appelés les _arguments_ de la procédure."
   ]
  },
  {
   "cell_type": "markdown",
   "metadata": {},
   "source": [
    "### Procédure ou fonction ?\n",
    "_Remarque_ : certains langages de programmation distinguent les _fonctions_ des _procédures_ suivant qu'une variable est retournée ou non.  \n",
    "Python rassemble les deux sous le nom de _fonction_ et propose une type de variable vide pour marquer l'absence de valeur retournées par une _procédure_.\n",
    "- _Procédure_ : séquence d'instructions paramétrées par à des arguments et retournant une variable de type __None__.\n",
    "- _Fonction_ : séquence d'instructions paramétrées par à des arguments et retournant une ou plusieurs variable de tout type (sauf None).\n"
   ]
  },
  {
   "cell_type": "markdown",
   "metadata": {},
   "source": [
    "Attention, un même programme peut être découpé de nombreuses façons différentes.\n",
    "C'est précisément dans cette décomposition que réside la valeur ajoutée de l'auteur·rice du programme.\n",
    "Les critères présidant à ces choix incluent \n",
    "- la consommation en ressources (processeur, mémoire), \n",
    "- le temps de développement, \n",
    "- la lisibilité du code\n",
    "- le degré de modularité (partage, extension, ...) du code."
   ]
  },
  {
   "cell_type": "markdown",
   "metadata": {},
   "source": [
    "```python\n",
    "# Syntaxe Python d'une fonction\n",
    "def nom_de_la_fonction (argument1, argument2, argument3, ...) :\n",
    "    instruction1\n",
    "    instruction2\n",
    "    instruction3\n",
    "    ...\n",
    "    return output\n",
    "```"
   ]
  },
  {
   "cell_type": "markdown",
   "metadata": {},
   "source": [
    "### Premières fonctions"
   ]
  },
  {
   "cell_type": "code",
   "execution_count": null,
   "metadata": {},
   "outputs": [],
   "source": [
    "def incrementor (n):\n",
    "    output = n+1\n",
    "    return output\n",
    "\n",
    "def printcoucou ():\n",
    "    print ('Coucou')\n",
    "    return None"
   ]
  },
  {
   "cell_type": "code",
   "execution_count": null,
   "metadata": {},
   "outputs": [],
   "source": [
    "# Appel des fonctions\n",
    "\n",
    "var = 11\n",
    "new_var = incrementor (var)\n",
    "print (new_var)\n",
    "printcoucou ()"
   ]
  },
  {
   "cell_type": "markdown",
   "metadata": {},
   "source": [
    "Ces deux fonctions illustrent un principe important de la programmation :"
   ]
  },
  {
   "cell_type": "markdown",
   "metadata": {},
   "source": [
    "> <span style=\"color:red\">__Ce n'est pas parce qu'une fonction renvoit un résultat qu'elle sert à quelque chose.__ </span>"
   ]
  },
  {
   "cell_type": "markdown",
   "metadata": {},
   "source": [
    "### Variables locales ?"
   ]
  },
  {
   "cell_type": "markdown",
   "metadata": {},
   "source": [
    "Les variables d'une fonctions sont indépendantes des variables du programme appelant la fonction.\n",
    "Elle peuvent porter le même nom et rester distinctes.\n",
    "On qualifie ces variables de **locales** parce qu'elles sont détruites à la fin de l'exécution de la fonction.\n",
    "Seules les variables de sorties sont transmises au programme principal."
   ]
  },
  {
   "cell_type": "code",
   "execution_count": null,
   "metadata": {},
   "outputs": [],
   "source": [
    "def multiplicator (x1, x2) : # les variables de la fonction portent le même nom que dans le programme appelant\n",
    "    x1 *= x2 #la variable locale x1 est modifiée\n",
    "    return x1\n",
    "\n",
    "x1 = 2\n",
    "x2 = 3\n",
    "x3 = multiplicator (x1, x2) \n",
    "print ('x1 =', x1) # la variable x1 n'est pas modifiée par l'exécution de la fonction\n",
    "print ('x3 =', x3)"
   ]
  },
  {
   "cell_type": "markdown",
   "metadata": {},
   "source": [
    "Il en va de même pour les tuples qui sont des conteneurs non modifiables."
   ]
  },
  {
   "cell_type": "code",
   "execution_count": null,
   "metadata": {},
   "outputs": [],
   "source": [
    "def concatenator (x1, x2) :\n",
    "    x1 += x2 #la variable locale x1 est modifiée\n",
    "    return x1\n",
    "\n",
    "x1 = (1, 2, 3)\n",
    "x2 = (4, 5, 6)\n",
    "x3 = concatenator (x1, x2)\n",
    "print ('x1 =', x1)\n",
    "print ('x3 =', x3)"
   ]
  },
  {
   "cell_type": "markdown",
   "metadata": {},
   "source": [
    "Lorsque des conteneurs modifiables comme des listes ou des dictionnaires sont passées en argument d'une fonction, elles ne sont pas dupliquées lors de l'exécution de la fonction.\n",
    "Par conséquent, les modifications dans une fonction sont conservées dans le programme principale."
   ]
  },
  {
   "cell_type": "code",
   "execution_count": null,
   "metadata": {},
   "outputs": [],
   "source": [
    "x1 = [1, 2, 3]\n",
    "x2 = [4, 5, 6]\n",
    "x3 = concatenator (x1, x2)\n",
    "print ('x1 =: ', x1)\n",
    "print ('x3: ', x3)"
   ]
  },
  {
   "cell_type": "code",
   "execution_count": null,
   "metadata": {},
   "outputs": [],
   "source": [
    "def dictionary_merger (x1, x2):\n",
    "    x1 |= x2\n",
    "    return x1\n",
    "\n",
    "x1 = {'janvier': 31, 'fevrier': 28, 'mars': 31, 'avril': 30}\n",
    "x2 = {'mai': 31, 'juin': 30, 'juillet': 31, 'aout': 31, 'fevrier': 29}\n",
    "x3 = dictionary_merger (x1, x2)\n",
    "print(x1)\n",
    "print(x3)"
   ]
  },
  {
   "cell_type": "markdown",
   "metadata": {},
   "source": [
    "La fonction suivante illustre les inconvénients susceptibles de survenir en cas de modification d'une liste dans une fonction."
   ]
  },
  {
   "cell_type": "code",
   "execution_count": null,
   "metadata": {},
   "outputs": [],
   "source": [
    "def index_of_elem_in_list (liste, elem):\n",
    "    if elem not in liste:\n",
    "        output = -1\n",
    "    else:\n",
    "        output = 0\n",
    "        while liste[0] != elem and len (liste) > 0:\n",
    "            liste.pop(0)\n",
    "            output += 1\n",
    "            # print (f'itération {output} : ', liste) # décommenter pour voir afficher l'état de la liste à chaque itération\n",
    "    return output\n",
    "\n",
    "X = [1, 2, 3, 4, 5, 6, 7, 8, 9]\n",
    "elem = 8\n",
    "print ('etat de la liste X avant appel de la fonction:\\n', X)\n",
    "print (f'l\\'indice de {elem:d} dans X est : {index_of_elem_in_list (X, elem)}')\n",
    "print ('etat de la liste X après appel de la fonction:\\n', X)"
   ]
  }
 ],
 "metadata": {
  "hide_input": false,
  "kernelspec": {
   "display_name": "Python 3 (ipykernel)",
   "language": "python",
   "name": "python3"
  },
  "language_info": {
   "codemirror_mode": {
    "name": "ipython",
    "version": 3
   },
   "file_extension": ".py",
   "mimetype": "text/x-python",
   "name": "python",
   "nbconvert_exporter": "python",
   "pygments_lexer": "ipython3",
   "version": "3.9.16"
  }
 },
 "nbformat": 4,
 "nbformat_minor": 4
}
