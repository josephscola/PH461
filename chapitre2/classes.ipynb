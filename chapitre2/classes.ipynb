{
 "cells": [
  {
   "cell_type": "markdown",
   "metadata": {},
   "source": [
    "# Classes"
   ]
  },
  {
   "cell_type": "markdown",
   "metadata": {},
   "source": [
    "Les classes sont les structures sur lesquelles s'appuie la programmation par _objet_.\n",
    "Une classe rassemble:\n",
    "- des variables appelées _attributs_\n",
    "- des fonctions appelées _méthodes_ qui ont un accès direct aux _attributs_ de la classe.\n",
    "\n",
    "Une variable dont le type est une classe est appelée une _instance_ de cette classe."
   ]
  },
  {
   "cell_type": "markdown",
   "metadata": {},
   "source": [
    "```python\n",
    "# Syntaxe Python de la définition d'une class\n",
    "class nom_de_la_classe :\n",
    "    def __init__ (self, var1, var2, var3, ...):  # constructeur de la classe\n",
    "        self.variable1 = var1 # variable1 = attribut de la classe; var1 = variable locale\n",
    "        self.variable2 = var2\n",
    "        self.variable3 = var3  \n",
    "        # pas d'instruction return\n",
    "      \n",
    "    def methode1 (self, arg1, arg2, ...): #définition des fonctions de la classe ou méthodes\n",
    "        ...\n",
    "        return resultat1\n",
    "    \n",
    "```"
   ]
  },
  {
   "cell_type": "markdown",
   "metadata": {},
   "source": [
    "### Exemple d'une classe COMPLEXE"
   ]
  },
  {
   "cell_type": "code",
   "execution_count": 1,
   "metadata": {},
   "outputs": [],
   "source": [
    "class COMPLEXE :\n",
    "    mod = -1\n",
    "    def __init__ (self, real, imag) :\n",
    "        self.real = real\n",
    "        self.imag = imag\n",
    "            \n",
    "    def conjugate (self):\n",
    "        return COMPLEXE (self.real, -self.imag)\n",
    "    \n",
    "    def modulus (self):\n",
    "        modulus = (self.real ** 2 + self.imag ** 2)**0.5\n",
    "        self.mod = modulus\n",
    "        return modulus\n",
    "    \n",
    "    def C2string (self):\n",
    "        # n nombre de chiffres décimaux\n",
    "        if self.imag < 0:\n",
    "            string = f'{self.real:.3f} - {-self.imag:.3f}i'\n",
    "        else:\n",
    "            string = f'{self.real:.3f} + {self.imag:.3f}i'\n",
    "        return string"
   ]
  },
  {
   "cell_type": "code",
   "execution_count": 2,
   "metadata": {},
   "outputs": [
    {
     "name": "stdout",
     "output_type": "stream",
     "text": [
      "z1 =  1.000 + 2.000i\n",
      "z2 = conj (z1) = 1.000 - 2.000i\n",
      "-1\n"
     ]
    }
   ],
   "source": [
    "z1 = COMPLEXE (1, 2)\n",
    "print ('z1 = ', z1.C2string ())\n",
    "\n",
    "z2 = z1.conjugate ()\n",
    "print ('z2 = conj (z1) = ' + z2.C2string ())\n",
    "\n",
    "\n",
    "print (z1.mod)\n",
    "#z1.modulus ()\n"
   ]
  },
  {
   "cell_type": "code",
   "execution_count": null,
   "metadata": {},
   "outputs": [],
   "source": []
  }
 ],
 "metadata": {
  "hide_input": false,
  "kernelspec": {
   "display_name": "Python 3 (ipykernel)",
   "language": "python",
   "name": "python3"
  },
  "language_info": {
   "codemirror_mode": {
    "name": "ipython",
    "version": 3
   },
   "file_extension": ".py",
   "mimetype": "text/x-python",
   "name": "python",
   "nbconvert_exporter": "python",
   "pygments_lexer": "ipython3",
   "version": "3.9.16"
  }
 },
 "nbformat": 4,
 "nbformat_minor": 4
}
