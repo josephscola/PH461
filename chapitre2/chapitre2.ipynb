{
 "cells": [
  {
   "cell_type": "markdown",
   "metadata": {},
   "source": [
    "# Fonctions"
   ]
  },
  {
   "cell_type": "markdown",
   "metadata": {},
   "source": [
    "Un des enjeux de la programmation est la décomposition d'une procédure complexe en une cascade de sous-procédures de plus en plus simples.\n",
    "On appelle parfois ces sous-procédures des _routines_ du fait qu'elles sont tellement élémentaires que l'on fait régulièrement appelle à elles.\n",
    "\n",
    "Par exemple :\n",
    "La procédure \"__Se lever le matin__\" peut se décomposer de la façon suivante :\n",
    "\n",
    "- __definition__ de __Se lever le matin__ :\n",
    "    - __Initialiser__ le processeur\n",
    "    - heure_courante = __Lecture__ de l'affichage du réveil\n",
    "    - __Si__ heure_courante < heure_de_se_lever : __Ne rien faire__\n",
    "    - __Sinon__ : \n",
    "    - __Si__ _soi_ est recouvert d'une couverture: \n",
    "        - __Retrait__ de la couverture\n",
    "    - __Fin bloc si__\n",
    "    - __Se redresser__\n",
    "    - pied_a_bouger = __Identifier__ le pied le plus proche du bord du lit\n",
    "    - __Poser par terre__ pied_a_bouger \n",
    "    - __Poser par terre__ ensemble_des_pieds - pied_a_bouger \n",
    "    - __Contrôle de stabilité bipédique__\n",
    "    - __Atteindre la station bipédique__\n",
    "    - __Fin de la procédure__"
   ]
  },
  {
   "cell_type": "markdown",
   "metadata": {},
   "source": [
    "Chaque instruction peut être elle aussi une procédure ou une fonction. Par exemple :\n",
    "> __definition__ de __Lecture__ (chose_a_lire) :\n",
    ">> __Si__ les yeux sont fermés :__Ouvrir les yeux__\\\n",
    "__Localisation__ de la position relative de chose_a_lire \\\n",
    "heure_lue = __Lecture__ d'une chaîne de caractère au format \"hh : mm\"\\\n",
    "__Retourne__ heure_lue\\\n",
    "__Fin de la fonction__"
   ]
  },
  {
   "cell_type": "markdown",
   "metadata": {},
   "source": [
    "### Arguments d'une procédure ou d'une fonction\n",
    "Ces procédures font intervenir des paramètres qui permettent de tenir compte du contexte d'exécution.\n",
    "Ces paramètres sont appelés les _arguments_ de la procédure."
   ]
  },
  {
   "cell_type": "markdown",
   "metadata": {},
   "source": [
    "### Procédure ou fonction ?\n",
    "_Remarque_ : certains langages de programmation distinguent les _fonctions_ des _procédures_ suivant qu'une variable est retournée ou non.  \n",
    "Python rassemble les deux sous le nom de _fonction_ et propose une type de variable vide pour marquer l'absence de valeur retournées par une _procédure_.\n",
    "- _Procédure_ : séquence d'instructions paramétrées par à des arguments et retournant une variable de type __None__.\n",
    "- _Fonction_ : séquence d'instructions paramétrées par à des arguments et retournant une ou plusieurs variable de tout type (sauf None).\n"
   ]
  },
  {
   "cell_type": "markdown",
   "metadata": {},
   "source": [
    "Attention, un même programme peut être découpé de nombreuses façons différentes.\n",
    "C'est précisément dans cette décomposition que réside la valeur ajoutée de l'auteur·rice du programme.\n",
    "Les critères présidant à ces choix incluent \n",
    "- la consommation en ressources (processeur, mémoire), \n",
    "- le temps de développement, \n",
    "- la lisibilité du code\n",
    "- le degré de modularité (partage, extension, ...) du code."
   ]
  },
  {
   "cell_type": "markdown",
   "metadata": {},
   "source": [
    "```python\n",
    "# Syntaxe Python d'une fonction\n",
    "def nom_de_la_fonction (argument1, argument2, argument3, ...) :\n",
    "    instruction1\n",
    "    instruction2\n",
    "    instruction3\n",
    "    ...\n",
    "    return output\n",
    "```"
   ]
  },
  {
   "cell_type": "markdown",
   "metadata": {},
   "source": [
    "### Première fonction, première procédure"
   ]
  },
  {
   "cell_type": "code",
   "execution_count": 1,
   "metadata": {},
   "outputs": [],
   "source": [
    "# première fonction\n",
    "def incrementor (n):\n",
    "    output = n+1\n",
    "    return output\n",
    "\n",
    "# première procédure\n",
    "def printcoucou ():\n",
    "    print ('Coucou')\n",
    "    return None"
   ]
  },
  {
   "cell_type": "code",
   "execution_count": 2,
   "metadata": {},
   "outputs": [
    {
     "name": "stdout",
     "output_type": "stream",
     "text": [
      "12\n",
      "Coucou\n"
     ]
    }
   ],
   "source": [
    "# Appel des fonctions et procédures\n",
    "\n",
    "var = 11\n",
    "new_var = incrementor (var)\n",
    "print (new_var)\n",
    "printcoucou ()"
   ]
  },
  {
   "cell_type": "markdown",
   "metadata": {},
   "source": [
    "Ces deux fonctions illustrent un principe important de la programmation :"
   ]
  },
  {
   "cell_type": "markdown",
   "metadata": {},
   "source": [
    "> <span style=\"color:red\">__Ce n'est pas parce qu'une fonction renvoit un résultat qu'elle sert à quelque chose.__ </span>"
   ]
  },
  {
   "cell_type": "markdown",
   "metadata": {},
   "source": [
    "### Variables locales ?"
   ]
  },
  {
   "cell_type": "markdown",
   "metadata": {},
   "source": [
    "Les variables d'une fonctions sont indépendantes des variables du programme appelant la fonction.\n",
    "Elle peuvent porter le même nom et rester distinctes.\n",
    "\n",
    "<div class=\"alert alert-block alert-info\">\n",
    "On qualifie ces variables de <b>locales</b> parce qu'elles sont détruites à la fin de l'exécution de la fonction.\n",
    "Seules les variables de sorties sont transmises au programme principal.\n",
    "\n",
    "</div>"
   ]
  },
  {
   "cell_type": "code",
   "execution_count": 73,
   "metadata": {},
   "outputs": [
    {
     "name": "stdout",
     "output_type": "stream",
     "text": [
      "x1 = 2\n",
      "x3 = 6\n"
     ]
    }
   ],
   "source": [
    "def multiplicator (x1, x2) : # les variables de la fonction portent le même nom que dans le programme appelant\n",
    "    x1 *= x2 #la variable locale x1 est modifiée\n",
    "    return x1\n",
    "\n",
    "x1 = 2\n",
    "x2 = 3\n",
    "x3 = multiplicator (x1, x2) \n",
    "print ('x1 =', x1) # la variable x1 n'est pas modifiée par l'exécution de la fonction\n",
    "print ('x3 =', x3)"
   ]
  },
  {
   "cell_type": "markdown",
   "metadata": {},
   "source": [
    "Il en va de même pour les tuples qui sont des conteneurs non modifiables."
   ]
  },
  {
   "cell_type": "code",
   "execution_count": 10,
   "metadata": {},
   "outputs": [
    {
     "name": "stdout",
     "output_type": "stream",
     "text": [
      "x1 = (1, 2, 3)\n",
      "x3 = (1, 2, 3, 4, 5, 6)\n"
     ]
    }
   ],
   "source": [
    "def concatenator (x1, x2) :\n",
    "    x1 += x2 #la variable locale x1 est modifiée\n",
    "    return x1\n",
    "\n",
    "x1 = (1, 2, 3)\n",
    "x2 = (4, 5, 6)\n",
    "x3 = concatenator (x1, x2)\n",
    "print ('x1 =', x1)\n",
    "print ('x3 =', x3)"
   ]
  },
  {
   "cell_type": "markdown",
   "metadata": {},
   "source": [
    "Lorsque des conteneurs modifiables comme des listes ou des dictionnaires sont passées en argument d'une fonction, elles ne sont pas dupliquées lors de l'exécution de la fonction.\n",
    "Par conséquent, les modifications dans une fonction sont conservées dans le programme principale."
   ]
  },
  {
   "cell_type": "code",
   "execution_count": 11,
   "metadata": {},
   "outputs": [
    {
     "name": "stdout",
     "output_type": "stream",
     "text": [
      "x1 =:  [1, 2, 3, 4, 5, 6]\n",
      "x3:  [1, 2, 3, 4, 5, 6]\n"
     ]
    }
   ],
   "source": [
    "x1 = [1, 2, 3]\n",
    "x2 = [4, 5, 6]\n",
    "x3 = concatenator (x1, x2)\n",
    "print ('x1 =: ', x1)\n",
    "print ('x3: ', x3)"
   ]
  },
  {
   "cell_type": "markdown",
   "metadata": {},
   "source": [
    "<span style=\"color:red\">Syntaxe risquée</span>"
   ]
  },
  {
   "cell_type": "code",
   "execution_count": 14,
   "metadata": {},
   "outputs": [
    {
     "name": "stdout",
     "output_type": "stream",
     "text": [
      "{'janvier': 31, 'fevrier': 29, 'mars': 31, 'avril': 30, 'mai': 31, 'juin': 30, 'juillet': 31, 'aout': 31}\n",
      "{'janvier': 31, 'fevrier': 29, 'mars': 31, 'avril': 30, 'mai': 31, 'juin': 30, 'juillet': 31, 'aout': 31}\n"
     ]
    }
   ],
   "source": [
    "def dictionary_merger (x1, x2):\n",
    "    x1 |= x2\n",
    "    return x1\n",
    "\n",
    "x1 = {'janvier': 31, 'fevrier': 28, 'mars': 31, 'avril': 30}\n",
    "x2 = {'mai': 31, 'juin': 30, 'juillet': 31, 'aout': 31, 'fevrier': 29}\n",
    "x3 = dictionary_merger (x1, x2)\n",
    "print(x1)\n",
    "print(x3)"
   ]
  },
  {
   "cell_type": "markdown",
   "metadata": {},
   "source": [
    "<span style=\"color:green\">Syntaxe sure</span> (créer une nouvelle variable dans la fonction)"
   ]
  },
  {
   "cell_type": "code",
   "execution_count": 16,
   "metadata": {},
   "outputs": [
    {
     "name": "stdout",
     "output_type": "stream",
     "text": [
      "{'janvier': 31, 'fevrier': 28, 'mars': 31, 'avril': 30}\n",
      "{'janvier': 31, 'fevrier': 29, 'mars': 31, 'avril': 30, 'mai': 31, 'juin': 30, 'juillet': 31, 'aout': 31}\n"
     ]
    }
   ],
   "source": [
    "def dictionary_merger (x1, x2):\n",
    "    output = x1 | x2\n",
    "    return output\n",
    "\n",
    "x1 = {'janvier': 31, 'fevrier': 28, 'mars': 31, 'avril': 30}\n",
    "x2 = {'mai': 31, 'juin': 30, 'juillet': 31, 'aout': 31, 'fevrier': 29}\n",
    "x3 = dictionary_merger (x1, x2)\n",
    "print(x1)\n",
    "print(x3)"
   ]
  },
  {
   "cell_type": "markdown",
   "metadata": {},
   "source": [
    "La fonction suivante illustre les inconvénients susceptibles de survenir en cas de modification d'une liste dans une fonction."
   ]
  },
  {
   "cell_type": "code",
   "execution_count": 24,
   "metadata": {},
   "outputs": [
    {
     "name": "stdout",
     "output_type": "stream",
     "text": [
      "etat de la liste X avant appel de la fonction:\n",
      " [1, 2, 8, 4, 5, 6, 7, 8, 9]\n",
      "Indice·s de 8 dans X : (2, 7)\n",
      "Etat de la liste X après appel de la fonction:\n",
      " []\n"
     ]
    }
   ],
   "source": [
    "def index_of_elem_in_list (liste, elem):\n",
    "    N = len(liste)\n",
    "    if elem not in liste:\n",
    "        output = -1\n",
    "    else:\n",
    "        output = ()\n",
    "        i = 0\n",
    "        for i in range (N):\n",
    "            if liste[0] == elem:\n",
    "                output += (i,)\n",
    "            liste.pop(0)\n",
    "            # print (f'itération {i:d} : ', liste) # décommenter pour voir afficher l'état de la liste à chaque itération\n",
    "    return output\n",
    "\n",
    "X = [1, 2, 8, 4, 5, 6, 7, 8, 9]\n",
    "elem = 8\n",
    "print ('etat de la liste X avant appel de la fonction:\\n', X)\n",
    "print (f'Indice·s de {elem:d} dans X : {index_of_elem_in_list (X, elem)}')\n",
    "print ('Etat de la liste X après appel de la fonction:\\n', X)"
   ]
  },
  {
   "cell_type": "markdown",
   "metadata": {},
   "source": [
    "# Classes"
   ]
  },
  {
   "cell_type": "markdown",
   "metadata": {},
   "source": [
    "Les classes sont les structures sur lesquelles s'appuie la programmation par _objet_.\n",
    "Une classe rassemble:\n",
    "- des variables appelées _attributs_\n",
    "- des fonctions appelées _méthodes_ qui ont un accès direct aux _attributs_ de la classe.\n",
    "\n",
    "Une variable dont le type est une classe est appelée une _instance_ de cette classe."
   ]
  },
  {
   "cell_type": "markdown",
   "metadata": {},
   "source": [
    "```python\n",
    "# Syntaxe Python de la définition d'une class\n",
    "class nom_de_la_classe :\n",
    "    def __init__ (self, var1, var2, var3, ...):  # constructeur de la classe\n",
    "        self.variable1 = var1 # variable1 = attribut de la classe; var1 = variable locale\n",
    "        self.variable2 = var2\n",
    "        self.variable3 = var3  \n",
    "        # pas d'instruction return\n",
    "      \n",
    "    def methode1 (self, arg1, arg2, ...): #définition des fonctions de la classe ou méthodes\n",
    "        ...\n",
    "        return resultat1\n",
    "    \n",
    "```"
   ]
  },
  {
   "cell_type": "markdown",
   "metadata": {},
   "source": [
    "### Exemple d'une classe COMPLEXE"
   ]
  },
  {
   "cell_type": "code",
   "execution_count": 55,
   "metadata": {},
   "outputs": [],
   "source": [
    "class COMPLEXE :\n",
    "    mod = -1\n",
    "    def __init__ (self, real, imag) :\n",
    "        self.real = real\n",
    "        self.imag = imag\n",
    "            \n",
    "    def conjugate (self):\n",
    "        return COMPLEXE (self.real, -self.imag)\n",
    "    \n",
    "    def modulus (self):\n",
    "        modulus = (self.real ** 2 + self.imag ** 2)**0.5\n",
    "        self.mod = modulus\n",
    "        return modulus"
   ]
  },
  {
   "cell_type": "code",
   "execution_count": 56,
   "metadata": {},
   "outputs": [
    {
     "name": "stdout",
     "output_type": "stream",
     "text": [
      "2.23606797749979\n",
      "2.23606797749979\n"
     ]
    }
   ],
   "source": [
    "z1 = COMPLEXE (1, 2)\n",
    "\n",
    "z2 = z1.conjugate ()\n",
    "\n",
    "print (z1.modulus())\n",
    "print (z2.modulus())\n"
   ]
  },
  {
   "cell_type": "markdown",
   "metadata": {},
   "source": [
    "La commande **dir** appliquée à l'instance d'une classe renvoie la liste des attributs de la classe."
   ]
  },
  {
   "cell_type": "code",
   "execution_count": 57,
   "metadata": {},
   "outputs": [
    {
     "data": {
      "text/plain": [
       "['__class__',\n",
       " '__delattr__',\n",
       " '__dict__',\n",
       " '__dir__',\n",
       " '__doc__',\n",
       " '__eq__',\n",
       " '__format__',\n",
       " '__ge__',\n",
       " '__getattribute__',\n",
       " '__gt__',\n",
       " '__hash__',\n",
       " '__init__',\n",
       " '__init_subclass__',\n",
       " '__le__',\n",
       " '__lt__',\n",
       " '__module__',\n",
       " '__ne__',\n",
       " '__new__',\n",
       " '__reduce__',\n",
       " '__reduce_ex__',\n",
       " '__repr__',\n",
       " '__setattr__',\n",
       " '__sizeof__',\n",
       " '__str__',\n",
       " '__subclasshook__',\n",
       " '__weakref__',\n",
       " 'conjugate',\n",
       " 'imag',\n",
       " 'mod',\n",
       " 'modulus',\n",
       " 'real']"
      ]
     },
     "execution_count": 57,
     "metadata": {},
     "output_type": "execute_result"
    }
   ],
   "source": [
    "dir (z1)"
   ]
  },
  {
   "cell_type": "code",
   "execution_count": 58,
   "metadata": {},
   "outputs": [
    {
     "data": {
      "text/plain": [
       "32"
      ]
     },
     "execution_count": 58,
     "metadata": {},
     "output_type": "execute_result"
    }
   ],
   "source": [
    "z1.__sizeof__()"
   ]
  },
  {
   "cell_type": "code",
   "execution_count": 60,
   "metadata": {},
   "outputs": [
    {
     "data": {
      "text/plain": [
       "NotImplemented"
      ]
     },
     "execution_count": 60,
     "metadata": {},
     "output_type": "execute_result"
    }
   ],
   "source": [
    "z1.__ge__(z2)"
   ]
  },
  {
   "cell_type": "code",
   "execution_count": 64,
   "metadata": {},
   "outputs": [],
   "source": [
    "class COMPLEXE :\n",
    "    mod = -1\n",
    "    def __init__ (self, real, imag) :\n",
    "        self.real = real\n",
    "        self.imag = imag\n",
    "            \n",
    "    def conjugate (self):\n",
    "        return COMPLEXE (self.real, -self.imag)\n",
    "    \n",
    "    def modulus (self):\n",
    "        modulus = (self.real ** 2 + self.imag ** 2)**0.5\n",
    "        self.mod = modulus\n",
    "        return modulus\n",
    "    \n",
    "    def __str__ (self):\n",
    "        # n nombre de chiffres décimaux\n",
    "        if self.imag < 0:\n",
    "            string = f'{self.real:.3f} - {-self.imag:.3f}i'\n",
    "        else:\n",
    "            string = f'{self.real:.3f} + {self.imag:.3f}i'\n",
    "        return string\n",
    "    \n",
    "    def __ge__(self, other):\n",
    "        return self.modulus() >= other.modulus()"
   ]
  },
  {
   "cell_type": "code",
   "execution_count": 65,
   "metadata": {},
   "outputs": [],
   "source": [
    "z1 = COMPLEXE (1, 2)\n",
    "z2 = COMPLEXE (0,2)"
   ]
  },
  {
   "cell_type": "code",
   "execution_count": 66,
   "metadata": {},
   "outputs": [
    {
     "data": {
      "text/plain": [
       "True"
      ]
     },
     "execution_count": 66,
     "metadata": {},
     "output_type": "execute_result"
    }
   ],
   "source": [
    "z1.__ge__(z2)"
   ]
  },
  {
   "cell_type": "code",
   "execution_count": 67,
   "metadata": {},
   "outputs": [
    {
     "data": {
      "text/plain": [
       "True"
      ]
     },
     "execution_count": 67,
     "metadata": {},
     "output_type": "execute_result"
    }
   ],
   "source": [
    "z1 >= z2"
   ]
  },
  {
   "cell_type": "code",
   "execution_count": 68,
   "metadata": {},
   "outputs": [
    {
     "name": "stdout",
     "output_type": "stream",
     "text": [
      "1.000 + 2.000i\n"
     ]
    }
   ],
   "source": [
    "print(z1)"
   ]
  },
  {
   "cell_type": "markdown",
   "metadata": {},
   "source": [
    "## Modules"
   ]
  },
  {
   "cell_type": "markdown",
   "metadata": {},
   "source": [
    "Les modules sont également désignés par le terme de __bibliothèques__ (_library_ en anglais) qui illustre parfaitement l'usage qui en est fait : on consulte la documentation des fonctions disponibles et on emprunte les fonctions nécessaires.\n",
    "La force du langage Python réside dans l'ouverture de ses bibliothèques : une multitude de contributeurs·rices met à disposition de toutes et tous les modules qu'ils ou elles développent. \n",
    "La communauté Python est très active et la plupart des bibliothèques bénéficient d'une maintenance régulière qui garantie la fiabilité.\n",
    "En conséquence, si une fonction a déjà été écrite, il est très fortement déconseillé de la réécrire (puisque dans le meilleur des cas, elle ne serait qu'aussi bien)."
   ]
  },
  {
   "cell_type": "markdown",
   "metadata": {},
   "source": [
    "Pour qu'une fonction puisse être appelée par un programme, il faut que l'interpréteur y ait accès, c'est-à-dire :\n",
    "- que le fichier contenant le script de la fonction soit stocké localement (installation du module)\n",
    "- que le module contenant la fonction soit inclus dans les instructions à interpréter (importation du module)"
   ]
  },
  {
   "cell_type": "markdown",
   "metadata": {},
   "source": [
    "#### Création du module PH461 en TP"
   ]
  },
  {
   "cell_type": "markdown",
   "metadata": {},
   "source": [
    "1. Créer un fichier texte vierge intitulé PH461.py dans le répertoire PH461/TD1 (celui du notebook du TD1)\n",
    "2. Copier les fonctions du TD dans le fichier PH461.py\n",
    "3. Importer les fonctions du modules dans un script ou ue cellule de notebook par la commande __import__ :"
   ]
  },
  {
   "cell_type": "markdown",
   "metadata": {},
   "source": [
    "Contenu du fichier PH461_module_test.py :"
   ]
  },
  {
   "cell_type": "code",
   "execution_count": 1,
   "metadata": {},
   "outputs": [],
   "source": [
    "def incrementor (n):\n",
    "    output = n+1\n",
    "    return output\n",
    "\n",
    "def printcoucou ():\n",
    "    print ('Coucou')\n",
    "    return None"
   ]
  },
  {
   "cell_type": "markdown",
   "metadata": {},
   "source": [
    "Dans le programme principal, l'emplacement du module personnel doit être ajouté à la liste des emplacements où l'interpréteur va rechercher les modules à importer."
   ]
  },
  {
   "cell_type": "code",
   "execution_count": 2,
   "metadata": {},
   "outputs": [],
   "source": [
    "import sys\n",
    "sys.path.insert (0,'/home/scola/ENSEIGNEMENT/S4-Ph461/modules/')"
   ]
  },
  {
   "cell_type": "markdown",
   "metadata": {},
   "source": [
    "Importation du module"
   ]
  },
  {
   "cell_type": "code",
   "execution_count": 3,
   "metadata": {},
   "outputs": [],
   "source": [
    "import PH461_module_demo as PH461"
   ]
  },
  {
   "cell_type": "markdown",
   "metadata": {},
   "source": [
    "L'appel d'une fonction issue d'un module doit mentionner le nom du module :"
   ]
  },
  {
   "cell_type": "code",
   "execution_count": 4,
   "metadata": {},
   "outputs": [
    {
     "name": "stdout",
     "output_type": "stream",
     "text": [
      "Coucou\n",
      "462\n"
     ]
    }
   ],
   "source": [
    "PH461.printcoucou ()\n",
    "print (PH461.incrementor (461))"
   ]
  },
  {
   "cell_type": "markdown",
   "metadata": {},
   "source": [
    "La fonction _help(nom_du_module)_ donne accès au _prototypage_ des fonctions, c'est-à-dire la liste des fonctions du module en précisant les variables attendues en arguments."
   ]
  },
  {
   "cell_type": "code",
   "execution_count": 6,
   "metadata": {},
   "outputs": [
    {
     "name": "stdout",
     "output_type": "stream",
     "text": [
      "Help on module PH461_module_demo:\n",
      "\n",
      "NAME\n",
      "    PH461_module_demo\n",
      "\n",
      "FUNCTIONS\n",
      "    incrementor(n)\n",
      "    \n",
      "    printcoucou()\n",
      "\n",
      "FILE\n",
      "    /home/scola/ENSEIGNEMENT/S4-Ph461/modules/PH461_module_demo.py\n",
      "\n",
      "\n"
     ]
    }
   ],
   "source": [
    "help ('PH461_module_demo')"
   ]
  },
  {
   "cell_type": "markdown",
   "metadata": {},
   "source": [
    "# Structurer son programme\n",
    "Ces consignes visent à __se conformer aux principes de modularité__. \n",
    "L'objectif est d'ainsi faciliter le codage, le débuggage, l'extension ou l'intégration du programme dans des projets futurs."
   ]
  },
  {
   "cell_type": "markdown",
   "metadata": {},
   "source": [
    "### Organiser le dossier de son projet\n",
    "Donner au répertoire de travail la structure suivante :\n",
    "- __1 répertoire projet__ contenant le _jupyter  notebook_ du projet\n",
    "    - __1 sous-répertoire data__ pour les données d'entrée\n",
    "    - __1 sous-répertoire output__ pour les données de sortie\n",
    "    - __1 sous-répertoire module__ pour les fonctions spécifiques, structuré comme un module après validation dans jupyter-notebook (Si développement dans un Notebook) \n",
    "\n",
    "- __1 répertoire routines__ dédié aux fonctions appelées par plusieurs projets et localisé au même niveau d'arborescence que les projets."
   ]
  },
  {
   "cell_type": "markdown",
   "metadata": {},
   "source": [
    "### Ne pas se précipiter sur son clavier\n",
    "Même si le codage peut s'avérer être la partie la plus attractive du développement du projet, il convient de __toujours structurer son projet/programme dans son ensemble__ avant de commencer à coder. Cela revient à rédiger un cahier des charges. Il sera peut-être partiellement modifié en cours de développement mais les grandes lignes doivent être connues avant d'écrire la première ligne de code.\n",
    "- Identifier les objectifs :\n",
    "    - quelles informations __en entrée__ du programme\n",
    "    - quelles données __en sortie__ du programme\n",
    "    - quels __formats__ des données en entrée et en sortie (vecteurs, matrices, chaînes de caractères, images, ...)\n",
    "    - quelles __opérations__ réalisées (lecture/écriture de fichiers, affichage terminal, figures, ...)\n",
    "    - identification des __ressources à disposition__ (temps, espace mémoire, capacité processeur, ...)\n",
    "- Identifier les fonctionnalités\n",
    "    - __Décomposer__ chaque fonctionnalités en fonctions et sous-fonctions (et sous-sous-fonction...)\n",
    "    - __Se documenter__ sur les fonctionnalités encore non maîtrisées (et il y en aura toujours)\n",
    "    - Certaines fonctionnalités ont-elles déjà été codées ?\n",
    "- Pour chaque fonctionnalité, identifier :\n",
    "    - les __cas de figure__ pris en charges et les __exceptions__\n",
    "    - les __entrées__ et les __sorties__\n",
    "- Anticiper des __extensions futures__\n",
    "\n",
    "<div class=\"alert alert-block alert-info\">\n",
    "<b>ATTENTION :</b> cette étape peut prendre plusieurs heures voire plusieurs jours.\n",
    "</div>"
   ]
  },
  {
   "cell_type": "markdown",
   "metadata": {},
   "source": [
    "_Exemple_ : __Projet Notation_scientifique__\n",
    "> Objectifs :\n",
    "- Le programme doit afficher un résultat expérimental dans la notation scientifique. \n",
    "- Un résultat expérimental est constitué de la valeur mesurée et de l'incertitude de mesure.\n",
    "- Le nombre de chiffres significatifs doit s'accorder à l'ordre de grandeur de l'incertitude.\n",
    "- L'incertitude a été arrondie par l'expérimentateur·rice (1, 2, 3 chiffres significatifs suivant le contexte)\n",
    "- L'affichage doit inclure l'unité de la grandeur mesurée.\n",
    "\n",
    "> Données en entrées :\n",
    "- valeur mesurée (float)\n",
    "- incertitude (float)\n",
    "- unité (string)\n",
    "\n",
    "> Données en sorties :\n",
    "- chaîne de caractères formattée (_e.g._ $X = (1.234 \\pm 0.056)\\cdot 10 ^{-6} \\quad \\mathrm{m}$)\n",
    "\n",
    "> Opérations réalisées :\n",
    "- pas d'opérations\n",
    "\n",
    "> Ressources à disposition : \n",
    "- projet très léger &rarr; ressources illimitées"
   ]
  },
  {
   "cell_type": "markdown",
   "metadata": {},
   "source": [
    "> Fonctionnalités :\n",
    "- déterminer l'ordre de grandeur de la valeur mesurée pour le factoriser avec l'incertitude &rarr; A CODER : ordre_de_grandeur\n",
    "    - entrée : valeur (float)\n",
    "    - sortie : exposant d'une puissance de 10 (int)\n",
    "- déterminer l'ordre de grandeur de l'incertitude &rarr; A CODER : ordre_de_l_erreur\n",
    "    - entrée : erreur (float)\n",
    "    - sortie : exposant d'une puissance de 10 (int)\n",
    "- arrondir la valeur mesurée en fonction de l'arrondi  &rarr; fonction numpy.round ()\n",
    "- factoriser la puissance de 10 et construire la chaîne de caractère au format notation scientifique &rarr; A CODER : notation_scientifique (fonction principale)\n",
    "    - entrée : valeur mesurée, incertitude, unité\n",
    "    - sortie : chaîne de caractère au format notation scientifique\n",
    "    - pas d'avertissement en cas d'incohérence entre la valeur et l'erreur (val < err)\n",
    "   \n",
    "> Extensions futures :\n",
    "- arrondir automatiquement l'incertitude expérimentale à N chiffres significatifs &rarr; à intégrer à l'intérieur de la fonction ordre_de_l_erreur."
   ]
  },
  {
   "cell_type": "markdown",
   "metadata": {},
   "source": [
    "### Coder en respectant la structure du programme\n",
    "Une fois établie la décomposition du programme en une cascade de sous-fonctions, le codage doit commencer par les fonctions de plus bas niveau :\n",
    "- elles sont simples et pourront être testées facilement\n",
    "- elles seront réutilitées par les fonctions de niveau supérieur\n",
    "\n",
    "Ainsi, la complexité du codage sera maintenu à un niveau faible, ce qui favorise la rapidité et la fiabilité."
   ]
  },
  {
   "cell_type": "code",
   "execution_count": 1,
   "metadata": {},
   "outputs": [],
   "source": [
    "# sous-fonctions\n",
    "import numpy as np\n",
    "\n",
    "def ordre_de_grandeur (x):\n",
    "    # retourne l'ordre de grandeur de x\n",
    "    res = 1\n",
    "    if x != 0 :\n",
    "        res = int (np.floor (np.log10 (np.abs(x))))\n",
    "    return res\n",
    "\n",
    "def ordre_de_l_erreur (err, debug = False):    \n",
    "    # retourne l'ordre de grandeur du plus petit chiffre significatif de l'erreur\n",
    "    # err : valeur numérique de l'incertitude expérimentale\n",
    "    odgerr = 0\n",
    "    while (err > np.floor (err)) :\n",
    "        err = err * 10 \n",
    "        # modification ici de l'argument d'entrée mais c'est un float donc la variable originale est protégée\n",
    "        odgerr -= 1\n",
    "        if debug : print ('err = ', err) # contrôles du déroulement de la boucle : \n",
    "        if debug : print ('odgerr = ', odgerr)\n",
    "    return odgerr"
   ]
  },
  {
   "cell_type": "markdown",
   "metadata": {},
   "source": [
    "### Contrôler son programme\n",
    "Après avoir contrôlé la sytnaxe et quand le programme ne retourne plus d'erreur, il est indispensable de s'assurer que le résultat est conforme aux objectifs. \n",
    "Pour cela, il convient d'établir un programme de test visant à contrôler l'exactitude de _toutes les fonctionnalités_, _dans un maximum de cas de figure_ envisageable.\n",
    "\n",
    "Dans la mesure du possible, le test et la correction d'erreur doit être faite au fur et à mesure; les blocs à testers s'en trouvent plus courts.\n",
    "\n",
    "<div class=\"alert alert-block alert-info\">\n",
    "<b>Conseil pratique :</b> contrôler l'intégralité d'un bloc d'instruction, fonction, sous-fonctions, <i>etc.</i>, et prendre en charge les exceptions avant de passer au bloc suivant.\n",
    "</div>"
   ]
  },
  {
   "cell_type": "markdown",
   "metadata": {},
   "source": [
    "_Exemple_ : __Projet Notation_scientifique__\n",
    "\n",
    "Test des sous-fonctions\n"
   ]
  },
  {
   "cell_type": "code",
   "execution_count": 7,
   "metadata": {},
   "outputs": [
    {
     "name": "stdout",
     "output_type": "stream",
     "text": [
      "-180\n",
      "1\n",
      "180\n"
     ]
    }
   ],
   "source": [
    "# test de ordre_de_grandeur\n",
    "valeurs = (1e-180, 0., 9.9999e180)\n",
    "for valeur in valeurs :\n",
    "    print (ordre_de_grandeur (valeur))"
   ]
  },
  {
   "cell_type": "code",
   "execution_count": 8,
   "metadata": {},
   "outputs": [
    {
     "name": "stdout",
     "output_type": "stream",
     "text": [
      "-1\n",
      "-2\n",
      "-3\n",
      "-4\n"
     ]
    }
   ],
   "source": [
    "# test de ordre_de_l_erreur\n",
    "erreurs = (0.1, 0.12, 0.123, 0.1234)\n",
    "for erreur in erreurs :\n",
    "    print (ordre_de_l_erreur (erreur))"
   ]
  },
  {
   "cell_type": "markdown",
   "metadata": {},
   "source": [
    "_Exemple_ : __Projet Notation_scientifique__\n",
    "\n",
    "Fonction principale appelant les sous-fonctions."
   ]
  },
  {
   "cell_type": "code",
   "execution_count": 9,
   "metadata": {},
   "outputs": [],
   "source": [
    "# fonction erronée\n",
    "def represente_resultat_mesure_ (val, err, unit, debug = False):\n",
    "    # identifie l'ordre de grandeur de l'erreur comme celui de son plus petit chiffre significatif\n",
    "    # retourne une chaine de caractère au format notation scientifique\n",
    "    odg = ordre_de_grandeur (val)\n",
    "    if debug: print ('odg = ', odg)\n",
    "    odgerr = ordre_de_l_erreur (err, debug)\n",
    "    if debug: print ('odgerr = ', odgerr)\n",
    "    nb_de_decimales = odg - odgerr\n",
    "    if debug: print ('nombre de décimales : ', nb_de_decimales)\n",
    "    val_string = f'{val / 10**odg:.{nb_de_decimales}f}'\n",
    "    err_string = f'{err / 10**odg:.{nb_de_decimales}f}'\n",
    "    res_string = '(' + val_string + ' ± ' + err_string + f')⋅1e{odg:d} ' + unit\n",
    "    return res_string"
   ]
  },
  {
   "cell_type": "code",
   "execution_count": 10,
   "metadata": {},
   "outputs": [],
   "source": [
    "# debugged function\n",
    "def represente_resultat_mesure (val, err, unit, debug = False):\n",
    "    # identifie l'ordre de grandeur de l'erreur comme celui de son plus petit chiffre significatif\n",
    "    # retourne une chaine de caractère au format notation scientifique\n",
    "    res_string = '' # valeur par défaut, retourné en cas d'erreur ou d'exception\n",
    "    odg = ordre_de_grandeur (val)\n",
    "    if debug: print ('odg = ', odg)\n",
    "    odgerr = ordre_de_l_erreur (err, debug)\n",
    "    if debug: print ('odgerr = ', odgerr)\n",
    "    nb_de_decimales = odg - odgerr\n",
    "    if debug: print ('nombre de décimales : ', nb_de_decimales)\n",
    "    if nb_de_decimales >= 0 : \n",
    "        val_string = f'{val / 10**odg:.{nb_de_decimales}f}'\n",
    "        err_string = f'{err / 10**odg:.{nb_de_decimales}f}'\n",
    "        res_string = '(' + val_string + ' ± ' + err_string + f')⋅1e{odg:d} ' + unit\n",
    "    else :\n",
    "        print ('ERREUR : la valeur mesurée est négligeable devant l\\'incertiude')\n",
    "    return res_string"
   ]
  },
  {
   "cell_type": "markdown",
   "metadata": {},
   "source": [
    "#### _Exemple_ : __Projet Notation_scientifique__\n",
    "\n",
    "Test de la fonction principale."
   ]
  },
  {
   "cell_type": "code",
   "execution_count": 12,
   "metadata": {},
   "outputs": [
    {
     "name": "stdout",
     "output_type": "stream",
     "text": [
      "X = (9.1235 ± 0.0056)⋅1e-6 m\n"
     ]
    }
   ],
   "source": [
    "# appel de la fonction\n",
    "val = 9.123456e-6\n",
    "err = 0.0056e-6\n",
    "unit = 'm'\n",
    "\n",
    "resultat_mesure = represente_resultat_mesure (val, err, unit)\n",
    "print ('X = ' + resultat_mesure)"
   ]
  },
  {
   "cell_type": "code",
   "execution_count": 16,
   "metadata": {},
   "outputs": [
    {
     "name": "stdout",
     "output_type": "stream",
     "text": [
      "X = (9.1235 ± 0.0056)⋅1e-6 m\n",
      "X = (1.1235 ± 0.0056)⋅1e-6 m\n",
      "X = (1.235 ± 0.056)⋅1e-7 m\n",
      "X = (1.2346 ± 0.0564)⋅1e-7 m\n",
      "ERREUR : la valeur mesurée est négligeable devant l'incertiude\n",
      "X = \n"
     ]
    }
   ],
   "source": [
    "# Test du programme avec plusieurs configurations\n",
    "variables_test  = ()\n",
    "variables_test += (9.123456e-6, 0.0056e-6, 'm'), \n",
    "variables_test += (1.123456e-6, 0.0056e-6, 'm'), \n",
    "variables_test += (0.123456e-6, 0.0056e-6, 'm'),\n",
    "variables_test += (0.123456e-6, 0.00564e-6, 'm'),\n",
    "variables_test += (0.123456e-10, 0.0056e-6, 'm'),\n",
    "\n",
    "for variable_test in variables_test :\n",
    "    val, err, unit = variable_test\n",
    "    resultat_mesure = represente_resultat_mesure (val, err, unit)\n",
    "    print ('X = ' + resultat_mesure)"
   ]
  },
  {
   "cell_type": "markdown",
   "metadata": {},
   "source": [
    "# Programmation modulaire\n",
    "\n",
    "   \n",
    "## Le bon programme et le mauvais programme\n",
    "Un bon programme est un programme modulaire. Et un programme modulaire, qu'est-ce que c'est ?\n",
    "A. Braquelaire (U. Bordeaux) définit les cinq objectifs suivants :\n",
    "1. __Lisibilité__ : facilité à comprendre le comportement et la mise en œuvre d'un programme à partir de son code source.\n",
    "2. __Maintenabilité__ : facilité à détecter des fautes de programmation et à les corriger sans en introduire de nouvelles.\n",
    "3. __Portabilité__ : facilité à adapter toutes les fonctionnalités d'un logiciel à un nouvel environnement.\n",
    "4. __Extensibilité__ : ossibilité de modifier l'implémentation d'une partie du programme ou de lui ajouter des fonctionnalités sans que cela ne modilie le comportement de l'ensemble.\n",
    "5. __Réutilisabilité__ : possibilité d'assembler entre eux plusieurs portions de programme, écrites à des époques et pour des applications différentes, sans qu'aucune d'entre elles ne perturbe le comportement des autres.\n",
    "\n",
    "Il s'agit donc de regrouper les fonctionnalités concourrant à un même traitement.\n",
    "Il existe 2 approches de regroupement qui s'opposent\n",
    "- \"dirigée par le contrôle\" : __approche fonctionnelle descendante__ incompatibie avec la réutilisabilité et l'extensibilité\n",
    "- \"dirigée par les données\" : __approche fonctionnlle ascendante__ favorable à la construction de composants logiciels autonomes (voir prog. par objet).\n",
    "\n",
    "Si on décline  ces approches dans le contexte du PH461 qui vise au développement d'outils d'analyse de données expérimentales, apparaissent les options suivantes.\n",
    "Partant du constat que des données doivent être lues, traitées puis représentées graphiquement,\n",
    "la _méthode descendante_ consisterait à développer des fonctions de représentation pour chaque type de données en incluant les traitements associés aux différents cas de figure.\n",
    "Ainsi, les $X(t)$ d'une acquisition temporelle pourraient très bien se trouvées dans un format différent (une liste par exemple) de celles d'une acquisition en fonction de la température $X(T)$ (qui aurait le type d'un dictionnaire).\n",
    "Cela rendrait nécessaire d'écrire deux versions des fonctions de traitements et de représentation alors même que les opérations seraient communes à n'importe quelle fonction d'une seule variable $f(x)$.\n",
    "A l'inverse la _méthode ascendante_ impliquerait de commencer par développer pour chaque origine de données (et donc chaque format de fichier de données) une fonction qui chargerait les données en mémoire dans un format particulier et toutes les fonctions de traitement seraient compatibles avec ce format (par exemple des listes)."
   ]
  },
  {
   "cell_type": "markdown",
   "metadata": {},
   "source": [
    "## Principes fondamentaux de la modularité\n",
    "\n",
    "### 1. \"Abstraction des littéraux\"\n",
    "Toute grandeur constante dans un programme donné est susceptible de prendre une autre valeur dans une réutilisation future. \n",
    "L'_abstraction des littéraux_ consiste à déclarer une variable pour toutes les constantes d'un programme.\n",
    "- exemple 1\n",
    "\n",
    "<span style=\"color:red\">mauvaise pratique :</span>\n",
    "<code> <pre> annee_complete = 2000 + annee </pre></code>\n",
    "<span style=\"color:green\">bonne pratique :</span>\n",
    "<code> <pre>annee0 = 2000\n",
    "annee_complete = annee0 + annee </pre></code>\n",
    "- exemple 2\n",
    "\n",
    "<span style=\"color:red\">mauvaise pratique :</span>\n",
    "<code> <pre> open ('/home/mon_repertoire/mon_fichier.dat') </pre></code>\n",
    "<span style=\"color:green\">bonne pratique :</span>\n",
    "<code><pre>path = '/home/mon_repertoire/'\n",
    "file = 'mon_fichier.dat' \n",
    "open (path + file)</pre></code>"
   ]
  },
  {
   "cell_type": "markdown",
   "metadata": {},
   "source": [
    "### 2. \"Facorisation du code\"\n",
    "Le but est d'éviter les duplications de code qui entrave la _maintenabilité_ et l'_extensibilité_ puisque les corrections et les adaptations doivent être autant dupliquées que le code se trouve l'être."
   ]
  },
  {
   "cell_type": "markdown",
   "metadata": {},
   "source": [
    "#### Exemple 1 : représentation d'un nombre complexe \n",
    "On souhaite afficher un nombre complexe sous sa forme cartésiène :\n",
    "\n",
    "$$ z =  1 + 2i $$ "
   ]
  },
  {
   "cell_type": "code",
   "execution_count": 5,
   "metadata": {},
   "outputs": [
    {
     "name": "stdout",
     "output_type": "stream",
     "text": [
      "1.0 + 2.0i\n"
     ]
    }
   ],
   "source": [
    "import numpy as np\n",
    "z = 1+2j\n",
    "print (f'{np.real(z):.1f} + {np.imag(z):.1f}i')"
   ]
  },
  {
   "cell_type": "markdown",
   "metadata": {},
   "source": [
    "Imaginons que dans un autre contexte, il soit nécessaire de remplacer le symbole $i$ du nombre imaginaire par $j$, il faudrait modifier toutes les instructions d'affichage.\n",
    "Pour éviter cela, la chaîne de caractère à afficher doit être définie dans une fonction."
   ]
  },
  {
   "cell_type": "code",
   "execution_count": 6,
   "metadata": {},
   "outputs": [
    {
     "name": "stdout",
     "output_type": "stream",
     "text": [
      "1.0 + 2.0i\n",
      "1.0 + 2.0j\n",
      "1.0 + 2.0◎\n"
     ]
    }
   ],
   "source": [
    "def affiche_complexe (z, symbol):\n",
    "    return f'{np.real(z):.1f} + {np.imag(z):.1f}' + symbol\n",
    "print (affiche_complexe (1+2j, 'i'))\n",
    "print (affiche_complexe (1+2j, 'j'))\n",
    "print (affiche_complexe (1+2j, '◎'))"
   ]
  },
  {
   "cell_type": "markdown",
   "metadata": {},
   "source": [
    "<blockcquote>On considérera qu'il y a duplication de code chaque fois qu'une modifiation doit être répercutée en plusieurs endroits du programme. Les fonctions doivent être systématiquement employées pour éviter la duplication de code, même dans le cas où la duplucation se limite à une seule instruction. Si cela s'avère nécessaire, il ne faut pas craidre de définir une multitude de fonctions de petite tailles.</blockcquote>"
   ]
  },
  {
   "cell_type": "markdown",
   "metadata": {},
   "source": [
    "#### Exemple 2 : représentation d'un résultat de mesure\n",
    "Le résultat d'une expérience se représente dans la notation scientifique et associe la valeur moyenne de la mesure, l'incertitude de mesure et l'unité de la grandeur mesurée :\n",
    "\n",
    "$$ X = (1.234 \\pm 0.056)\\cdot 10 ^{-6} \\quad \\mathrm{m}$$"
   ]
  },
  {
   "cell_type": "code",
   "execution_count": 1,
   "metadata": {},
   "outputs": [
    {
     "name": "stdout",
     "output_type": "stream",
     "text": [
      "X = (1.234 ± 0.056) 10^(-6) m\n"
     ]
    }
   ],
   "source": [
    "# données expérimentales\n",
    "X = 1.234e-6\n",
    "Delta_X = 0.056e-6\n",
    "unit = 'm'\n",
    "\n",
    "# affichage du résultat de mesure \n",
    "exp = -6\n",
    "odg = 10**exp\n",
    "print (f'X = ({X/odg:.3f} ± {Delta_X/odg:.3f}) 10^({exp:d}) ' + unit)"
   ]
  },
  {
   "cell_type": "markdown",
   "metadata": {},
   "source": [
    "Cette manière de faire est fonctionnelle mais ne respecte pas les principes de modularité.\n",
    "Si dans un usage ultérieur, on souhaitait représenter un résultat ayant un chiffre significatif supplémentaire : \n",
    "\n",
    "$$ Y = (1.2345 \\pm 0.0056)\\cdot 10 ^{-6} \\quad \\mathrm{m},$$\n",
    "\n",
    "il serait nécessaire de dupliquer le code et de modifier le format d'affichage des variables réelles, en plus du nom de la grandeur."
   ]
  },
  {
   "cell_type": "code",
   "execution_count": null,
   "metadata": {},
   "outputs": [],
   "source": [
    "# données expérimentales\n",
    "Y = 1.2345e-6\n",
    "Delta_Y = 0.0056e-6\n",
    "unit = 'm'\n",
    "\n",
    "# affichage du résultat de mesure \n",
    "exp = -6\n",
    "odg = 10**exp\n",
    "print (f'Y = ({Y/odg:.4f} ± {Delta_Y/odg:.4f}) 10^({exp:d}) ' + unit)"
   ]
  },
  {
   "cell_type": "markdown",
   "metadata": {},
   "source": [
    "Pour éviter cela, et rendre possible l'application du code pour des contextes variés, la décomposition du travail en fonctions et sous-fonctions est nécessaire."
   ]
  },
  {
   "cell_type": "markdown",
   "metadata": {},
   "source": [
    "### 3. \"Masquage de l'implémentation\"\n",
    "Les traitements opérés par une fonction ne doivent pas avoir de **répercussions dans le reste du programme**, en dehors du résultat fourni en sortie.\n",
    "Il ne doit pas être nécessaire de connaître la façon dont le traitement est mené, _i.e._ l'implémentation de la fonction, pour utiliser la fonction.\n",
    "C'est le sens du terme de _masquage d'implémentation_.\n",
    "Autrement dit, les fonctions et sous-fonctions d'un projet doivent être conçues de telle sorte qu'elles puissent être appelées à plusieurs endroits du code et par des fonctions à **différents niveaux hierarchiques** (_e.g._ à la fois par une sous-fonction et une sous-sous-fonction).\n",
    "\n",
    "Pour autant, il faut garder à l'esprit que même si l'implémentation des fonctions doit **permettre d'appeler n'importe quelle fonction depuis n'importe où**, il convient de **ne jamais appeler n'importe quelle fonction depuis n'importe où** pour ne pas nuire à la structuration du programme.\n",
    "De fait, la structuration précède l'implémentation. En d'autres termes,\n",
    "1. la structuration du programme détermine les niveaux  hierarchiques qu'occupent les fonctions et sous-fonctions,\n",
    "2. le masquage de l'implémntation détermine le flux des données entre les fonctions et sous-fonctions définies  lors de la structuration."
   ]
  },
  {
   "cell_type": "markdown",
   "metadata": {},
   "source": [
    "![](./prog_struct_4.png)"
   ]
  },
  {
   "cell_type": "markdown",
   "metadata": {},
   "source": [
    "<div class=\"alert alert-block alert-info\">\n",
    "<b>Conséquence pratique n°1 :</b> La totalité des information transitant du programme appelant à la fonction doit passer par les arguments de la fonction.\n",
    "</div>\n",
    "<div class=\"alert alert-block alert-info\">\n",
    "<b>Conséquence pratique n°2 :</b> Les fonctions ne doivent traiter que des variables locales (sauf cas exceptionnel de force majeure).\n",
    "</div>\n",
    "<div class=\"alert alert-block alert-info\">\n",
    "<b>Conséquence pratique n°3 :</b> Si un appel de fonction marqué d'un sens interdit s'avère nécessaire, cela signifie qu'une nouvelle sous-fonction doit être écrite là où se trouve le panneau sens interdit; elle devra être placée à un niveau inférieur (ou intermédiaire).\n",
    "</div>"
   ]
  },
  {
   "cell_type": "markdown",
   "metadata": {},
   "source": [
    "# Bonnes pratiques du codage"
   ]
  },
  {
   "cell_type": "markdown",
   "metadata": {},
   "source": [
    "## Lisibilité et mise en page du code\n",
    "Voici une liste non-exhaustive de conseils contribuant à améliorer la lisibilité d'un code et, partant, la facilité à y trouver une erreur de syntaxe, un dysfonctionnement, ou encore à l'étendre ou le partager."
   ]
  },
  {
   "cell_type": "markdown",
   "metadata": {},
   "source": [
    "#### En-tête de fichiers\n",
    "Pour tout nouveau fichier, ajouter une introduction descriptive en commentaire :\n",
    "- nom du programme\n",
    "- date de création\n",
    "- nom de l'auteur·rice (et adresse mail)\n",
    "- établissement ou entreprise où le programme a été développé"
   ]
  },
  {
   "cell_type": "markdown",
   "metadata": {},
   "source": [
    "#### Nommage des variables et des fonctions\n",
    "Le nom d'une variable ou d'une fonction doit clairement informer sur son rôle dans le programme.\n",
    "\n",
    "<span style=\"color:green\">Facile à lire</span>\n",
    "```python\n",
    "variable_facile_a_lire = 20/20\n",
    "```\n",
    "\n",
    "<span style=\"color:red\">A proscrire</span>\n",
    "```python\n",
    "c = 2 # c représente telle grandeur et il faudra revenir à cette ligne pour le savoir\n",
    "variableinutilementillisible = 0/20\n",
    "\n",
    "```\n",
    "---\n",
    "<span style=\"color:green\">Facile à lire</span>\n",
    "```python\n",
    "def estimation_de_telle_grandeur (mesure_truc, parametre_machin) :\n",
    "    # cette fonction calcule une estimation de telle grandeur \n",
    "    # en fonction de la mesure truc et du parametre machin\n",
    "    ...\n",
    "    return estimation\n",
    "```\n",
    "<span style=\"color:red\">A proscrire</span>\n",
    "```python\n",
    "def fonction1 (arg1, arg2) :\n",
    "    # cette fonction calcule une estimation de telle grandeur en fonction de arg1 et arg2\n",
    "    # arg1 représente la mesure truc\n",
    "    # arg2 représente le paramètre machin\n",
    "    ...\n",
    "    return output\n",
    "```\n",
    "\n"
   ]
  },
  {
   "cell_type": "markdown",
   "metadata": {},
   "source": [
    "#### Commenter le code\n",
    "Un programme convenablement structuré se présente sous la forme d'une __séquence de fonctions__ dont le nom et celui des arguments sont explicites. \n",
    "Il se lit donc comme un __pseudo-code__ qui doit pouvoir se passer de commentaire.\n",
    "\n",
    "Les commentaires doivent trouver leur place\n",
    "- au début des blocs d'instructions (délimités par des sauts de ligne) \n",
    "- à la tête du corps des fonctions : doivent figurer la description de la fonctionnalité, celles des variables d'entrées et de sortie."
   ]
  },
  {
   "cell_type": "markdown",
   "metadata": {},
   "source": [
    "#### Où mettre les espaces ? \n",
    "\n",
    "\n",
    "Utiliser des espaces pour séparer les variables des opérateurs.\n",
    "\n",
    "<span style=\"color:green\">Facile à lire</span>\n",
    "```python\n",
    "if (a + 5 < ma_fonction(arg1, arg2.method() + 4)):\n",
    "```\n",
    "<span style=\"color:red\">Moins lisible</span>\n",
    "```python\n",
    "if a+5<ma_fonction(arg1,arg2.method()+ 4):\n",
    "```\n"
   ]
  },
  {
   "cell_type": "markdown",
   "metadata": {},
   "source": [
    "#### Où placer des sauts de lignes ?\n",
    "Il est impératif de sauter une ligne __entre différentes fonctions__.\n",
    "\n",
    "Les sauts de lignes permettent de regrouper les instructions en __blocs cohérents__.\n",
    "\n",
    "En revanche, sauter plusieurs lignes risque de morceler le code et nuire à sa lisibilité."
   ]
  },
  {
   "cell_type": "markdown",
   "metadata": {},
   "source": [
    "## PEP 8 – Style Guide for Python Code\n",
    "\n",
    "Une description exhaustive des conventions de codage en Python est accessible [ici](https://peps.python.org/pep-0008/)"
   ]
  }
 ],
 "metadata": {
  "hide_input": false,
  "kernelspec": {
   "display_name": "Python 3 (ipykernel)",
   "language": "python",
   "name": "python3"
  },
  "language_info": {
   "codemirror_mode": {
    "name": "ipython",
    "version": 3
   },
   "file_extension": ".py",
   "mimetype": "text/x-python",
   "name": "python",
   "nbconvert_exporter": "python",
   "pygments_lexer": "ipython3",
   "version": "3.9.16"
  }
 },
 "nbformat": 4,
 "nbformat_minor": 4
}
