{
 "cells": [
  {
   "cell_type": "markdown",
   "metadata": {},
   "source": [
    "# Algorithmique et syntaxe Python\n",
    "Ce chaptire est une introduction aux __bases de programmation__ et à la syntaxe Python.\n",
    "\n",
    "* [Variables numériques](./variables.ipynb)\n",
    "* [Autres types de variables variables](./autres_types.ipynb)\n",
    "* [Structures de données](./structures.ipynb)\n",
    "* [Flux d'instructions](./flux_d_instructions.ipynb)\n",
    "\n",
    "[Exercices TD 1](./TD1.ipynb)\\\n",
    "[Correction TD 1](./TD1_Corr.ipynb)\n",
    "\n",
    "[Questions](./questions.ipynb)"
   ]
  },
  {
   "cell_type": "markdown",
   "metadata": {},
   "source": [
    "# Règles de programmation\n",
    "\n",
    "Ce chapitre a pour but de guider les choix de programmation.\n",
    "\n",
    "* [Programmation modulaire](./programmation_modulaire.ipynb)\n",
    "* [Guide pratique du codage](./guide_du_codage.ipynb)"
   ]
  },
  {
   "cell_type": "code",
   "execution_count": null,
   "metadata": {},
   "outputs": [],
   "source": []
  }
 ],
 "metadata": {
  "hide_input": false,
  "kernelspec": {
   "display_name": "Python 3",
   "language": "python",
   "name": "python3"
  },
  "language_info": {
   "codemirror_mode": {
    "name": "ipython",
    "version": 3
   },
   "file_extension": ".py",
   "mimetype": "text/x-python",
   "name": "python",
   "nbconvert_exporter": "python",
   "pygments_lexer": "ipython3",
   "version": "3.8.10"
  }
 },
 "nbformat": 4,
 "nbformat_minor": 4
}
