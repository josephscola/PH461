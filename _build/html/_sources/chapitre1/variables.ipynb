{
 "cells": [
  {
   "cell_type": "markdown",
   "metadata": {},
   "source": [
    "# Variables numériques"
   ]
  },
  {
   "cell_type": "markdown",
   "metadata": {},
   "source": [
    "## Qu'est-ce qu'un variable ?"
   ]
  },
  {
   "cell_type": "markdown",
   "metadata": {},
   "source": [
    "Une variable est à la fois un _identifiant_ dans le programme (un nom de variable) associée à une _zone de la mémoire_ de l'ordinateur dans laquelle est affecté la _valeur_ ou les _valeurs_ successives affectées à la variable.\n",
    "Avant d'être utilisée, une variable doit être déclarée et initialisée.\n",
    "   1. La déclaration d'une variable est la définition son type; cela conditionne les valeurs qu'elle peut recevoir, les opération qu'on peut lui appliquer ainsi que l'espace mémoire qui lui est alloué.\n",
    "   2. L'initialisation d'une variable consiste à lui attribuer une valeur particulière avant sa première intervention dans le programme.\n",
    "\n",
    "En Python, la déclaration est faite implicitement au moment de l'initialisation : le type de la variable est celui de la valeur qui lui est affectée.\n",
    "C'est pratique, mais expose au risque de confusion quant au type des variables."
   ]
  },
  {
   "cell_type": "markdown",
   "metadata": {},
   "source": [
    "## Entiers machine"
   ]
  },
  {
   "cell_type": "markdown",
   "metadata": {},
   "source": [
    "La représentation machine des _entiers_ est faite par un _mot_ binaire : chaque bit prend la valeur 1 ou 0 qui multiplie la puissance de 2 associée à son rang dans le _mot_.\n",
    "\n",
    "$$ \n",
    "(10010100)_2 = 1\\cdot 2^7 + \n",
    "               0\\cdot 2^6 +  \n",
    "               0\\cdot 2^5 + \n",
    "               1\\cdot 2^4 + \n",
    "               0\\cdot 2^3 + \n",
    "               1\\cdot 2^2 + \n",
    "               0\\cdot 2^1 + \n",
    "               0\\cdot 2^0\n",
    "             = 148\n",
    "$$\n",
    "\n",
    "Il existe plusieurs types d'entiers machine.\n",
    "Suivant que l'on souhaite représenter des valeurs plus ou moins grandes, on modifiera la longueur du mot : \n",
    "le plus grand entier machine codé sur $N$ bits est $2^N - 1$."
   ]
  },
  {
   "cell_type": "code",
   "execution_count": 1,
   "metadata": {},
   "outputs": [
    {
     "name": "stdout",
     "output_type": "stream",
     "text": [
      "2**7 + 1 =  129\n",
      "le type de x est :  <class 'int'>\n",
      "le nombre d'octets alloué à x est :  28\n"
     ]
    }
   ],
   "source": [
    "x = 2**7\n",
    "print ('2**7 + 1 = ', x+1)\n",
    "print('le type de x est : ', type (x))\n",
    "print ('le nombre d\\'octets alloué à x est : ', x.__sizeof__()) #"
   ]
  },
  {
   "cell_type": "code",
   "execution_count": 2,
   "metadata": {},
   "outputs": [
    {
     "name": "stdout",
     "output_type": "stream",
     "text": [
      "2**127 + 1 =  170141183460469231731687303715884105729\n",
      "le type de x est :  <class 'int'>\n",
      "le nombre d'octets alloué à x est :  44\n"
     ]
    }
   ],
   "source": [
    "x = 2**127\n",
    "print ('2**127 + 1 = ', x+1) # l'ancienne valeur est écrasée\n",
    "print('le type de x est : ', type (x)) # la variable x a été remplacée par une autre du même type\n",
    "print ('le nombre d\\'octets alloué à x est : ', x.__sizeof__()) # la nouvelle varable occupe plus de mémoire"
   ]
  },
  {
   "cell_type": "markdown",
   "metadata": {},
   "source": [
    "Python ajuste automatiquement la longueur du _mot_ binaire en fonction du nombre à représenter."
   ]
  },
  {
   "cell_type": "markdown",
   "metadata": {},
   "source": [
    "Pour une longueur de mot, on distingue deux types d'entiers suivant que le _bit de poids fort_ ($2^7$ pour le mot de 8 bits de l'exemple) est remplacé ou non par un _bit de signe_.\n",
    "$$ \n",
    "(10010100)_2 = (-1)^1 \\times (\n",
    "               0\\cdot 2^6 +  \n",
    "               0\\cdot 2^5 + \n",
    "               1\\cdot 2^4 + \n",
    "               0\\cdot 2^3 + \n",
    "               1\\cdot 2^2 + \n",
    "               0\\cdot 2^1 + \n",
    "               0\\cdot 2^0)\n",
    "             = -20\n",
    "$$"
   ]
  },
  {
   "cell_type": "markdown",
   "metadata": {},
   "source": [
    "## Réels machine"
   ]
  },
  {
   "cell_type": "markdown",
   "metadata": {},
   "source": [
    "La représentation des réels comme une partie entière séparée d'une décimale par une virgule n'est pas adapté à la représentation par une machine.\n",
    "Une des raisons est que l'espace mémoire nécessaire ne dépend plus seulement de la valeur numérique mais également de sa précision.\n",
    "En pratique, les réels sont représentés par trois entiers :\n",
    "- le _bit de signe_ $s$,\n",
    "- un entier non signé _mantisse_ $m$,\n",
    "- un entier signé (ou relatif) l'_exposant_ $n$.\n",
    "Tout _réel machine_ $x$ est représenté par $$ x = (-1)^s \\cdot m\\cdot 10^n $$"
   ]
  },
  {
   "cell_type": "code",
   "execution_count": 4,
   "metadata": {},
   "outputs": [
    {
     "name": "stdout",
     "output_type": "stream",
     "text": [
      "2. =  2.0\n",
      "le nombre d'octets allouées à y est :  24\n",
      "y1 - y =  8.881784197001252e-16\n",
      "le nombre d'octets allouées à y est :  24\n",
      "y2 - y =  0.0\n",
      "le nombre d'octets allouées à y est :  24\n"
     ]
    }
   ],
   "source": [
    "y = 2.\n",
    "print ('2. = ', y)\n",
    "print ('le nombre d\\'octets allouées à y est : ', y.__sizeof__())\n",
    "\n",
    "y1 = 2.000000000000001\n",
    "print ('y1 - y = ', y1 - y)\n",
    "print ('le nombre d\\'octets allouées à y est : ', y1.__sizeof__())\n",
    "\n",
    "y2 = 2.0000000000000001\n",
    "print ('y2 - y = ', y2 - y)\n",
    "print ('le nombre d\\'octets allouées à y est : ', y2.__sizeof__())"
   ]
  },
  {
   "cell_type": "markdown",
   "metadata": {},
   "source": [
    "<span style=\"color:red\"> <b> ATTENTION : les réels démunis de représentations machine sont ARRONDIS !!! </b></span>"
   ]
  },
  {
   "cell_type": "markdown",
   "metadata": {},
   "source": [
    "<div class=\"alert alert-block alert-info\"> <b> REGLE A SUIVRE : normaliser les valeurs numériques pour que les calculs soient faits autour de 1 </b></div>"
   ]
  },
  {
   "cell_type": "code",
   "execution_count": 5,
   "metadata": {},
   "outputs": [
    {
     "name": "stdout",
     "output_type": "stream",
     "text": [
      "itération  2 : b =                    2.0; (allocation mémoire : 24 octets)\n",
      "itération  3 : b =                    4.0; (allocation mémoire : 24 octets)\n",
      "itération  4 : b =                    8.0; (allocation mémoire : 24 octets)\n",
      "itération  5 : b =                   32.0; (allocation mémoire : 24 octets)\n",
      "itération  6 : b =                  256.0; (allocation mémoire : 24 octets)\n",
      "itération  7 : b =                 8192.0; (allocation mémoire : 24 octets)\n",
      "itération  8 : b =              2097152.0; (allocation mémoire : 24 octets)\n",
      "itération  9 : b =          17179869184.0; (allocation mémoire : 24 octets)\n",
      "itération 10 : b =  3.602879701896397e+16; (allocation mémoire : 24 octets)\n",
      "itération 11 : b =  6.189700196426902e+26; (allocation mémoire : 24 octets)\n",
      "itération 12 : b = 2.2300745198530623e+43; (allocation mémoire : 24 octets)\n",
      "itération 13 : b = 1.3803492693581128e+70; (allocation mémoire : 24 octets)\n",
      "itération 14 : b = 3.078281734093319e+113; (allocation mémoire : 24 octets)\n",
      "itération 15 : b = 4.249103942534137e+183; (allocation mémoire : 24 octets)\n",
      "itération 16 : b = 1.307993905256674e+297; (allocation mémoire : 24 octets)\n",
      "itération 17 : b =                    inf; (allocation mémoire : 24 octets)\n",
      "itération 18 : b =                    inf; (allocation mémoire : 24 octets)\n"
     ]
    }
   ],
   "source": [
    "a, b, c = 1., 2., 1 \n",
    "while c < 18 : \n",
    "     a, b, c = b, b * a, c + 1 \n",
    "     print (f'itération {c:2d} : b = {b:22}; (allocation mémoire : {b.__sizeof__():d} octets)')  "
   ]
  },
  {
   "cell_type": "markdown",
   "metadata": {},
   "source": [
    "Lorsque la capacité de la représentation en virgule flottante est dépassée ($\\pm 10^{\\pm 308}, avec 16 chiffres significatifs), les valeurs numériques sont remplacées par l'_infini machine_ (__inf__)"
   ]
  },
  {
   "cell_type": "markdown",
   "metadata": {},
   "source": [
    "## Opérations sur les variables numériques"
   ]
  },
  {
   "cell_type": "markdown",
   "metadata": {},
   "source": [
    "#### Addition (+), soustraction (-)"
   ]
  },
  {
   "cell_type": "code",
   "execution_count": 10,
   "metadata": {},
   "outputs": [
    {
     "name": "stdout",
     "output_type": "stream",
     "text": [
      "2 - 2. =  0.0\n",
      "le type de z = (x - y) est :  <class 'float'>\n"
     ]
    }
   ],
   "source": [
    "x = 2\n",
    "y = 2.\n",
    "z = x - y\n",
    "print ('2 - 2. = ', z)\n",
    "print ('le type de z = (x - y) est : ', type (z))"
   ]
  },
  {
   "cell_type": "markdown",
   "metadata": {},
   "source": [
    "#### Multiplication (*), division (/)"
   ]
  },
  {
   "cell_type": "code",
   "execution_count": 15,
   "metadata": {},
   "outputs": [
    {
     "name": "stdout",
     "output_type": "stream",
     "text": [
      "2 * 2. =  4.0\n",
      "le type de z = (x * y) est :  <class 'float'>\n"
     ]
    }
   ],
   "source": [
    "x = 2\n",
    "y = 2.\n",
    "z = x * y\n",
    "print ('2 * 2. = ', z)\n",
    "print ('le type de z = (x * y) est : ', type (z))"
   ]
  },
  {
   "cell_type": "code",
   "execution_count": 16,
   "metadata": {},
   "outputs": [
    {
     "name": "stdout",
     "output_type": "stream",
     "text": [
      "2 / 2. =  1.0\n",
      "le type de z = (x / y) est :  <class 'float'>\n"
     ]
    }
   ],
   "source": [
    "x = 2\n",
    "y = 2.\n",
    "z = x / y\n",
    "print ('2 / 2. = ', z)\n",
    "print ('le type de z = (x / y) est : ', type (z))"
   ]
  },
  {
   "cell_type": "markdown",
   "metadata": {},
   "source": [
    "#### Puissance (**)"
   ]
  },
  {
   "cell_type": "code",
   "execution_count": 17,
   "metadata": {},
   "outputs": [
    {
     "name": "stdout",
     "output_type": "stream",
     "text": [
      "2 ** 0.5 =  1.4142135623730951\n",
      "le type de z = (x ** y) est :  <class 'float'>\n"
     ]
    }
   ],
   "source": [
    "x = 2\n",
    "y = 0.5\n",
    "z = x ** y\n",
    "print ('2 ** 0.5 = ', z)\n",
    "print ('le type de z = (x ** y) est : ', type (z))"
   ]
  },
  {
   "cell_type": "markdown",
   "metadata": {},
   "source": [
    "#### Division entière (//)"
   ]
  },
  {
   "cell_type": "code",
   "execution_count": 18,
   "metadata": {},
   "outputs": [
    {
     "name": "stdout",
     "output_type": "stream",
     "text": [
      "5\n"
     ]
    }
   ],
   "source": [
    "x = 11\n",
    "y = 2\n",
    "z = x // y\n",
    "print (z)"
   ]
  },
  {
   "cell_type": "markdown",
   "metadata": {},
   "source": [
    "#### Reste de la division entière (%)"
   ]
  },
  {
   "cell_type": "code",
   "execution_count": 19,
   "metadata": {},
   "outputs": [
    {
     "name": "stdout",
     "output_type": "stream",
     "text": [
      "1\n"
     ]
    }
   ],
   "source": [
    "x = 11\n",
    "y = 2\n",
    "z = x % y\n",
    "print (z)"
   ]
  },
  {
   "cell_type": "markdown",
   "metadata": {},
   "source": [
    "#### Combinaisons opération-affectation (+=, -=, *=, /=)"
   ]
  },
  {
   "cell_type": "code",
   "execution_count": 20,
   "metadata": {},
   "outputs": [
    {
     "name": "stdout",
     "output_type": "stream",
     "text": [
      "avant addition-affectation, x =  2\n",
      "après addition-affectation, x =  4\n",
      "avant soustraction-affectation, x =  3\n",
      "après soustraction-affectation, x =  1\n"
     ]
    }
   ],
   "source": [
    "x = 2\n",
    "print ('avant addition-affectation, x = ', x)\n",
    "x += 2 # équivalent à x = x + 2\n",
    "print ('après addition-affectation, x = ', x)\n",
    "\n",
    "x = 3\n",
    "print ('avant soustraction-affectation, x = ', x)\n",
    "x -= 2 # équivalent à x = x + 2\n",
    "print ('après soustraction-affectation, x = ', x)"
   ]
  },
  {
   "cell_type": "markdown",
   "metadata": {},
   "source": [
    "### Conversion de type"
   ]
  },
  {
   "cell_type": "markdown",
   "metadata": {},
   "source": [
    "#### Conversion __int__ &rarr; __float__\n",
    "La conversion d'une variable de type __int__ en un réel de type __float__ se produit sans modification de la valeur numérique initiale."
   ]
  },
  {
   "cell_type": "code",
   "execution_count": 21,
   "metadata": {},
   "outputs": [
    {
     "name": "stdout",
     "output_type": "stream",
     "text": [
      "après initialisation à 2\n",
      "x =  2\n",
      "le type de x est :  <class 'int'>\n",
      "après conversion en réel à virgule flottante\n",
      "x =  2.0\n",
      "le type de x est :  <class 'float'>\n"
     ]
    }
   ],
   "source": [
    "x = 2\n",
    "print ('après initialisation à 2')\n",
    "print ('x = ', x)\n",
    "print ('le type de x est : ', type (x))\n",
    "\n",
    "x = float (x)\n",
    "print ('après conversion en réel à virgule flottante')\n",
    "print ('x = ', x)\n",
    "print ('le type de x est : ', type (x))"
   ]
  },
  {
   "cell_type": "markdown",
   "metadata": {},
   "source": [
    "#### Conversion __float__ &rarr; __int__\n",
    "La conversion d'une variable en virgule flottante s'accompagne de la troncature de la partice décimale du réel."
   ]
  },
  {
   "cell_type": "code",
   "execution_count": 22,
   "metadata": {},
   "outputs": [
    {
     "name": "stdout",
     "output_type": "stream",
     "text": [
      "après initialisation à 2.9\n",
      "x =  2.9\n",
      "le type de x est :  <class 'float'>\n",
      "après conversion en entier\n",
      "x =  2\n",
      "le type de x est :  <class 'int'>\n"
     ]
    }
   ],
   "source": [
    "x = 2.9\n",
    "print ('après initialisation à 2.9')\n",
    "print ('x = ', x)\n",
    "print ('le type de x est : ', type (x))\n",
    "\n",
    "x = int (x)\n",
    "print ('après conversion en entier')\n",
    "print ('x = ', x)\n",
    "print ('le type de x est : ', type (x))"
   ]
  },
  {
   "cell_type": "markdown",
   "metadata": {},
   "source": [
    "## Nommage des variables"
   ]
  },
  {
   "cell_type": "markdown",
   "metadata": {},
   "source": [
    "#### Noms réservés\n",
    "| | | | | | | | |\n",
    "|:-:|:-:|:-:|:-:|:-:|:-:|:-:|:-:|\n",
    "|and |\tas\t|assert |\tbreak\t|class\t|continue|\tdef|del|\n",
    "|elif|\telse|\texcept\t|exec |\tfinally|\tfor\t|from\t|global|\n",
    "|if|\timport|\tin\t|is\t|lambda\t|not\t|or|\tpass|\n",
    "|print |\traise\t|return\t|try\t|while|\twith\t|yield|\n",
    "\n",
    "La plupart des éditeurs (dont notebook) reconnaissent ces mots et les rendent identifiables en leur donnant une couleur particulière.\n",
    "\n",
    "#### Caractères spéciaux\n",
    "La plupart des caractères spéciaux (ponctuation, tirets, ...) ont une signification pour l'interpréteur Python3. Par conséquent, leur usage dans les nom de variable est interdit.\n",
    "Exception importante :\n",
    "> <span style=\"color:red\">__L'emploi du caractère \"souligné\" ('\\_') est fortement recommandé pour la lisibilité des variables__ </span>"
   ]
  },
  {
   "cell_type": "code",
   "execution_count": null,
   "metadata": {},
   "outputs": [],
   "source": [
    "variable_facile_a_lire = 20/20\n",
    "variableinutilementillisible = 0/20"
   ]
  },
  {
   "cell_type": "markdown",
   "metadata": {},
   "source": [
    "#### Majuscule et minuscules\n",
    "L'interpréteur Python3 tient compte de la casse dans le nom des variables"
   ]
  },
  {
   "cell_type": "code",
   "execution_count": null,
   "metadata": {},
   "outputs": [],
   "source": [
    "toto = 13\n",
    "print (Toto)"
   ]
  },
  {
   "cell_type": "markdown",
   "metadata": {},
   "source": [
    "#### Caractères linguistiques\n",
    "Les caractères spécifiques à certaines langues mais absente de l'anglais sont permises par l'interpréteur Python3 mais sont à éviter; en cas de partage, elles sont susceptibles de créer des problèmes d'incompatibilité (encodage des fichiers textes)."
   ]
  },
  {
   "cell_type": "code",
   "execution_count": 9,
   "metadata": {},
   "outputs": [
    {
     "name": "stdout",
     "output_type": "stream",
     "text": [
      "2\n"
     ]
    }
   ],
   "source": [
    "toté = 2\n",
    "print (toté)"
   ]
  },
  {
   "cell_type": "markdown",
   "metadata": {},
   "source": [
    "#### Usage \"ancestral\"\n",
    "Si le nom d'une variable ne comporte qu'une seule lettre latine, on associe traditionnellement :\n",
    "- un entier aux lettres $i$, $j$, $k$, $m$, et $n$\n",
    "- un réel pour les autres lettres.\n",
    "\n",
    "#### Ni o ni O\n",
    "Pour des raisons de lisibilité évidentes, on évite de nommer une variable $o$ ou $O$."
   ]
  }
 ],
 "metadata": {
  "hide_input": false,
  "kernelspec": {
   "display_name": "Python 3 (ipykernel)",
   "language": "python",
   "name": "python3"
  },
  "language_info": {
   "codemirror_mode": {
    "name": "ipython",
    "version": 3
   },
   "file_extension": ".py",
   "mimetype": "text/x-python",
   "name": "python",
   "nbconvert_exporter": "python",
   "pygments_lexer": "ipython3",
   "version": "3.9.16"
  }
 },
 "nbformat": 4,
 "nbformat_minor": 4
}
