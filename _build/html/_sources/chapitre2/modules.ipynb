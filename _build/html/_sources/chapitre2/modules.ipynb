{
 "cells": [
  {
   "cell_type": "markdown",
   "metadata": {},
   "source": [
    "## Modules"
   ]
  },
  {
   "cell_type": "markdown",
   "metadata": {},
   "source": [
    "Les modules sont également désignés par le terme de __bibliothèques__ (_library_ en anglais) qui illustre parfaitement l'usage qui en est fait : on consulte la documentation des fonctions disponibles et on emprunte les fonctions nécessaires.\n",
    "La force du langage Python réside dans l'ouverture de ses bibliothèques : une multitude de contributeurs·rices met à disposition de toutes et tous les modules qu'ils ou elles développent. \n",
    "La communauté Python est très active et la plupart des bibliothèques bénéficient d'une maintenance régulière qui garantie la fiabilité.\n",
    "En conséquence, si une fonction a déjà été écrite, il est très fortement déconseillé de la réécrire (puisque dans le meilleur des cas, elle ne serait qu'aussi bien)."
   ]
  },
  {
   "cell_type": "markdown",
   "metadata": {},
   "source": [
    "Pour qu'une fonction puisse être appelée par un programme, il faut que l'interpréteur y ait accès, c'est-à-dire :\n",
    "- que le fichier contenant le script de la fonction soit stocké localement (installation du module)\n",
    "- que le module contenant la fonction soit inclus dans les instructions à interpréter (importation du module)"
   ]
  },
  {
   "cell_type": "markdown",
   "metadata": {},
   "source": [
    "#### Création du module PH461"
   ]
  },
  {
   "cell_type": "markdown",
   "metadata": {},
   "source": [
    "1. Créer un fichier texte vierge intitulé PH461.py dans le répertoire PH461/TD1 (celui du notebook du TD1)\n",
    "2. Copier les fonctions du TD dans le fichier PH461.py\n",
    "3. Importer les fonctions du modules dans un script ou ue cellule de notebook par la commande __import__ :"
   ]
  },
  {
   "cell_type": "code",
   "execution_count": null,
   "metadata": {},
   "outputs": [],
   "source": [
    "import PH461"
   ]
  },
  {
   "cell_type": "markdown",
   "metadata": {},
   "source": [
    "L'appel d'une fonction issue d'un module doit mentionner le nom du module :"
   ]
  },
  {
   "cell_type": "code",
   "execution_count": null,
   "metadata": {},
   "outputs": [],
   "source": [
    "PH461.printcoucou ()"
   ]
  },
  {
   "cell_type": "markdown",
   "metadata": {},
   "source": [
    "Il est parfois commode de donner un alias au nom du module :"
   ]
  },
  {
   "cell_type": "code",
   "execution_count": null,
   "metadata": {},
   "outputs": [],
   "source": [
    "import PH461 as ph\n",
    "ph.printcoucou ()"
   ]
  },
  {
   "cell_type": "markdown",
   "metadata": {},
   "source": [
    "L'importation d'un module enregistré ailleurs que dans le répertoire de travail sera vue en TP."
   ]
  }
 ],
 "metadata": {
  "hide_input": false,
  "kernelspec": {
   "display_name": "Python 3 (ipykernel)",
   "language": "python",
   "name": "python3"
  },
  "language_info": {
   "codemirror_mode": {
    "name": "ipython",
    "version": 3
   },
   "file_extension": ".py",
   "mimetype": "text/x-python",
   "name": "python",
   "nbconvert_exporter": "python",
   "pygments_lexer": "ipython3",
   "version": "3.9.16"
  }
 },
 "nbformat": 4,
 "nbformat_minor": 4
}
