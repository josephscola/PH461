{
 "cells": [
  {
   "cell_type": "markdown",
   "metadata": {},
   "source": [
    "# Programmation modulaire\n",
    "\n",
    "   \n",
    "## Le \"bon\" programme et le \"mauvais\" programme\n",
    "Un \"bon\" programme est un programme modulaire. Et un programme modulaire, qu'est-ce que c'est ?\n",
    "A. Braquelaire (U. Bordeaux) définit les cinq objectifs suivants :\n",
    "1. __Lisibilité__ : facilité à comprendre le comportement et la mise en œuvre d'un programme à partir de son code source.\n",
    "2. __Maintenabilité__ : facilité à détecter des fautes de programmation et à les corriger sans en introduire de nouvelles.\n",
    "3. __Portabilité__ : facilité à adapter toutes les fonctionnalités d'un logiciel à un nouvel environnement.\n",
    "4. __Extensibilité__ : ossibilité de modifier l'implémentation d'une partie du programme ou de lui ajouter des fonctionnalités sans que cela ne modilie le comportement de l'ensemble.\n",
    "5. __Réutilisabilité__ : possibilité d'assembler entre eux plusieurs portions de programme, écrites à des époques et pour des applications différentes, sans qu'aucune d'entre elles ne perturbe le comportement des autres.\n",
    "\n",
    "Il s'agit donc de regrouper les fonctionnalités concourrant à un même traitement.\n",
    "Il existe 2 approches de regroupement qui s'opposent\n",
    "- \"dirigée par le contrôle\" : __approche fonctionnelle descendante__ incompatibie avec la réutilisabilité et l'extensibilité\n",
    "- \"dirigée par les données\" : __approche fonctionnelle ascendante__ favorable à la construction de composants logiciels autonomes (voir prog. par objet).\n",
    "\n",
    "Si on décline  ces approches dans le contexte du PH461 qui vise au développement d'outils d'analyse de données expérimentales, apparaissent les options suivantes.\n",
    "Partant du constat que des données doivent être lues, traitées puis représentées graphiquement,\n",
    "la _méthode descendante_ consisterait à développer des fonctions de représentation pour chaque type de données en incluant les traitements associés aux différents cas de figure.\n",
    "Ainsi, les $X(t)$ d'une acquisition temporelle pourraient très bien se trouvées dans un format différent (une liste par exemple) de celles d'une acquisition en fonction de la température $X(T)$ (qui aurait le type d'un dictionnaire).\n",
    "Cela rendrait nécessaire d'écrire deux versions des fonctions de traitements et de représentation alors même que les opérations seraient communes à n'importe quelle fonction d'une seule variable $f(x)$.\n",
    "A l'inverse la _méthode ascendante_ impliquerait de commencer par développer pour chaque origine de données (et donc chaque format de fichier de données) une fonction qui chargerait les données en mémoire dans un format particulier et toutes les fonctions de traitement seraient compatibles avec ce format (par exemple des listes).\n",
    "C'est l'approche _ascendante_ qui est compatible avec la programmation modulaire."
   ]
  },
  {
   "cell_type": "markdown",
   "metadata": {},
   "source": [
    "##  Métaphore de l'échaffaudage\n",
    "Comme un programme informatique, un échaffaudage est un **outil visant à mettre un ouvrage à portée de main** de celui ou celle en charge de l'exécuter dans un environnement de travail robuste (utile en toutes. circonstances) et fiable (sans introduire de risques).\n",
    "En toute rigueur, un échaffaudage construit sur mesure et avec une finition soignée offrirait les mêmes fonctionnalités qu'une structure métallique mais pour un coût global exhorbitant (en temps, savoir-faire, matériaux, énergie, _etc._).\n",
    "Ce serait d'ailleurs absurde d'apporter le même soin à l'échaffaudage provisoire qu'au bâtiment permanent.\n",
    "\n",
    "L'enjeu est donc de réduire le coût de l'échaffaudage et en premier, de le rendre **réutilisable**.\n",
    "Pour s'adapter à toutes formes et dimensions de bâtiments (**extensibilité**), il doit être décomposé en éléments assez petits .\n",
    "La conception de ces pièces élémentaires doit faciliter\n",
    "- la manipulation aisée sans qu'une formation lourde ne soit nécessaire (**lisibilité**),\n",
    "- le remplacement des pièces défectueuses ou les mises aux normes successives (**maintenabilité**),\n",
    "- l'installation dans des environnements variés (terrains en pente, accidentés, suspendu plutôt que posé sur le sol, _etc._ (**portabilité**)\n",
    "\n",
    "La _méthode descendante_ consisterait à donner la priorité à une fonctionnalité, par exemple établir une station de travail à 5 m du sol, au détriment de l'assemblage des pièces de la structure.\n",
    "Une plateforme d'un seul tenant reposant sur des poutres de chêne atteindrait efficacement l'objectif; en contrepartie, s'il s'avérait souhaitable d'ajouter un étage à 10 m du sol, une stratégie totalement différente devrait alors être mise en œuvre (pour des raisons de poids, de manipulation, de stabilité, _etc._), ce qui est communément appeler _faire du bricolage_.\n",
    "La _méthode ascendante_ au contraire donne la priorité à l'assemblage simples d'éléments versatiles, conduisant à concevoir la structure finale comme l'assemblage de multiples sous-structures.\n",
    "\n",
    "La difficulté, et donc la plus-value du concepteur ou de la conceptrice, est de trouver un **équilibre** entre la versatilité des modules d'une part et le coût global de la conception d'autre part.\n",
    "Il est souvent inutile d'ajuster l'échaffaudage aux dimensions du bâtiment permanent à mieux que quelques dizaines de centimètres de sorte que les pièces n'ont pas besoin d'être réduite à moins d'un mètre.\n",
    "C'est à cette échelle qu'il est efficace de renouveler les stratégies de mise en œuvre, c'est-à-dire de  _bricoler_.\n",
    "\n",
    "|![](./echaffaudage.png)|\n",
    "|:---------------------:|\n",
    "|*Réfection du pavillon Panhard du campus de Versailles de l'Université Paris-Saclay, le 16 mai 2023*|"
   ]
  },
  {
   "cell_type": "markdown",
   "metadata": {},
   "source": [
    "## Principes fondamentaux de la modularité\n",
    "\n",
    "### 1. \"Abstraction des littéraux\"\n",
    "Toute grandeur constante dans un programme donné est susceptible de prendre une autre valeur dans une réutilisation future. \n",
    "L'_abstraction des littéraux_ consiste à déclarer une variable pour toutes les constantes d'un programme.\n",
    "- exemple 1\n",
    "\n",
    "<span style=\"color:red\">mauvaise pratique :</span>\n",
    "<code> <pre> annee_complete = 2000 + annee </pre></code>\n",
    "<span style=\"color:green\">bonne pratique :</span>\n",
    "<code> <pre>annee0 = 2000\n",
    "annee_complete = annee0 + annee </pre></code>\n",
    "- exemple 2\n",
    "\n",
    "<span style=\"color:red\">mauvaise pratique :</span>\n",
    "<code> <pre> open ('/home/mon_repertoire/mon_fichier.dat') </pre></code>\n",
    "<span style=\"color:green\">bonne pratique :</span>\n",
    "<code><pre>path = '/home/mon_repertoire/'\n",
    "file = 'mon_fichier.dat' \n",
    "open (path + file)</pre></code>"
   ]
  },
  {
   "cell_type": "markdown",
   "metadata": {},
   "source": [
    "### 2. \"Factorisation du code\"\n",
    "Le but est d'éviter les duplications de code qui entrave la _maintenabilité_ et l'_extensibilité_ puisque les corrections et les adaptations doivent être autant dupliquées que le code se trouve l'être."
   ]
  },
  {
   "cell_type": "markdown",
   "metadata": {},
   "source": [
    "#### Exemple 1 : représentation d'un nombre complexe \n",
    "On souhaite afficher un nombre complexe sous sa forme cartésiène :\n",
    "\n",
    "$$ z =  1 + 2i $$ "
   ]
  },
  {
   "cell_type": "code",
   "execution_count": 5,
   "metadata": {},
   "outputs": [
    {
     "name": "stdout",
     "output_type": "stream",
     "text": [
      "1.0 + 2.0i\n"
     ]
    }
   ],
   "source": [
    "import numpy as np\n",
    "z = 1+2j\n",
    "print (f'{np.real(z):.1f} + {np.imag(z):.1f}i')"
   ]
  },
  {
   "cell_type": "markdown",
   "metadata": {},
   "source": [
    "Imaginons que dans un autre contexte, il soit nécessaire de remplacer le symbole $i$ du nombre imaginaire par $j$, il faudrait modifier toutes les instructions d'affichage.\n",
    "Pour éviter cela, la chaîne de caractère à afficher doit être définie dans une fonction."
   ]
  },
  {
   "cell_type": "code",
   "execution_count": 6,
   "metadata": {},
   "outputs": [
    {
     "name": "stdout",
     "output_type": "stream",
     "text": [
      "1.0 + 2.0i\n",
      "1.0 + 2.0j\n",
      "1.0 + 2.0◎\n"
     ]
    }
   ],
   "source": [
    "def affiche_complexe (z, symbol = 'i'):\n",
    "    return f'{np.real(z):.1f} + {np.imag(z):.1f}' + symbol\n",
    "print (affiche_complexe (1+2j, 'i'))\n",
    "print (affiche_complexe (1+2j, 'j'))\n",
    "print (affiche_complexe (1+2j, '◎'))"
   ]
  },
  {
   "cell_type": "markdown",
   "metadata": {},
   "source": [
    "<blockcquote>On considérera qu'il y a duplication de code chaque fois qu'une modifiation doit être répercutée en plusieurs endroits du programme. Les fonctions doivent être systématiquement employées pour éviter la duplication de code, même dans le cas où la duplucation se limite à une seule instruction. Si cela s'avère nécessaire, il ne faut pas craidre de définir une multitude de fonctions de petite tailles.</blockcquote>"
   ]
  },
  {
   "cell_type": "markdown",
   "metadata": {},
   "source": [
    "#### Exemple 2 : représentation d'un résultat de mesure\n",
    "Le résultat d'une expérience se représente dans la notation scientifique et associe la valeur moyenne de la mesure, l'incertitude de mesure et l'unité de la grandeur mesurée :\n",
    "\n",
    "$$ X = (1.234 \\pm 0.056)\\cdot 10 ^{-6} \\quad \\mathrm{m}$$"
   ]
  },
  {
   "cell_type": "code",
   "execution_count": 1,
   "metadata": {},
   "outputs": [
    {
     "name": "stdout",
     "output_type": "stream",
     "text": [
      "X = (1.234 ± 0.056) 10^(-6) m\n"
     ]
    }
   ],
   "source": [
    "# données expérimentales\n",
    "X = 1.234e-6\n",
    "Delta_X = 0.056e-6\n",
    "unit = 'm'\n",
    "\n",
    "# affichage du résultat de mesure \n",
    "exp = -6\n",
    "odg = 10**exp\n",
    "print (f'X = ({X/odg:.3f} ± {Delta_X/odg:.3f}) 10^({exp:d}) ' + unit)"
   ]
  },
  {
   "cell_type": "markdown",
   "metadata": {},
   "source": [
    "Cette manière de faire est fonctionnelle mais ne respecte pas les principes de modularité.\n",
    "Si dans un usage ultérieur, on souhaitait représenter un résultat ayant un chiffre significatif supplémentaire : \n",
    "\n",
    "$$ Y = (1.2345 \\pm 0.0056)\\cdot 10 ^{-6} \\quad \\mathrm{m},$$\n",
    "\n",
    "il serait nécessaire de dupliquer le code et de modifier le format d'affichage des variables réelles, en plus du nom de la grandeur."
   ]
  },
  {
   "cell_type": "code",
   "execution_count": 3,
   "metadata": {},
   "outputs": [
    {
     "name": "stdout",
     "output_type": "stream",
     "text": [
      "Y = (1.2345 ± 0.0056) 10^(-6) m\n"
     ]
    }
   ],
   "source": [
    "# données expérimentales\n",
    "Y = 1.2345e-6\n",
    "Delta_Y = 0.0056e-6\n",
    "unit = 'm'\n",
    "\n",
    "# affichage du résultat de mesure \n",
    "exp = -6\n",
    "odg = 10**exp\n",
    "print (f'Y = ({Y/odg:.4f} ± {Delta_Y/odg:.4f}) 10^({exp:d}) ' + unit)"
   ]
  },
  {
   "cell_type": "markdown",
   "metadata": {},
   "source": [
    "Pour éviter cela, et rendre possible l'application du code pour des contextes variés, la décomposition du travail en fonctions et sous-fonctions est nécessaire."
   ]
  },
  {
   "cell_type": "markdown",
   "metadata": {},
   "source": [
    "### 3. \"Masquage de l'implémentation\"\n",
    "Les traitements opérés par une fonction ne doivent pas avoir de **répercussions dans le reste du programme**, en dehors du résultat fourni en sortie.\n",
    "Il ne doit pas être nécessaire de connaître la façon dont le traitement est mené, _i.e._ l'implémentation de la fonction, pour utiliser la fonction.\n",
    "C'est le sens du terme de _masquage d'implémentation_.\n",
    "Autrement dit, les fonctions et sous-fonctions d'un projet doivent être conçues de telle sorte qu'elles puissent être appelées à plusieurs endroits du code et par des fonctions à **différents niveaux hierarchiques** (_e.g._ à la fois par une sous-fonction et une sous-sous-fonction).\n",
    "\n",
    "Pour autant, il faut garder à l'esprit que même si l'implémentation des fonctions doit **permettre d'appeler n'importe quelle fonction depuis n'importe où**, il convient de **ne jamais appeler n'importe quelle fonction depuis n'importe où** pour ne pas nuire à la structuration du programme.\n",
    "De fait, la structuration précède l'implémentation. En d'autres termes,\n",
    "1. la structuration du programme détermine les niveaux  hierarchiques qu'occupent les fonctions et sous-fonctions,\n",
    "2. le masquage de l'implémntation détermine le flux des données entre les fonctions et sous-fonctions définies  lors de la structuration."
   ]
  },
  {
   "cell_type": "markdown",
   "metadata": {},
   "source": [
    "![](./prog_struct_4.png)"
   ]
  },
  {
   "cell_type": "markdown",
   "metadata": {},
   "source": [
    "<div class=\"alert alert-block alert-info\">\n",
    "<b>Conséquence pratique n°1 :</b> La totalité des information transitant depuis programme appelant jusqu'à la fonction doit passer par les arguments de la fonction.\n",
    "</div>\n",
    "<div class=\"alert alert-block alert-info\">\n",
    "<b>Conséquence pratique n°2 :</b> Les fonctions ne doivent traiter que des variables locales (sauf cas exceptionnel de force majeure).\n",
    "</div>\n",
    "<div class=\"alert alert-block alert-info\">\n",
    "<b>Conséquence pratique n°3 :</b> Si un appel de fonction marqué d'un sens interdit s'avère nécessaire, cela signifie qu'une nouvelle sous-fonction doit être écrite là où se trouve le panneau sens interdit; elle devra être placée à un niveau inférieur (ou intermédiaire).\n",
    "</div>"
   ]
  }
 ],
 "metadata": {
  "hide_input": false,
  "kernelspec": {
   "display_name": "Python 3 (ipykernel)",
   "language": "python",
   "name": "python3"
  },
  "language_info": {
   "codemirror_mode": {
    "name": "ipython",
    "version": 3
   },
   "file_extension": ".py",
   "mimetype": "text/x-python",
   "name": "python",
   "nbconvert_exporter": "python",
   "pygments_lexer": "ipython3",
   "version": "3.10.12"
  }
 },
 "nbformat": 4,
 "nbformat_minor": 4
}
