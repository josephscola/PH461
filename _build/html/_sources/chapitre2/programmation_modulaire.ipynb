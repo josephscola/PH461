{
 "cells": [
  {
   "cell_type": "markdown",
   "metadata": {},
   "source": [
    "# Programmation modulaire\n",
    "\n",
    "   \n",
    "## Le bon programme et le mauvais programme\n",
    "Un bon programme est un programme modulaire. Et un programme modulaire, qu'est-ce que c'est ?\n",
    "A. Braquelaire (U. Bordeaux) définit les cinq objectifs suivants :\n",
    "1. __Lisibilité__ : facilité à comprendre le comportement et la mise en œuvre d'un programme à partir de son code source.\n",
    "2. __Maintenabilité__ : facilité à détecter des fautes de programmation et à les corriger sans en introduire de nouvelles.\n",
    "3. __Portabilité__ : facilité à adapter toutes les fonctionnalités d'un logiciel à un nouvel environnement.\n",
    "4. __Extensibilité__ : ossibilité de modifier l'implémentation d'une partie du programme ou de lui ajouter des fonctionnalités sans que cela ne modilie le comportement de l'ensemble.\n",
    "5. __Réutilisabilité__ : possibilité d'assembler entre eux plusieurs portions de programme, écrites à des époques et pour des applications différentes, sans qu'aucune d'entre elles ne perturbe le comportement des autres.\n",
    "\n",
    "Il s'agit donc de regrouper les fonctionnalités concourrant à un même traitement.\n",
    "Il existe 2 approches de regroupement qui s'opposent\n",
    "- \"dirigée par le contrôle\" : __approche fonctionnelle descendante__ incompatibie avec la réutilisabilité et l'extensibilité\n",
    "- \"dirigée par les données\" : __approche fonctionnlle ascendante__ favorable à la construction de composants logiciels autonomes (voir prog. par objet).\n",
    "\n",
    "Si on décline  ces approches dans le contexte du PH461 qui vise au développement d'outils d'analyse de données expérimentales, apparaissent les options suivantes.\n",
    "Partant du constat que des données doivent être lues, traitées puis représentées graphiquement,\n",
    "la _méthode descendante_ consisterait à développer des fonctions de représentation pour chaque type de données en incluant les traitements associés aux différents cas de figure.\n",
    "Ainsi, les $X(t)$ d'une acquisition temporelle pourraient très bien se trouvées dans un format différent (une liste par exemple) de celles d'une acquisition en fonction de la température $X(T)$ (qui aurait le type d'un dictionnaire).\n",
    "Cela rendrait nécessaire d'écrire deux versions des fonctions de traitements et de représentation alors même que les opérations seraient communes à n'importe quelle fonction d'une seule variable $f(x)$.\n",
    "A l'inverse la _méthode ascendante_ impliquerait de commencer par développer pour chaque origine de données (et donc chaque format de fichier de données) une fonction qui chargerait les données en mémoire dans un format particulier et toutes les fonctions de traitement seraient compatibles avec ce format (par exemple des listes)."
   ]
  },
  {
   "cell_type": "markdown",
   "metadata": {},
   "source": [
    "## Principes fondamentaux de la modularité\n",
    "\n",
    "### 1. \"Abstraction des littéraux\"\n",
    "Toute grandeur constante dans un programme donné est susceptible de prendre une autre valeur dans une réutilisation future. \n",
    "L'_abstraction des littéraux_ consiste à déclarer une variable pour toutes les constantes d'un programme.\n",
    "- exemple 1\n",
    "\n",
    "<span style=\"color:red\">mauvaise pratique :</span>\n",
    "<code> <pre> annee_complete = 2000 + annee </pre></code>\n",
    "<span style=\"color:green\">bonne pratique :</span>\n",
    "<code> <pre>annee0 = 2000\n",
    "annee_complete = annee0 + annee </pre></code>\n",
    "- exemple 2\n",
    "\n",
    "<span style=\"color:red\">mauvaise pratique :</span>\n",
    "<code> <pre> open ('/home/mon_repertoire/mon_fichier.dat') </pre></code>\n",
    "<span style=\"color:green\">bonne pratique :</span>\n",
    "<code><pre>path = '/home/mon_repertoire/'\n",
    "file = 'mon_fichier.dat' \n",
    "open (path + file)</pre></code>"
   ]
  },
  {
   "cell_type": "markdown",
   "metadata": {},
   "source": [
    "### 2. \"Facorisation du code\"\n",
    "Le but est d'éviter les duplications de code qui entrave la _maintenabilité_ et l'_extensibilité_ puisque les corrections et les adaptations doivent être autant dupliquées que le code se trouve l'être."
   ]
  },
  {
   "cell_type": "markdown",
   "metadata": {},
   "source": [
    "#### Exemple 1 : représentation d'un nombre complexe \n",
    "On souhaite afficher un nombre complexe sous sa forme cartésiène :\n",
    "$$ z =  1 + 2i $$ "
   ]
  },
  {
   "cell_type": "code",
   "execution_count": 5,
   "metadata": {},
   "outputs": [
    {
     "name": "stdout",
     "output_type": "stream",
     "text": [
      "1.0 + 2.0i\n"
     ]
    }
   ],
   "source": [
    "import numpy as np\n",
    "z = 1+2j\n",
    "print (f'{np.real(z):.1f} + {np.imag(z):.1f}i')"
   ]
  },
  {
   "cell_type": "markdown",
   "metadata": {},
   "source": [
    "Imaginons que dans un autre contexte, il soit nécessaire de remplacer le symbole $i$ du nombre imaginaire par $j$, il faudrait modifier toutes les instructions d'affichage.\n",
    "Pour éviter cela, la chaîne de caractère à afficher doit être définie dans une fonction."
   ]
  },
  {
   "cell_type": "code",
   "execution_count": 6,
   "metadata": {},
   "outputs": [
    {
     "name": "stdout",
     "output_type": "stream",
     "text": [
      "1.0 + 2.0i\n",
      "1.0 + 2.0j\n",
      "1.0 + 2.0◎\n"
     ]
    }
   ],
   "source": [
    "def affiche_complexe (z, symbol):\n",
    "    return f'{np.real(z):.1f} + {np.imag(z):.1f}' + symbol\n",
    "print (affiche_complexe (1+2j, 'i'))\n",
    "print (affiche_complexe (1+2j, 'j'))\n",
    "print (affiche_complexe (1+2j, '◎'))"
   ]
  },
  {
   "cell_type": "markdown",
   "metadata": {},
   "source": [
    "<blockcquote>On considérera qu'il y a duplication de code chaque fois qu'une modifiation doit être répercuytée en plusieurs endroits différents du programme. Les fonctions doivent être systématiquement employées pour éviter la duplication de code, même dans le cas où la duplucation se limite à une seule instruction. Si cela s'avère nécessaire, il ne faut pas craidre de définir une multitude de fonctions de petite tailles.</blockcquote>"
   ]
  },
  {
   "cell_type": "markdown",
   "metadata": {},
   "source": [
    "#### Exemple 2 : représentation d'un résultat de mesure\n",
    "Le résultat d'une expérience se représente dans la notation scientifique et associe la valeur moyenne de la mesure, l'incertitude de mesure et l'unité de la grandeur mesurée :\n",
    "$$ X = (1.234 \\pm 0.056)\\cdot 10 ^{-6} \\quad \\mathrm{m}$$"
   ]
  },
  {
   "cell_type": "code",
   "execution_count": 7,
   "metadata": {},
   "outputs": [
    {
     "name": "stdout",
     "output_type": "stream",
     "text": [
      "X = (1.234 ± 0.056) 10^(-6) m\n"
     ]
    }
   ],
   "source": [
    "# données expérimentales\n",
    "X = 1.234e-6\n",
    "Delta_X = 0.056e-6\n",
    "unit = 'm'\n",
    "\n",
    "# affichage du résultat de mesure \n",
    "exp = -6\n",
    "odg = 10**exp\n",
    "print (f'X = ({X/odg:.3f} ± {Delta_X/odg:.3f}) 10^({exp:d}) ' + unit)"
   ]
  },
  {
   "cell_type": "markdown",
   "metadata": {},
   "source": [
    "Cette manière de faire est fonctionnelle mais ne respecte pas les principes de modularité.\n",
    "Si dans un usage ultérieur, on souhaitait représenter un résultat ayant un chiffre significatif supplémentaire : \n",
    "$$ Y = (1.2345 \\pm 0.0056)\\cdot 10 ^{-6} \\quad \\mathrm{m},$$\n",
    "il serait nécessaire de dupliquer le code et de modifier le format d'affichage des variables réelles, en plus du nom de la grandeur."
   ]
  },
  {
   "cell_type": "code",
   "execution_count": null,
   "metadata": {},
   "outputs": [],
   "source": [
    "# données expérimentales\n",
    "Y = 1.2345e-6\n",
    "Delta_Y = 0.0056e-6\n",
    "unit = 'm'\n",
    "\n",
    "# affichage du résultat de mesure \n",
    "exp = -6\n",
    "odg = 10**exp\n",
    "print (f'Y = ({Y/odg:.4f} ± {Delta_Y/odg:.4f}) 10^({exp:d}) ' + unit)"
   ]
  },
  {
   "cell_type": "markdown",
   "metadata": {},
   "source": [
    "Pour éviter cela, et rendre possible l'application du code pour des contextes variés, la décomposition du travail en fonctions et sous-fonctions est nécessaire."
   ]
  },
  {
   "cell_type": "markdown",
   "metadata": {},
   "source": [
    "### 3. \"Masquage de l'implémentation\"\n",
    "Les fonctions et sous-fonctions d'un projet doivent être conçues de telle sorte qu'elles puissent être appelées à plusieurs endroits du code et par des fonctions à différents niveaux hierarchiques (_e.g._ à la fois par une sous-fonction et une sous-sous-fonction).\n",
    "Autrement dit, les traitements opérés par une fonction ne doivent pas avoir de répercussions dans le reste du programme, en dehors du résultat fourni en sortie.\n",
    "Il ne doit pas être nécessaire de connaître la façon dont le traitement est mené, _i.e._ l'implémentation de la fonction, pour utiliser la fonction.\n",
    "C'est le sens du terme de _masquage d'implémentation_\n",
    "\n",
    "<div class=\"alert alert-block alert-success\">\n",
    "<b>Conséquence pratique n°1 :</b> La totalité des information transitant du programme appelant à la fonction doit passer par les arguments de la fonction.\n",
    "</div>\n",
    "<div class=\"alert alert-block alert-success\">\n",
    "<b>Conséquence pratique n°2 :</b> Les fonctions ne doivent traiter que des variables locales (sauf cas de force majeur)\n",
    "</div>"
   ]
  }
 ],
 "metadata": {
  "hide_input": false,
  "kernelspec": {
   "display_name": "Python 3 (ipykernel)",
   "language": "python",
   "name": "python3"
  },
  "language_info": {
   "codemirror_mode": {
    "name": "ipython",
    "version": 3
   },
   "file_extension": ".py",
   "mimetype": "text/x-python",
   "name": "python",
   "nbconvert_exporter": "python",
   "pygments_lexer": "ipython3",
   "version": "3.9.16"
  }
 },
 "nbformat": 4,
 "nbformat_minor": 4
}
