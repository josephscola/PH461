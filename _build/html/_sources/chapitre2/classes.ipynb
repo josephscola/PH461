{
 "cells": [
  {
   "cell_type": "markdown",
   "metadata": {},
   "source": [
    "# Classes"
   ]
  },
  {
   "cell_type": "markdown",
   "metadata": {},
   "source": [
    "Les classes sont les structures sur lesquelles s'appuie la programmation par _objet_.\n",
    "Une classe rassemble:\n",
    "- des variables appelées _attributs_\n",
    "- des fonctions appelées _méthodes_ qui ont un accès direct aux _attributs_ de la classe.\n",
    "\n",
    "Une variable dont le type est une classe est appelée une _instance_ de cette classe."
   ]
  },
  {
   "cell_type": "markdown",
   "metadata": {},
   "source": [
    "```python\n",
    "# Syntaxe Python de la définition d'une class\n",
    "class nom_de_la_classe :\n",
    "    def __init__ (self, var1, var2, var3, ...):  # constructeur de la classe\n",
    "        self.variable1 = var1 # variable1 = attribut de la classe; var1 = variable locale\n",
    "        self.variable2 = var2\n",
    "        self.variable3 = var3  \n",
    "        # pas d'instruction return\n",
    "      \n",
    "    def methode1 (self, arg1, arg2, ...): #définition des fonctions de la classe ou méthodes\n",
    "        ...\n",
    "        return resultat1\n",
    "    \n",
    "```"
   ]
  },
  {
   "cell_type": "markdown",
   "metadata": {},
   "source": [
    "### Exemple d'une classe COMPLEXE"
   ]
  },
  {
   "cell_type": "code",
   "execution_count": 55,
   "metadata": {},
   "outputs": [],
   "source": [
    "class COMPLEXE :\n",
    "    mod = -1\n",
    "    def __init__ (self, real, imag) :\n",
    "        self.real = real\n",
    "        self.imag = imag\n",
    "            \n",
    "    def conjugate (self):\n",
    "        return COMPLEXE (self.real, -self.imag)\n",
    "    \n",
    "    def modulus (self):\n",
    "        modulus = (self.real ** 2 + self.imag ** 2)**0.5\n",
    "        self.mod = modulus\n",
    "        return modulus"
   ]
  },
  {
   "cell_type": "code",
   "execution_count": 56,
   "metadata": {},
   "outputs": [
    {
     "name": "stdout",
     "output_type": "stream",
     "text": [
      "2.23606797749979\n",
      "2.23606797749979\n"
     ]
    }
   ],
   "source": [
    "z1 = COMPLEXE (1, 2)\n",
    "\n",
    "z2 = z1.conjugate ()\n",
    "\n",
    "print (z1.modulus())\n",
    "print (z2.modulus())\n"
   ]
  },
  {
   "cell_type": "markdown",
   "metadata": {},
   "source": [
    "La commande **dir** appliquée à l'instance d'une classe renvoie la liste des attributs de la classe."
   ]
  },
  {
   "cell_type": "code",
   "execution_count": 57,
   "metadata": {},
   "outputs": [
    {
     "data": {
      "text/plain": [
       "['__class__',\n",
       " '__delattr__',\n",
       " '__dict__',\n",
       " '__dir__',\n",
       " '__doc__',\n",
       " '__eq__',\n",
       " '__format__',\n",
       " '__ge__',\n",
       " '__getattribute__',\n",
       " '__gt__',\n",
       " '__hash__',\n",
       " '__init__',\n",
       " '__init_subclass__',\n",
       " '__le__',\n",
       " '__lt__',\n",
       " '__module__',\n",
       " '__ne__',\n",
       " '__new__',\n",
       " '__reduce__',\n",
       " '__reduce_ex__',\n",
       " '__repr__',\n",
       " '__setattr__',\n",
       " '__sizeof__',\n",
       " '__str__',\n",
       " '__subclasshook__',\n",
       " '__weakref__',\n",
       " 'conjugate',\n",
       " 'imag',\n",
       " 'mod',\n",
       " 'modulus',\n",
       " 'real']"
      ]
     },
     "execution_count": 57,
     "metadata": {},
     "output_type": "execute_result"
    }
   ],
   "source": [
    "dir (z1)"
   ]
  },
  {
   "cell_type": "code",
   "execution_count": 58,
   "metadata": {},
   "outputs": [
    {
     "data": {
      "text/plain": [
       "32"
      ]
     },
     "execution_count": 58,
     "metadata": {},
     "output_type": "execute_result"
    }
   ],
   "source": [
    "z1.__sizeof__()"
   ]
  },
  {
   "cell_type": "code",
   "execution_count": 60,
   "metadata": {},
   "outputs": [
    {
     "data": {
      "text/plain": [
       "NotImplemented"
      ]
     },
     "execution_count": 60,
     "metadata": {},
     "output_type": "execute_result"
    }
   ],
   "source": [
    "z1.__ge__(z2)"
   ]
  },
  {
   "cell_type": "code",
   "execution_count": 64,
   "metadata": {},
   "outputs": [],
   "source": [
    "class COMPLEXE :\n",
    "    mod = -1\n",
    "    def __init__ (self, real, imag) :\n",
    "        self.real = real\n",
    "        self.imag = imag\n",
    "            \n",
    "    def conjugate (self):\n",
    "        return COMPLEXE (self.real, -self.imag)\n",
    "    \n",
    "    def modulus (self):\n",
    "        modulus = (self.real ** 2 + self.imag ** 2)**0.5\n",
    "        self.mod = modulus\n",
    "        return modulus\n",
    "    \n",
    "    def __str__ (self):\n",
    "        # n nombre de chiffres décimaux\n",
    "        if self.imag < 0:\n",
    "            string = f'{self.real:.3f} - {-self.imag:.3f}i'\n",
    "        else:\n",
    "            string = f'{self.real:.3f} + {self.imag:.3f}i'\n",
    "        return string\n",
    "    \n",
    "    def __ge__(self, other):\n",
    "        return self.modulus() >= other.modulus()"
   ]
  },
  {
   "cell_type": "code",
   "execution_count": 65,
   "metadata": {},
   "outputs": [],
   "source": [
    "z1 = COMPLEXE (1, 2)\n",
    "z2 = COMPLEXE (0,2)"
   ]
  },
  {
   "cell_type": "code",
   "execution_count": 66,
   "metadata": {},
   "outputs": [
    {
     "data": {
      "text/plain": [
       "True"
      ]
     },
     "execution_count": 66,
     "metadata": {},
     "output_type": "execute_result"
    }
   ],
   "source": [
    "z1.__ge__(z2)"
   ]
  },
  {
   "cell_type": "code",
   "execution_count": 67,
   "metadata": {},
   "outputs": [
    {
     "data": {
      "text/plain": [
       "True"
      ]
     },
     "execution_count": 67,
     "metadata": {},
     "output_type": "execute_result"
    }
   ],
   "source": [
    "z1 >= z2"
   ]
  },
  {
   "cell_type": "code",
   "execution_count": 68,
   "metadata": {},
   "outputs": [
    {
     "name": "stdout",
     "output_type": "stream",
     "text": [
      "1.000 + 2.000i\n"
     ]
    }
   ],
   "source": [
    "print(z1)"
   ]
  }
 ],
 "metadata": {
  "hide_input": false,
  "kernelspec": {
   "display_name": "Python 3 (ipykernel)",
   "language": "python",
   "name": "python3"
  },
  "language_info": {
   "codemirror_mode": {
    "name": "ipython",
    "version": 3
   },
   "file_extension": ".py",
   "mimetype": "text/x-python",
   "name": "python",
   "nbconvert_exporter": "python",
   "pygments_lexer": "ipython3",
   "version": "3.10.12"
  }
 },
 "nbformat": 4,
 "nbformat_minor": 4
}
