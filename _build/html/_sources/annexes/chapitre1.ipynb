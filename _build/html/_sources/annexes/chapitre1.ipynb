{
 "cells": [
  {
   "cell_type": "markdown",
   "metadata": {},
   "source": [
    "## Préambule : Présentation de l'environnement de programmation en Python <a class=\"anchor\" id=\"chapter1\"></a>\n",
    "\n",
    "* [Quel équipement pour le PH641 ?](#equipement)\n",
    "* [Installation de l'interpréteur Python3](#installation_py)\n",
    "* [Exécuter des commandes Python](#run_py)\n",
    "* [Installation de l'environnement de travail Jupyter-notebook](#isntallation_nb)"
   ]
  },
  {
   "cell_type": "markdown",
   "metadata": {
    "heading_collapsed": true
   },
   "source": [
    "### Quel équipement pour le PH641 ? <a class=\"anchor\" id=\"equipement\"></a>\n",
    "\n",
    "Tous les exercices étant sur machine, il est obligatoire de venir en cours muni d'un ordinateur, le vôtre ou un cartable numérique.\n",
    "L'interpréteur Python peut-être installé sur les systèmes d'exploitation Linux, Windows et MacOS.\n",
    "Le département de mathématique de l'UVSQ met à disposition un interpréteur en ligne accessible avec les identifiants UVSQ : \n",
    "[jupyter.ens.uvsq.fr](https://jupyter.ens.uvsq.fr/)\n",
    "Pour ce cours, il n'est donc pas indispensable d'installer Python sur son propre équipement, mais c'est fortement recommandé pour le confort de travail."
   ]
  },
  {
   "cell_type": "markdown",
   "metadata": {
    "heading_collapsed": true
   },
   "source": [
    "### Installations de l'interpréteur Python3 <a class=\"anchor\" id=\"installation_py\"></a>\n",
    "\n",
    "L'interpréteur est le programme qui lit et exécute les commandes Python. \n",
    "Il s'installe comme un programme ordinaire.\n",
    "\n",
    "#### Sous windows :\n",
    "distribution Anaconda + Python3.7\n",
    "\n",
    "#### Sous Linux : \n",
    "installé par défaut dans la plupart des distribution (Ubuntu, Raspberry pi)\n",
    "\n",
    "#### Sous MacOS :\n",
    "voir la [documentation en ligne](https://docs.anaconda.com/anaconda/install/mac-os/)"
   ]
  },
  {
   "cell_type": "markdown",
   "metadata": {},
   "source": [
    "### Exécuter des commandes Python <a class=\"anchor\" id=\"run_py\"></a>\n",
    "#### Commandes individuelles\n",
    "Ouvrir un terminal et exécuter la commande \n",
    "<pre><code> python3 </code></pre>\n",
    "\n",
    "Le terminal propose alors de saisir des commandes pouvant être exécutées directement.\n",
    "\n",
    "#### Exécuter un script\n",
    "Un script estun fichier contenant une séries d'instructions qui seront exécutées para un interpréteur comme Python.\n",
    "Les commandes d'un _script_ sont exécutées séquentiellement par un _interpréteur_ à la différence d'un _programme_ qui est dans un premier temps converti dans un premier temps en _exécutable_ par un _compilateur_ puis exécuté par le processeur.\n",
    "A tache identique, le temps d'exécution d'un  _programme compilé_ est deux à trois ordres de grandeurs plus court que celui d'un _script interprété_;\n",
    "En pratique, on se détournera de Python, souvent au profit du langage C, pour des applications embarquées ou nécessitant d'importantes ressources de processeur.\n",
    "\n",
    "Les scripts Python sont de simples fichiers textes contenant la séquence des commandes; pour être reconnus par l'interpréteur, ces fichiers doivent impérativement porter l'extension .py.\n",
    "Un script Python peut être exécuté depuis le terminal par la commande :\n",
    "<pre><code> python3 premier_script_Python.py </code></pre>"
   ]
  },
  {
   "cell_type": "markdown",
   "metadata": {
    "heading_collapsed": true
   },
   "source": [
    "### Environnement de travail Jupyter-notebook <a class=\"anchor\" id=\"installation_nb\"></a>\n",
    "\n",
    "Dans ce cours, les scripts ne seront pas exécutés dans le terminal mais dans un _jupyter notebook_.\n",
    "Cet éditeur offre un environnement de développement convivial est particulièrement adapté à la rédaction scientifique (compte-rendu de TP, rapport d'analyse, article scientifique, ...).\n",
    "Ce support de cours est un _jupyter notebook_.\n",
    "\n",
    "#### Installation sous Linux :\n",
    "- Installer notebook : \n",
    "<pre><code> pip install notebook </code></pre>\n",
    "\n",
    "- Installer l'extension nbextensions de notebook:\n",
    "<pre><code> jupyter contrib nbextension install --user </code></pre>\n",
    "\n",
    "- Activer l'éditeur convivial des extensions de notebook :\n",
    "<pre><code> jupyter nbextensions_configurator enable </code></pre>\n",
    "\n",
    "- Lancer un notebook de jupyter :\n",
    "<pre><code> jupyter notebook </code></pre>"
   ]
  },
  {
   "cell_type": "markdown",
   "metadata": {},
   "source": [
    "### Arborescence de votre répertoire de travail <a class=\"anchor\" id=\"commandes_jupyter\"></a>\n",
    "Il est nécessaire de donner à l'arborescence du répertoire de travail une structure simple et lisible qui devra être employée pour chaque projet.\n",
    "En premier lieu, créez un répertoire __PH461__ à l'intérieur duquel vous créerez :\n",
    "- __1 répertoire projet__ contenant le _jupyter  notebook_ du projet\n",
    "    - __1 sous-répertoire module__ pour les fonctions spécifiques, structuré comme un module\n",
    "    - __1 sous-répertoire data__ pour les données d'entrée\n",
    "    - __1 sous-répertoire output__ pour les données de sortie\n",
    "- __1 répertoire routines__ dédié aux fonctions appelées par plusieurs projets"
   ]
  },
  {
   "cell_type": "markdown",
   "metadata": {},
   "source": [
    "### Premier contact avec le serpent \n",
    "#### Exécution d'une instruction avec notebook"
   ]
  },
  {
   "cell_type": "code",
   "execution_count": null,
   "metadata": {},
   "outputs": [],
   "source": [
    "print ('Pour afficher cette chaîne de caractères, vous avez cliqué sur le bouton \"Exécuter\"')"
   ]
  },
  {
   "cell_type": "code",
   "execution_count": null,
   "metadata": {},
   "outputs": [],
   "source": [
    "print ('Pour afficher cette chaîne de caractères, vous avez pressé \"Ctrl-Enter\"')\n",
    "print ('La cellule active n\\'a pas changé')"
   ]
  },
  {
   "cell_type": "code",
   "execution_count": null,
   "metadata": {},
   "outputs": [],
   "source": [
    "print ('Pour afficher cette chaîne de caractères, vous avez pressé \"Shift-Enter\"')\n",
    "print ('C\\'est la cellule suivante qui est maintenant active')"
   ]
  },
  {
   "cell_type": "code",
   "execution_count": null,
   "metadata": {},
   "outputs": [],
   "source": [
    "print ('Pour afficher cette chaîne de caractères, vous avez pressé \"Alt-Enter\"')\n",
    "print ('Une nouvelle cellule a été créée après celle-ci')"
   ]
  },
  {
   "cell_type": "markdown",
   "metadata": {},
   "source": [
    "#### Commentaires\n",
    "Le caractère # marque le début d'un commentaire jusqu'à la fin de la ligne."
   ]
  },
  {
   "cell_type": "code",
   "execution_count": null,
   "metadata": {},
   "outputs": [],
   "source": [
    "print ('Cette ligne est commentée') # commentaire de la ligne\n",
    "#print ('Il a fallu retirer le caractère # pour que cette chaîne soit affichée') "
   ]
  }
 ],
 "metadata": {
  "hide_input": false,
  "kernelspec": {
   "display_name": "Python 3",
   "language": "python",
   "name": "python3"
  },
  "language_info": {
   "codemirror_mode": {
    "name": "ipython",
    "version": 3
   },
   "file_extension": ".py",
   "mimetype": "text/x-python",
   "name": "python",
   "nbconvert_exporter": "python",
   "pygments_lexer": "ipython3",
   "version": "3.8.10"
  }
 },
 "nbformat": 4,
 "nbformat_minor": 4
}
