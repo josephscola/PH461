{
 "cells": [
  {
   "cell_type": "markdown",
   "metadata": {},
   "source": [
    "### Quel équipement pour le PH641 ? <a class=\"anchor\" id=\"section1_1\"></a>\n",
    "\n",
    "Tous les exercices étant sur machine, il est obligatoire de venir en cours muni d'un ordinateur, le vôtre ou un cartable numérique.\n",
    "L'interpréteur Python peut-être installé sur les systèmes d'exploitation Linux, Windows et MacOS.\n",
    "Le département de mathématique de l'UVSQ met à disposition un interpréteur en ligne accessible avec les identifiants UVSQ : \n",
    "[jupyter.ens.uvsq.fr](https://jupyter.ens.uvsq.fr/)\n",
    "Pour ce cours, il n'est donc pas indispensable d'installer Python sur son propre équipement, mais c'est fortement recommandé pour le confort de travail."
   ]
  }
 ],
 "metadata": {
  "hide_input": false,
  "kernelspec": {
   "display_name": "Python 3",
   "language": "python",
   "name": "python3"
  },
  "language_info": {
   "codemirror_mode": {
    "name": "ipython",
    "version": 3
   },
   "file_extension": ".py",
   "mimetype": "text/x-python",
   "name": "python",
   "nbconvert_exporter": "python",
   "pygments_lexer": "ipython3",
   "version": "3.9.16"
  }
 },
 "nbformat": 4,
 "nbformat_minor": 4
}