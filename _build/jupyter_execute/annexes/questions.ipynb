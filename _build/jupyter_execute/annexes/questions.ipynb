{
 "cells": [
  {
   "cell_type": "markdown",
   "metadata": {},
   "source": [
    "#### Dysfonctionnement de __ordre_de_l_erreur__ lorsque le plus petit chiffre significatif est 0\n",
    "Il a été relevé par Mme Pop durant la séance que la fonction __ordre_de_l_erreur__ surestimait l'ordre de l'erreur $\\varepsilon$ du plus petit chiffre significatif lorsque celui-ci vaut 0.\n",
    "Effectivement, la fonction détermine son résultat $n$ par le critère :\n",
    "$$ \\left\\{ \\mathrm{min}\\, n,\\, n  \\in\\mathbb{N}^+\\right\\},\\quad \\varepsilon \\cdot 10^{n} \\le \\mathrm{floor} (\\varepsilon \\cdot 10^{n}) $$\n",
    "$n$ étant défini comme le plus petit nombre de décalage à droite de la virgule nécessaire pour que toutes les décimales non nulles se retrouvent à gauche de la virgule.\n",
    "Or ce critère n'est pas manifestement plus valide lorsque qu'un des chiffres significatifs de l'erreur est nul (_e.g._ $\\varepsilon = 0.50$).\n",
    "\n",
    "Mon erreur vient du fait que la question ne se pose pas lorsque l'incertitude est connue avec 1 seul chiffre significatif comme c'était le cas dans les exercices de L1 d'où j'ai repris l'algorithme;\n",
    "ce chiffre significatif unique n'est jamais nul par la force des choses (et par celle de l'arrondi à la décimale supérieure).\n",
    "Lorsque l'incertitude s'exprime avec plusieurs chiffres significatifs, la présence d'un zéro à droite n'a pas une signification unique :\n",
    "- soit il signifie l'ajout d'un terme $0\\cdot 10^{-n},\\, n\\in \\mathbb{N}^+$,\n",
    "- soit il informe sur l'ordre de grandeur de la précision avec laquelle l'incertitude est connue.\n",
    "\n",
    "En conséquence, la valeur numérique de l'incertitude ne suffit pas pour que le programme connaisse l'ordre de l'erreur sans ambibuïté.\n",
    "Il est donc nécessaire de lui fournir une information supplémentaire comme le nombre de chiffres significatifs de l'incertitude.\n",
    "Ce dysfonctionnement du programme provient donc d'une erreur de définition du problème, tout en amont du processus de programmation : l'algorithme n'est opérationnel que pour une erreur connue avec 1 chiffre significatif et il ne peut pas être étendu simplement à d'autres cas de figure. Ces cas de figures doivent être traités comme des _exceptions_ dans ce programme.\n",
    "\n",
    "Bien vu Mme Pop."
   ]
  },
  {
   "cell_type": "markdown",
   "metadata": {},
   "source": [
    "#### Comment afficher directement un tableau formatté sans devoir copier-coller le résultat de la cellule ?"
   ]
  },
  {
   "cell_type": "code",
   "execution_count": 1,
   "metadata": {},
   "outputs": [
    {
     "data": {
      "text/markdown": [
       "| | |\n",
       "|:-:|:-:|\n",
       "| 1 | 2 |\n",
       "| 2 | 4 |"
      ],
      "text/plain": [
       "<IPython.core.display.Markdown object>"
      ]
     },
     "metadata": {},
     "output_type": "display_data"
    }
   ],
   "source": [
    "from IPython.display import display, Markdown\n",
    "\n",
    "tableau = '| | |\\n|:-:|:-:|\\n| 1 | 2 |\\n| 2 | 4 |'\n",
    "display (Markdown (tableau))"
   ]
  },
  {
   "cell_type": "markdown",
   "metadata": {},
   "source": [
    "---"
   ]
  },
  {
   "cell_type": "markdown",
   "metadata": {},
   "source": [
    "#### Pourquoi if 12 est-elle une instruction valide ?"
   ]
  },
  {
   "cell_type": "code",
   "execution_count": 2,
   "metadata": {},
   "outputs": [
    {
     "name": "stdout",
     "output_type": "stream",
     "text": [
      "True\n",
      "a satisfait la condition\n",
      "la valeur de a.__bool__() est  True\n",
      "False\n",
      "b satisfait la condition\n",
      "la valeur de b.__bool__() est  True\n"
     ]
    }
   ],
   "source": [
    "a = 1\n",
    "print (a == True)\n",
    "if a:\n",
    "\tprint ('a satisfait la condition')\n",
    "print ('la valeur de a.__bool__() est ', a.__bool__ ())\n",
    "\n",
    "b = 12.\n",
    "print (b == True)\n",
    "if b:\n",
    "\tprint ('b satisfait la condition')\n",
    "\n",
    "print ('la valeur de b.__bool__() est ', b.__bool__ ())"
   ]
  },
  {
   "cell_type": "markdown",
   "metadata": {},
   "source": [
    "#### réponse : \n",
    "requête duckduckgo : \"python if statement non boolean\" \\\n",
    "https://stackoverflow.com/questions/38237668/if-statement-with-no-logical-operators-in-python"
   ]
  }
 ],
 "metadata": {
  "hide_input": false,
  "kernelspec": {
   "display_name": "Python 3",
   "language": "python",
   "name": "python3"
  },
  "language_info": {
   "codemirror_mode": {
    "name": "ipython",
    "version": 3
   },
   "file_extension": ".py",
   "mimetype": "text/x-python",
   "name": "python",
   "nbconvert_exporter": "python",
   "pygments_lexer": "ipython3",
   "version": "3.9.16"
  }
 },
 "nbformat": 4,
 "nbformat_minor": 4
}