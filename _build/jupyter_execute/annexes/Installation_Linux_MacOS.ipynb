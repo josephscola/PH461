{
 "cells": [
  {
   "cell_type": "markdown",
   "metadata": {},
   "source": [
    "#### Installation sous Linux :\n",
    "- Installer notebook : \n",
    "<pre><code> pip install notebook </code></pre>\n",
    "\n",
    "- Installer l'extension nbextensions de notebook:\n",
    "<pre><code> pip install nbconvert </code></pre>\n",
    "<pre><code> pip install jupyter_contrib_nbextensions </code></pre>\n",
    "\n",
    "- Activer l'éditeur convivial des extensions de notebook :\n",
    "<pre><code> jupyter nbextensions_configurator enable </code></pre>\n",
    "\n",
    "- Lancer un notebook de jupyter :\n",
    "<pre><code> jupyter notebook </code></pre>\n",
    "\n",
    "#### Installation sous MacOS :\n",
    "voir la [documentation en ligne](https://docs.anaconda.com/anaconda/install/mac-os/)\n"
   ]
  }
 ],
 "metadata": {
  "hide_input": false,
  "kernelspec": {
   "display_name": "Python 3 (ipykernel)",
   "language": "python",
   "name": "python3"
  },
  "language_info": {
   "codemirror_mode": {
    "name": "ipython",
    "version": 3
   },
   "file_extension": ".py",
   "mimetype": "text/x-python",
   "name": "python",
   "nbconvert_exporter": "python",
   "pygments_lexer": "ipython3",
   "version": "3.9.16"
  }
 },
 "nbformat": 4,
 "nbformat_minor": 4
}