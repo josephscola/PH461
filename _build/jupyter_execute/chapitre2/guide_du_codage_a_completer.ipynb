{
 "cells": [
  {
   "cell_type": "markdown",
   "metadata": {},
   "source": [
    "# Guide pratique du codage"
   ]
  },
  {
   "cell_type": "markdown",
   "metadata": {},
   "source": [
    "## Lisibilité et mise en page du code\n",
    "Voici une liste non-exhaustive de conseils contribuant à améliorer la lisibilité d'un code et, partant, la facilité à y trouver une erreur de syntaxe, un dysfonctionnement, ou encore à l'étendre ou le partager."
   ]
  },
  {
   "cell_type": "markdown",
   "metadata": {},
   "source": [
    "#### En-tête de fichiers\n",
    "Pour tout nouveau fichier, ajouter une introduction descriptive en commentaire :\n",
    "- nom du programme\n",
    "- date de création\n",
    "- nom de l'auteur·rice (et adresse mail)\n",
    "- établissement ou entreprise où le programme a été développé"
   ]
  },
  {
   "cell_type": "markdown",
   "metadata": {},
   "source": [
    "#### Nommage des variables et des fonctions\n",
    "Le nom d'une variable ou d'une fonction doit clairement informer sur son rôle dans le programme.\n",
    "\n",
    "<span style=\"color:green\">Facile à lire</span>\n",
    "```python\n",
    "variable_facile_a_lire = 20/20\n",
    "```\n",
    "\n",
    "<span style=\"color:red\">A proscrire</span>\n",
    "```python\n",
    "c = 2 # c représente telle grandeur et il faudra revenir à cette ligne pour le savoir\n",
    "variableinutilementillisible = 0/20\n",
    "\n",
    "```\n",
    "---\n",
    "<span style=\"color:green\">Facile à lire</span>\n",
    "```python\n",
    "def estimation_de_telle_grandeur (mesure_truc, parametre_machin) :\n",
    "    # cette fonction calcule une estimation de telle grandeur \n",
    "    # en fonction de la mesure truc et du parametre machin\n",
    "    ...\n",
    "    return estimation\n",
    "```\n",
    "<span style=\"color:red\">A proscrire</span>\n",
    "```python\n",
    "def fonction1 (arg1, arg2) :\n",
    "    # cette fonction calcule une estimation de telle grandeur en fonction de arg1 et arg2\n",
    "    # arg1 représente la mesure truc\n",
    "    # arg2 représente le paramètre machin\n",
    "    ...\n",
    "    return output\n",
    "```\n",
    "\n"
   ]
  },
  {
   "cell_type": "markdown",
   "metadata": {},
   "source": [
    "#### Commenter le code\n",
    "Un programme convenablement structuré se présente sous la forme d'une __séquence de fonctions__ dont le nom et celui des arguments sont explicites. \n",
    "Il se lit donc comme un __pseudo-code__ qui doit pouvoir se passer de commentaire.\n",
    "\n",
    "Les commentaires doivent trouver leur place\n",
    "- au début des blocs d'instructions (délimités par des sauts de ligne) \n",
    "- à la tête du corps des fonctions : doivent figurer la description de la fonctionnalité, celles des variables d'entrées et de sortie."
   ]
  },
  {
   "cell_type": "markdown",
   "metadata": {},
   "source": [
    "#### Où mettre les espaces ? \n",
    "\n",
    "\n",
    "Utiliser des espaces pour séparer les variables des opérateurs.\n",
    "\n",
    "<span style=\"color:green\">Facile à lire</span>\n",
    "```python\n",
    "if (a + 5 < ma_fonction (arg1, arg2.method () + 4))\n",
    "```\n",
    "<span style=\"color:red\">Moins lisible</span>\n",
    "```python\n",
    "if a+5<ma_fonction(arg1,arg2.method()+ 4)\n",
    "```\n",
    "---\n",
    "Utiliser un espace avant une parenthèse d'ouverture lors de l'appel de fonctions ou de l'indexation :\n",
    "\n",
    "<span style=\"color:green\">Facile à lire</span>\n",
    "```python\n",
    "ma_fonction (arg1, arg2, arg3)\n",
    "ma_liste [0]\n",
    "mon_tuple [1]\n",
    "mon_dictionnaire ['deux']\n",
    "```\n",
    "<span style=\"color:red\">Moins lisible</span>\n",
    "```python\n",
    "ma_fonction(arg1,arg2,arg3)\n",
    "ma_liste[0]\n",
    "mon_tuple[1]\n",
    "mon_dictionnaire['deux']\n",
    "```\n",
    "Consigne non consensuelle. A essayer"
   ]
  },
  {
   "cell_type": "markdown",
   "metadata": {},
   "source": [
    "#### Où placer des sauts de lignes ?\n",
    "Les sauts de lignes permettent de regrouper les instructions en __blocs cohérents__.\n",
    "\n",
    "En revanche, sauter plusieurs lignes risque de morceler le code et nuire à sa lisibilité.\n",
    "\n",
    "Il est impératif de sauter une ligne __entre différentes fonctions__."
   ]
  },
  {
   "cell_type": "markdown",
   "metadata": {},
   "source": [
    "## Bonnes pratiques de codage\n",
    "Ces consignes visent à __se conformer aux principes de modularité__. \n",
    "L'objectif est d'ainsi faciliter le codage, le débuggage, l'extension ou l'intégration du programme dans des projets futurs."
   ]
  },
  {
   "cell_type": "markdown",
   "metadata": {},
   "source": [
    "### Organiser le dossier de son projet\n",
    "Donner au répertoire de travail la structure suivante :\n",
    "- __1 répertoire projet__ contenant le _jupyter  notebook_ du projet\n",
    "    - __1 sous-répertoire module__ pour les fonctions spécifiques, structuré comme un module après validation dans jupyter-notebook\n",
    "    - __1 sous-répertoire data__ pour les données d'entrée\n",
    "    - __1 sous-répertoire output__ pour les données de sortie\n",
    "- __1 répertoire routines__ dédié aux fonctions appelées par plusieurs projets et localisé au même niveau d'arborescence que les projets."
   ]
  },
  {
   "cell_type": "markdown",
   "metadata": {},
   "source": [
    "### Ne pas se précipiter sur son clavier\n",
    "Même si le codage peut s'avérer être la partie la plus attractive du développement du projet, il convient de __toujours structurer son projet/programme dans son ensemble__ avant de commencer à coder. Cela revient à rédiger un cahier des charges. Il sera peut-être partiellement modifié en cours de développement mais les grandes lignes doivent être connues avant d'écrire la première ligne de code.\n",
    "- Identifier les objectifs :\n",
    "    - quelles informations __en entrée__ du programme\n",
    "    - quelles données __en sortie__ du programme\n",
    "    - quels __formats__ des données en entrée et en sortie (vecteurs, matrices, chaînes de caractères, images, ...)\n",
    "    - quelles __opérations__ réalisées (lecture/écriture de fichiers, affichage terminal, figures, ...)\n",
    "    - identification des __ressources à disposition__ (temps, espace mémoire, capacité processeur, ...)\n",
    "- Identifier les fonctionnalités\n",
    "    - __Décomposer__ chaque fonctionnalités en fonctions et sous-fonctions (et sous-sous-fonction...)\n",
    "    - __Se documenter__ sur les fonctionnalités encore non maîtrisées (et il y en aura toujours)\n",
    "    - Certaines fonctionnalités ont-elles déjà été codées ?\n",
    "- Pour chaque fonctionnalité, identifier :\n",
    "    - les __cas de figure__ pris en charges et les __exceptions__\n",
    "    - les __entrées__ et les __sorties__\n",
    "- Anticiper des __extensions futures__\n",
    "\n",
    "<div class=\"alert alert-block alert-info\">\n",
    "<b>ATTENTION :</b> cette étape peut prendre plusieurs heures voire plusieurs jours.\n",
    "</div>"
   ]
  },
  {
   "cell_type": "markdown",
   "metadata": {},
   "source": [
    "_Exemple_ : __Projet Notation_scientifique__\n",
    "> Objectifs :\n",
    "- Le programme doit afficher un résultat expérimental dans la notation scientifique. \n",
    "- Un résultat expérimental est constitué de la valeur mesurée et de l'incertitude de mesure.\n",
    "- Le nombre de chiffres significatifs doit s'accorder à l'ordre de grandeur de l'incertitude.\n",
    "- L'incertitude a été arrondie par l'expérimentateur·rice (1, 2, 3 chiffres significatifs suivant le contexte)\n",
    "- L'affichage doit inclure l'unité de la grandeur mesurée.\n",
    "\n",
    "> Données en entrées :\n",
    "- valeur mesurée (float)\n",
    "- incertitude (float)\n",
    "- unité (string)\n",
    "\n",
    "> Données en sorties :\n",
    "- chaîne de caractères formattée (_e.g._ $X = (1.234 \\pm 0.056)\\cdot 10 ^{-6} \\quad \\mathrm{m}$)\n",
    "\n",
    "> Opérations réalisées :\n",
    "- pas d'opérations\n",
    "\n",
    "> Ressources à disposition : \n",
    "- projet très léger &rarr; ressources illimitées"
   ]
  },
  {
   "cell_type": "markdown",
   "metadata": {},
   "source": [
    "> Fonctionnalités :\n",
    "- déterminer l'ordre de grandeur de la valeur mesurée pour le factoriser avec l'incertitude &rarr; A CODER : ordre_de_grandeur\n",
    "    - entrée : valeur (float)\n",
    "    - sortie : exposant d'une puissance de 10 (int)\n",
    "- déterminer l'ordre de grandeur de l'incertitude &rarr; A CODER : ordre_de_l_erreur\n",
    "    - entrée : erreur (float)\n",
    "    - sortie : exposant d'une puissance de 10 (int)\n",
    "- arrondir la valeur mesurée en fonction de l'arrondi  &rarr; fonction numpy.round ()\n",
    "- factoriser la puissance de 10 et construire la chaîne de caractère au format notation scientifique &rarr; A CODER : notation_scientifique (fonction principale)\n",
    "    - entrée : valeur mesurée, incertitude, unité\n",
    "    - sortie : chaîne de caractère au format notation scientifique\n",
    "    - pas d'avertissement en cas d'incohérence entre la valeur et l'erreur (val < err)\n",
    "   \n",
    "> Extensions futures :\n",
    "- arrondir automatiquement l'incertitude expérimentale à N chiffres significatifs &rarr; à intégrer à l'intérieur de la fonction ordre_de_l_erreur."
   ]
  },
  {
   "cell_type": "markdown",
   "metadata": {},
   "source": [
    "### Coder en respectant la structure du programme\n",
    "Une fois établie la décomposition du programme en une cascade de sous-fonctions, le codage doit commencer par les fonctions de plus bas niveau :\n",
    "- elles sont simples et pourront être testées facilement\n",
    "- elles seront réutilitées par les fonctions de niveau supérieur\n",
    "\n",
    "Ainsi, la complexité du codage sera maintenu à un niveau faible, ce qui favorise la rapidité et la fiabilité."
   ]
  },
  {
   "cell_type": "code",
   "execution_count": 1,
   "metadata": {},
   "outputs": [],
   "source": [
    "# sous-fonctions\n",
    "import numpy as np\n",
    "\n",
    "def ordre_de_grandeur (x):\n",
    "    \n",
    "    return res\n",
    "\n",
    "def ordre_de_l_erreur (err, debug = False):    \n",
    "    \n",
    "    return odgerr"
   ]
  },
  {
   "cell_type": "markdown",
   "metadata": {},
   "source": [
    "### Contrôler son programme\n",
    "Après avoir contrôlé la sytnaxe et quand le programme ne retourne plus d'erreur, il est indispensable de s'assurer que le résultat est conforme aux objectifs. \n",
    "Pour cela, il convient d'établir un programme de test visant à contrôler l'exactitude de _toutes les fonctionnalités_, _dans un maximum de cas de figure_ envisageable.\n",
    "\n",
    "Dans la mesure du possible, le test et la correction d'erreur doit être faite au __fur et à mesure__; les blocs à testers s'en trouvent plus courts."
   ]
  },
  {
   "cell_type": "markdown",
   "metadata": {},
   "source": [
    "_Exemple_ : __Projet Notation_scientifique__\n",
    "\n",
    "Test des sous-fonctions\n"
   ]
  },
  {
   "cell_type": "code",
   "execution_count": 2,
   "metadata": {},
   "outputs": [],
   "source": [
    "# test de ordre_de_grandeur\n"
   ]
  },
  {
   "cell_type": "code",
   "execution_count": 3,
   "metadata": {},
   "outputs": [],
   "source": [
    "# test de ordre_de_l_erreur\n"
   ]
  },
  {
   "cell_type": "markdown",
   "metadata": {},
   "source": [
    "_Exemple_ : __Projet Notation_scientifique__\n",
    "\n",
    "Fonction principale appelant les sous-fonctions."
   ]
  },
  {
   "cell_type": "code",
   "execution_count": 4,
   "metadata": {},
   "outputs": [],
   "source": [
    "def represente_resultat_mesure_ (val, err, unit, debug = False):\n",
    "\n",
    "    return res_string"
   ]
  },
  {
   "cell_type": "markdown",
   "metadata": {},
   "source": [
    "#### _Exemple_ : __Projet Notation_scientifique__\n",
    "\n",
    "Test de la fonction principale."
   ]
  },
  {
   "cell_type": "code",
   "execution_count": 5,
   "metadata": {},
   "outputs": [
    {
     "ename": "NameError",
     "evalue": "name 'resultat_mesure' is not defined",
     "output_type": "error",
     "traceback": [
      "\u001b[0;31m---------------------------------------------------------------------------\u001b[0m",
      "\u001b[0;31mNameError\u001b[0m                                 Traceback (most recent call last)",
      "Cell \u001b[0;32mIn [5], line 4\u001b[0m\n\u001b[1;32m      1\u001b[0m \u001b[38;5;66;03m# appel de la fonction\u001b[39;00m\n\u001b[0;32m----> 4\u001b[0m \u001b[38;5;28mprint\u001b[39m (\u001b[38;5;124m'\u001b[39m\u001b[38;5;124mX = \u001b[39m\u001b[38;5;124m'\u001b[39m \u001b[38;5;241m+\u001b[39m \u001b[43mresultat_mesure\u001b[49m)\n",
      "\u001b[0;31mNameError\u001b[0m: name 'resultat_mesure' is not defined"
     ]
    }
   ],
   "source": [
    "# appel de la fonction\n",
    "\n",
    "\n",
    "print ('X = ' + resultat_mesure)"
   ]
  }
 ],
 "metadata": {
  "hide_input": false,
  "kernelspec": {
   "display_name": "Python 3",
   "language": "python",
   "name": "python3"
  },
  "language_info": {
   "codemirror_mode": {
    "name": "ipython",
    "version": 3
   },
   "file_extension": ".py",
   "mimetype": "text/x-python",
   "name": "python",
   "nbconvert_exporter": "python",
   "pygments_lexer": "ipython3",
   "version": "3.9.16"
  }
 },
 "nbformat": 4,
 "nbformat_minor": 4
}