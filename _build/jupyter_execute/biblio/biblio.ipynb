{
 "cells": [
  {
   "cell_type": "markdown",
   "metadata": {},
   "source": [
    "## Bibliographie\n",
    "- _Méthodologie de la programmation en C_, Achille Braquelaire, Ed. Dunod, 4ème édition, 2005 (005.13C BRA).\n",
    "- _Programmation avec le langage Python_, Xavier Dupré, Ed. Ellipses (005.13pyt DUP)\n",
    "- _Apprendre à programmer avec Python_, Gérard Swinnen, Ed. O'Reilly, 2004 (005.13pyt SWI) _référence obsolète, cf. Python2_\n",
    "- _Spécial Python_, Hors série Inside Linux n° 27, 2021"
   ]
  }
 ],
 "metadata": {
  "hide_input": false,
  "kernelspec": {
   "display_name": "Python 3",
   "language": "python",
   "name": "python3"
  },
  "language_info": {
   "codemirror_mode": {
    "name": "ipython",
    "version": 3
   },
   "file_extension": ".py",
   "mimetype": "text/x-python",
   "name": "python",
   "nbconvert_exporter": "python",
   "pygments_lexer": "ipython3",
   "version": "3.9.16"
  }
 },
 "nbformat": 4,
 "nbformat_minor": 4
}