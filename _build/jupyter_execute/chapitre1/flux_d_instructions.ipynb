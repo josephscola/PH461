{
 "cells": [
  {
   "cell_type": "markdown",
   "metadata": {},
   "source": [
    "# Flux d'instructions\n",
    "L'ordre dans lequel les instructions sont exécutées s'appelle le flux d'instructions.\n",
    "Il existe trois modes de contrôle du flux des instructions :\n",
    "- la [séquence](#sequence) : exécution des instructions les unes après les autres\n",
    "- la [sélection](#selection) : instruction conditionnelle d'une séquence d'instructions\n",
    "- la [répétition](#repetition) : exécution en boucle d'une séquence jusqu'à réalisation d'un critère de sortie"
   ]
  },
  {
   "cell_type": "markdown",
   "metadata": {},
   "source": [
    "## Séquence <a class=\"anchor\" id=\"sequence\"></a>"
   ]
  },
  {
   "cell_type": "markdown",
   "metadata": {},
   "source": [
    "Sauf instruction spécifique, les instructions d'un programme sont exécutées de façon séquentielle, les unes après les autres."
   ]
  },
  {
   "cell_type": "markdown",
   "metadata": {},
   "source": [
    "Exemple d'une séquence d'instructions :\n",
    "> __se lever__ tôt le lundi\\\n",
    "__prendre__ le petit-déjeuner le lundi \\\n",
    "__se lever__ tôt la mardi\\\n",
    "__prendre__ le petit-déjeuner le mardi \\\n",
    "__se lever__ tôt le mercredi\\\n",
    "__prendre__ le petit-déjeuner le mercredi\\\n",
    "__se lever__ tôt le jeudi\\\n",
    "__prendre__ le petit-déjeuner le jeudi \\\n",
    "__se lever__ tôt le vendredi\\\n",
    "__prendre__ le petit-déjeuner le vendredi \\\n",
    "__se lever__ tôt le samedi\\\n",
    "__prendre__ le petit-déjeuner le samedi \\\n",
    "__se lever__ moins tôt le dimanche\\\n",
    "__prendre__ le déjeuner le dimanche"
   ]
  },
  {
   "cell_type": "markdown",
   "metadata": {},
   "source": [
    "```python\n",
    "### syntaxe Python d'une séquence d'instructions\n",
    "instruction1\n",
    "instruction2\n",
    "instruction3\n",
    "...\n",
    "```"
   ]
  },
  {
   "cell_type": "markdown",
   "metadata": {},
   "source": [
    "## Sélection <a class=\"anchor\" id=\"selection\"></a>"
   ]
  },
  {
   "cell_type": "markdown",
   "metadata": {},
   "source": [
    "Les instructions sélectionnées ne sont exécutées que si la condition prédéfinie est réalisée \n",
    "\n",
    ">__Si__ la condition est réalisée\\\n",
    "__Alors__ exécuter l'instruction\\\n",
    "__Sinon si__ une autre condition est réalisée\\\n",
    "__Alors__ exécuter une autre instruction\\\n",
    "...\\\n",
    "__Sinon__ exécuter l'instruction par défaut\n",
    "\n",
    "Par exemple : \n",
    ">__Pour__ chaque jour du lundi au dimanche :\n",
    "    >>__Si__ c'est dimanche :\\\n",
    "    se lever tard\\\n",
    "    prendre un brunch\\\n",
    "    __Sinon si__ c'est jeudi :\\\n",
    "    se lever le matin\\\n",
    "    prendre le petit déjeuner\\\n",
    "    reprendre du café\\\n",
    "    __Sinon__ :\\\n",
    "    se lever le matin\\\n",
    "    prendre le petit déjeuner\\"
   ]
  },
  {
   "cell_type": "markdown",
   "metadata": {},
   "source": [
    "```python\n",
    "# syntaxe d'une instruction conditionnelle en Python\n",
    "if condition1:\n",
    "    instructions1  \n",
    "elif condition2 :\n",
    "    instructions2\n",
    "else :\n",
    "    instructions3\n",
    "# le bloc d'instructions est indenté d'une tabulation \n",
    "\n",
    "```"
   ]
  },
  {
   "cell_type": "markdown",
   "metadata": {},
   "source": [
    "## Répétition <a class=\"anchor\" id=\"repetition\"></a>"
   ]
  },
  {
   "cell_type": "markdown",
   "metadata": {},
   "source": [
    "Il existent deux type de boucles de répétition suivant que les instructions sont répétées un nombre de fois prédéfini ou bien qu'un critère d'arrêt de la répétition a été  défini avant de la commencer.\n",
    "\n",
    "### Boucle for\n",
    "Les instructions incluses dans une boucles __for__ sont répétées un nombre de fois défini.\n",
    "Par exemple :\n",
    "\n",
    ">__Pour__ chaque jour du lundi au samedi :\n",
    ">> __se lever__ tôt le matin \\\n",
    "__prendre__ le petit déjeuner\\\n",
    "__Fin de la boucle for__\n",
    "\n",
    ">__se lever__ moins tôt et prendre le déjeuner le dimanche"
   ]
  },
  {
   "cell_type": "markdown",
   "metadata": {},
   "source": [
    "```python\n",
    "# syntaxe Python d'une boucle for\n",
    "for element in objet_denombrable :\n",
    "    instruction1\n",
    "    instruction2\n",
    "    instruction3 ...\n",
    "# le bloc d'instructions est indenté d'une tabulation \n",
    "```"
   ]
  },
  {
   "cell_type": "markdown",
   "metadata": {},
   "source": [
    "<div class=\"alert alert-block alert-info\">\n",
    "    <b>Important :</b> Les instruction devant être répétées sont définies par l'<b>indentation</b>\n",
    "</div>"
   ]
  },
  {
   "cell_type": "markdown",
   "metadata": {},
   "source": [
    "### Conditions d'une boucle for\n",
    "Les instructions à l'intérieur d'une boucle __for__ sont répétées pour chacune des valeurs prises par un élément d'un objet énumérable existant comme un t-uple, une liste ou un dictionnaire."
   ]
  },
  {
   "cell_type": "code",
   "execution_count": 1,
   "metadata": {},
   "outputs": [
    {
     "name": "stdout",
     "output_type": "stream",
     "text": [
      "bonjour\n",
      "0\n",
      "1\n",
      "2\n",
      "3\n",
      "4\n",
      "au revoir\n"
     ]
    }
   ],
   "source": [
    "# exemple minimal de boucle for\n",
    "print ('bonjour')\n",
    "for chiffre in range (5):\n",
    "    print (chiffre)\n",
    "print ('au revoir')"
   ]
  },
  {
   "cell_type": "markdown",
   "metadata": {},
   "source": [
    "#### Boucle for sur une incrémentation (range)"
   ]
  },
  {
   "cell_type": "markdown",
   "metadata": {},
   "source": [
    "__range__ est un type de variable dérivée de la liste et contenant une série d'entiers \n",
    "compris entre le premier argument $i_\\mathrm{min}$ et le deuxième argument (exclu) $i_\\mathrm{max}-1$ par pas de $increment$."
   ]
  },
  {
   "cell_type": "code",
   "execution_count": 2,
   "metadata": {},
   "outputs": [
    {
     "name": "stdout",
     "output_type": "stream",
     "text": [
      "1\n",
      "3\n",
      "5\n",
      "7\n",
      "9\n"
     ]
    }
   ],
   "source": [
    "for i in range (1, 10, 2) : # range (start, stop, step)\n",
    "    print (i)"
   ]
  },
  {
   "cell_type": "markdown",
   "metadata": {},
   "source": [
    "Si deux arguments seulement sont donnés à __range__, ils définissent l'étendue de la série et l'incrément vaut 1 par défaut."
   ]
  },
  {
   "cell_type": "code",
   "execution_count": 3,
   "metadata": {},
   "outputs": [
    {
     "name": "stdout",
     "output_type": "stream",
     "text": [
      "1\n",
      "2\n",
      "3\n",
      "4\n",
      "5\n",
      "6\n",
      "7\n",
      "8\n",
      "9\n"
     ]
    }
   ],
   "source": [
    "for i in range (1, 10) :\n",
    "    print (i)"
   ]
  },
  {
   "cell_type": "markdown",
   "metadata": {},
   "source": [
    "Si un seul argument est donné à __range__, $i_\\mathrm{min}$ est fixé à 0 et l'incrément vaut 1."
   ]
  },
  {
   "cell_type": "code",
   "execution_count": 4,
   "metadata": {},
   "outputs": [
    {
     "name": "stdout",
     "output_type": "stream",
     "text": [
      "0\n",
      "1\n",
      "2\n",
      "3\n",
      "4\n",
      "5\n",
      "6\n",
      "7\n",
      "8\n",
      "9\n"
     ]
    }
   ],
   "source": [
    "for i in range (10) :\n",
    "    print (i)"
   ]
  },
  {
   "cell_type": "markdown",
   "metadata": {},
   "source": [
    "#### Boucle for sur un test d'appartenance\n",
    "On remarquera que le mot réservé __in__ réalise un test d'appartenance sur les éléments du conteneur (ou les mots-clef du dictionnaire)."
   ]
  },
  {
   "cell_type": "code",
   "execution_count": 5,
   "metadata": {},
   "outputs": [
    {
     "name": "stdout",
     "output_type": "stream",
     "text": [
      "True\n",
      "False\n"
     ]
    },
    {
     "ename": "NameError",
     "evalue": "name 'jours_dans_le_mois' is not defined",
     "output_type": "error",
     "traceback": [
      "\u001b[0;31m---------------------------------------------------------------------------\u001b[0m",
      "\u001b[0;31mNameError\u001b[0m                                 Traceback (most recent call last)",
      "Cell \u001b[0;32mIn[5], line 3\u001b[0m\n\u001b[1;32m      1\u001b[0m \u001b[38;5;28mprint\u001b[39m (\u001b[38;5;241m1\u001b[39m \u001b[38;5;129;01min\u001b[39;00m (\u001b[38;5;241m0\u001b[39m, \u001b[38;5;241m1\u001b[39m, \u001b[38;5;241m2\u001b[39m, \u001b[38;5;241m3\u001b[39m, \u001b[38;5;241m4\u001b[39m, \u001b[38;5;241m5\u001b[39m))\n\u001b[1;32m      2\u001b[0m \u001b[38;5;28mprint\u001b[39m (\u001b[38;5;241m6\u001b[39m \u001b[38;5;129;01min\u001b[39;00m [\u001b[38;5;241m0\u001b[39m, \u001b[38;5;241m1\u001b[39m, \u001b[38;5;241m2\u001b[39m, \u001b[38;5;241m3\u001b[39m, \u001b[38;5;241m4\u001b[39m, \u001b[38;5;241m5\u001b[39m])\n\u001b[0;32m----> 3\u001b[0m \u001b[38;5;28mprint\u001b[39m (\u001b[38;5;124m'\u001b[39m\u001b[38;5;124mjanvier\u001b[39m\u001b[38;5;124m'\u001b[39m \u001b[38;5;129;01min\u001b[39;00m \u001b[43mjours_dans_le_mois\u001b[49m)\n\u001b[1;32m      4\u001b[0m \u001b[38;5;28mprint\u001b[39m (\u001b[38;5;241m31\u001b[39m \u001b[38;5;129;01min\u001b[39;00m jours_dans_le_mois)\n",
      "\u001b[0;31mNameError\u001b[0m: name 'jours_dans_le_mois' is not defined"
     ]
    }
   ],
   "source": [
    "print (1 in (0, 1, 2, 3, 4, 5))\n",
    "print (6 in [0, 1, 2, 3, 4, 5])\n",
    "print ('janvier' in jours_dans_le_mois)\n",
    "print (31 in jours_dans_le_mois)"
   ]
  },
  {
   "cell_type": "code",
   "execution_count": null,
   "metadata": {},
   "outputs": [],
   "source": [
    "# boucle for énumérant un t-uple\n",
    "for i in (0, 1, 2, 3, 4, 5) : \n",
    "    print (i**2)"
   ]
  },
  {
   "cell_type": "code",
   "execution_count": null,
   "metadata": {},
   "outputs": [],
   "source": [
    "# boucle for énumérant une liste\n",
    "for i in [0, 1, 2, 3, 4, 5] : \n",
    "    print (i**2)"
   ]
  },
  {
   "cell_type": "code",
   "execution_count": null,
   "metadata": {},
   "outputs": [],
   "source": [
    "# boucle for énumérant un dictionnaire\n",
    "jours_dans_le_mois = {'janvier' : 31,\n",
    "                      'février' : 28,\n",
    "                      'mars' : 31,\n",
    "                      'avril' : 30,\n",
    "                      'mai' : 31,\n",
    "                      'juin' : 30,\n",
    "                      'juillet' : 31,\n",
    "                      'aout' : 31,\n",
    "                      'septembre' : 30,\n",
    "                      'octobre' : 31,\n",
    "                      'novembre' : 30,\n",
    "                      'décembre' : 31}\n",
    "for mois in jours_dans_le_mois :\n",
    "    print ('Le mois de ' + mois + ' compte ' + f'{jours_dans_le_mois [mois]:d} jours.')\n",
    "    "
   ]
  },
  {
   "cell_type": "code",
   "execution_count": 2,
   "metadata": {},
   "outputs": [
    {
     "name": "stdout",
     "output_type": "stream",
     "text": [
      "bonjour\n",
      "1 a\n",
      "---\n",
      "1 b\n",
      "---\n",
      "1 c\n",
      "---\n",
      "1 d\n",
      "---\n",
      "2 a\n",
      "---\n",
      "2 b\n",
      "---\n",
      "2 c\n",
      "---\n",
      "2 d\n",
      "---\n",
      "3 a\n",
      "---\n",
      "3 b\n",
      "---\n",
      "3 c\n",
      "---\n",
      "3 d\n",
      "---\n",
      "4 a\n",
      "---\n",
      "4 b\n",
      "---\n",
      "4 c\n",
      "---\n",
      "4 d\n",
      "---\n",
      "au revoir\n"
     ]
    }
   ],
   "source": [
    "# exemple de boucles for imbriquées\n",
    "# la première boucle a pour unique instruction la seconde boucle\n",
    "# les instructions de la seconde boucle sont indentées par rapport à la première -> deux taulations\n",
    "print ('bonjour')\n",
    "for chiffre in 1, 2, 3, 4:\n",
    "    for lettre in 'a', 'b', 'c', 'd' :\n",
    "        print (chiffre, lettre)\n",
    "        print ('---')\n",
    "print ('au revoir')"
   ]
  },
  {
   "cell_type": "markdown",
   "metadata": {},
   "source": [
    "### Boucle while\n",
    "La boucle __while__ impose la répétition d'un bloc d'instructions __tant que__ la condition d'arrêt n'est pas satisfaite.\n",
    "\n",
    "Par exemple :\n",
    "> __Se lever__\\\n",
    "__Tant que__ l'heure de partir n'est pas arrivée :\\\n",
    ">>__prendre__ le petit déjeuner\\\n",
    "__regarder__ l'heure\n",
    "\n",
    "> __Partir__ à l'université"
   ]
  },
  {
   "cell_type": "markdown",
   "metadata": {},
   "source": [
    "```python\n",
    "# syntaxe Python d'une boucle while\n",
    "while condition:\n",
    "    instruction1\n",
    "    instruction2\n",
    "    instruction3 ...\n",
    "# le bloc d'instructions est indenté d'une tabulation \n",
    "```"
   ]
  },
  {
   "cell_type": "markdown",
   "metadata": {},
   "source": [
    "Remarques : \n",
    "- la condition est réévaluée après chaque exécution du bloc.\n",
    "- le critère d'arrêt dépend du contexte d'exécution du programme; il est important de veiller à éviter les situations où le critère d'arrêt ne peut jamais arriver. Cette situation de boucle infinie est suceptible de saturer les ressources mémoire du système, autrement dit, le planter. C'est une des plus graves erreurs qui puissent être commises en programmation (le très fameux _stack overflow_ auquel le plus fameux forum de programmation emprunte le nom)."
   ]
  },
  {
   "cell_type": "code",
   "execution_count": null,
   "metadata": {},
   "outputs": [],
   "source": []
  }
 ],
 "metadata": {
  "hide_input": false,
  "kernelspec": {
   "display_name": "Python 3 (ipykernel)",
   "language": "python",
   "name": "python3"
  },
  "language_info": {
   "codemirror_mode": {
    "name": "ipython",
    "version": 3
   },
   "file_extension": ".py",
   "mimetype": "text/x-python",
   "name": "python",
   "nbconvert_exporter": "python",
   "pygments_lexer": "ipython3",
   "version": "3.12.3"
  }
 },
 "nbformat": 4,
 "nbformat_minor": 4
}