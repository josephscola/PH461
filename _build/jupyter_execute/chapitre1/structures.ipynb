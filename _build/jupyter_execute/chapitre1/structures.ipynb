{
 "cells": [
  {
   "cell_type": "markdown",
   "metadata": {},
   "source": [
    "# Conteneurs"
   ]
  },
  {
   "cell_type": "markdown",
   "metadata": {},
   "source": [
    "Un conteneur (de _container_ en anglais) est une séquence ordonnée rassemblant des éléments d'un même type ou de types différents; on accède aux éléments d'un conteneur par son _indice_, c'est-à-dire son rang dans la séquence, ou par un mot-clé."
   ]
  },
  {
   "cell_type": "markdown",
   "metadata": {},
   "source": [
    "Il est souvent nécessaire de rassembler plusieurs variables au sein d'un même objet (par exemple les coordonnées GPS d'un lieu ou les éléments d'une matrice).\n",
    "\n",
    "Les types de conteneurs se distinguent suivant le moyen d'accéder à leur contenu :\n",
    "- accès par indice :\n",
    "    - conteneurs non modifiables :\n",
    "        - __les chaînes de caractères__ (les éléments sont des symboles [ASCII](https://fr.wikipedia.org/wiki/American_Standard_Code_for_Information_Interchange))\n",
    "        - les __tuples__ (les éléments sont de tous types)\n",
    "    - conteneurs modifiables :\n",
    "        - les __listes__ (variété de tuples modifiables après initialisation)      \n",
    "- les __dictionnaires__ : les éléments y sont accessibles par un mot-clé\n",
    "- les __classes__ : le type des éléments y est prédéfini et des opérations sur les éléments peuvent être incluses (par exemple on peut définir la classe des nombres complexes dont les variables sont la partie réelle et la partie imaginaire du nombre auxquelles on associe les opérations de calcul du module et de l'argument, ...).\n",
    "Les classes seront abordées dans le chapitre suivant de ce cours."
   ]
  },
  {
   "cell_type": "markdown",
   "metadata": {},
   "source": [
    "## Les listes  : conteneurs modifiables"
   ]
  },
  {
   "cell_type": "markdown",
   "metadata": {},
   "source": [
    "<div class=\"alert alert-block alert-warning\">\n",
    "<b>Attention :</b> Les indices sont numérotés à partir de 0.\n",
    "</div>"
   ]
  },
  {
   "cell_type": "markdown",
   "metadata": {},
   "source": [
    "### Déclaration explicite d'une liste "
   ]
  },
  {
   "cell_type": "code",
   "execution_count": 1,
   "metadata": {},
   "outputs": [
    {
     "name": "stdout",
     "output_type": "stream",
     "text": [
      "[1, 2, 3, 4, 5]\n",
      "['un', 'deux', 'trois', 'quatre', 'cinq']\n",
      "['un', 2, 3.0, [4, 'cinq']]\n",
      "Le nombre d'éléments dans ma_troisieme_liste est :  4\n"
     ]
    }
   ],
   "source": [
    "ma_premiere_liste = [1, 2, 3, 4, 5]\n",
    "print (ma_premiere_liste)\n",
    "\n",
    "ma_deuxieme_liste = ['un', 'deux', 'trois', 'quatre', 'cinq']\n",
    "print (ma_deuxieme_liste)\n",
    "\n",
    "ma_troisieme_liste = ['un', 2, 3.0, [4, 'cinq']]\n",
    "print (ma_troisieme_liste)\n",
    "print ('Le nombre d\\'éléments dans ma_troisieme_liste est : ', len (ma_troisieme_liste))"
   ]
  },
  {
   "cell_type": "markdown",
   "metadata": {},
   "source": [
    "### Déclaration récursive et ajout d'un élément à une liste\n",
    "L'ajout d'un élément à la fin d'une liste se fait par simple _concaténation_."
   ]
  },
  {
   "cell_type": "markdown",
   "metadata": {},
   "source": [
    "#### Méthode n°1 : fonction append"
   ]
  },
  {
   "cell_type": "code",
   "execution_count": 2,
   "metadata": {},
   "outputs": [
    {
     "name": "stdout",
     "output_type": "stream",
     "text": [
      "[1, 2]\n"
     ]
    }
   ],
   "source": [
    "x = [] # création d'une liste vide\n",
    "x.append (1)\n",
    "x.append (2)\n",
    "print (x)"
   ]
  },
  {
   "cell_type": "markdown",
   "metadata": {},
   "source": [
    "#### Méthode n° 2 : concaténation-affectation"
   ]
  },
  {
   "cell_type": "code",
   "execution_count": 3,
   "metadata": {},
   "outputs": [
    {
     "name": "stdout",
     "output_type": "stream",
     "text": [
      "[1, 2]\n"
     ]
    }
   ],
   "source": [
    "x = [] # création d'une liste vide\n",
    "x += [1]\n",
    "x += [2]\n",
    "print (x)"
   ]
  },
  {
   "cell_type": "markdown",
   "metadata": {},
   "source": [
    "### Accès aux éléments d'une liste"
   ]
  },
  {
   "cell_type": "code",
   "execution_count": 4,
   "metadata": {},
   "outputs": [],
   "source": [
    "ma_deuxieme_liste = ['un', 'deux', 'trois', 'quatre']"
   ]
  },
  {
   "cell_type": "markdown",
   "metadata": {},
   "source": [
    "### Accès par l'indice"
   ]
  },
  {
   "cell_type": "code",
   "execution_count": 5,
   "metadata": {},
   "outputs": [
    {
     "name": "stdout",
     "output_type": "stream",
     "text": [
      "deux\n"
     ]
    }
   ],
   "source": [
    "print (ma_deuxieme_liste [1])"
   ]
  },
  {
   "cell_type": "markdown",
   "metadata": {},
   "source": [
    "### Accès par tranche"
   ]
  },
  {
   "cell_type": "code",
   "execution_count": 6,
   "metadata": {},
   "outputs": [
    {
     "name": "stdout",
     "output_type": "stream",
     "text": [
      "['un', 'deux']\n"
     ]
    }
   ],
   "source": [
    "print (ma_deuxieme_liste [0:2])"
   ]
  },
  {
   "cell_type": "markdown",
   "metadata": {},
   "source": [
    "### Accès à partir de"
   ]
  },
  {
   "cell_type": "code",
   "execution_count": 7,
   "metadata": {},
   "outputs": [
    {
     "name": "stdout",
     "output_type": "stream",
     "text": [
      "['deux', 'trois', 'quatre']\n"
     ]
    }
   ],
   "source": [
    "print (ma_deuxieme_liste [1:])"
   ]
  },
  {
   "cell_type": "markdown",
   "metadata": {},
   "source": [
    "### Accès jusqu'à"
   ]
  },
  {
   "cell_type": "code",
   "execution_count": 8,
   "metadata": {},
   "outputs": [
    {
     "name": "stdout",
     "output_type": "stream",
     "text": [
      "['un', 'deux', 'trois']\n"
     ]
    }
   ],
   "source": [
    "print (ma_deuxieme_liste [:3])"
   ]
  },
  {
   "cell_type": "markdown",
   "metadata": {},
   "source": [
    "### Accès par le rang en partant de la fin"
   ]
  },
  {
   "cell_type": "code",
   "execution_count": 9,
   "metadata": {},
   "outputs": [
    {
     "name": "stdout",
     "output_type": "stream",
     "text": [
      "quatre\n"
     ]
    }
   ],
   "source": [
    "print (ma_deuxieme_liste [-1])"
   ]
  },
  {
   "cell_type": "code",
   "execution_count": 10,
   "metadata": {},
   "outputs": [
    {
     "name": "stdout",
     "output_type": "stream",
     "text": [
      "trois\n"
     ]
    }
   ],
   "source": [
    "print (ma_deuxieme_liste [-2])"
   ]
  },
  {
   "cell_type": "markdown",
   "metadata": {},
   "source": [
    "### Méthodes (\"fonctions intégrées\") associées aux listes"
   ]
  },
  {
   "cell_type": "markdown",
   "metadata": {},
   "source": [
    "#### .index ()\n",
    "La méthode __.index ()__ retourne l'indice d'un élément passé en argument de la méthode."
   ]
  },
  {
   "cell_type": "code",
   "execution_count": 11,
   "metadata": {},
   "outputs": [
    {
     "name": "stdout",
     "output_type": "stream",
     "text": [
      "L'indice de 8 dans x est  7\n"
     ]
    }
   ],
   "source": [
    "x = [1, 2, 3, 4, 5, 6, 7, 8]\n",
    "indice = x.index (8)\n",
    "print (\"L'indice de 8 dans x est \", indice)"
   ]
  },
  {
   "cell_type": "markdown",
   "metadata": {},
   "source": [
    "#### .remove ()\n",
    "La méthode __.remove ()__ retire l'élément passé en argument "
   ]
  },
  {
   "cell_type": "code",
   "execution_count": 12,
   "metadata": {},
   "outputs": [
    {
     "name": "stdout",
     "output_type": "stream",
     "text": [
      "Après le retrait de 7, il ne reste dans x que  [1, 2, 3, 4, 5, 6, 8]\n",
      "None\n",
      "après réintégration de 7, x contient :  [1, 2, 3, 4, 5, 6, 8, 7]\n"
     ]
    }
   ],
   "source": [
    "x = [1, 2, 3, 4, 5, 6, 7, 8]\n",
    "VALEUR_RETOURNEE_DE_REMOVE = x.remove (7)\n",
    "print (\"Après le retrait de 7, il ne reste dans x que \", x)\n",
    "print (VALEUR_RETOURNEE_DE_REMOVE)\n",
    "x += [7]\n",
    "print (\"après réintégration de 7, x contient : \", x)"
   ]
  },
  {
   "cell_type": "markdown",
   "metadata": {},
   "source": [
    "<div class=\"alert alert-block alert-danger\"> <b> ATTENTION : </b> .remove() est une méthode hautement dangereuse </div>"
   ]
  },
  {
   "cell_type": "markdown",
   "metadata": {},
   "source": [
    "### Test d'appartenance"
   ]
  },
  {
   "cell_type": "code",
   "execution_count": 13,
   "metadata": {},
   "outputs": [
    {
     "name": "stdout",
     "output_type": "stream",
     "text": [
      "deux est dans ma_liste :  True\n",
      "six est dans ma_liste :  False\n"
     ]
    }
   ],
   "source": [
    "ma_liste = ['un', 'deux', 'trois', 'quatre', 'cinq']\n",
    "test1 = 'deux' in ma_liste\n",
    "print ('deux est dans ma_liste : ', test1)\n",
    "test2 = 'six' in ma_liste\n",
    "print ('six est dans ma_liste : ', test2)\n"
   ]
  },
  {
   "cell_type": "markdown",
   "metadata": {},
   "source": [
    "### Fonction __zip ()__"
   ]
  },
  {
   "cell_type": "code",
   "execution_count": 14,
   "metadata": {},
   "outputs": [
    {
     "name": "stdout",
     "output_type": "stream",
     "text": [
      "[('abscisse', [1, 2, 3, 4]), ('ordonnées', [3, 6, 9, 12])]\n"
     ]
    }
   ],
   "source": [
    "x = [1, 2, 3, 4]\n",
    "y = [3, 6, 9, 12]\n",
    "z = [5, 10, 15, 20]\n",
    "data = [x, y, z]\n",
    "noms = ['abscisse', 'ordonnées']\n",
    "zipped_list = zip (noms, data)\n",
    "print (list (zipped_list))"
   ]
  },
  {
   "cell_type": "code",
   "execution_count": 15,
   "metadata": {},
   "outputs": [],
   "source": [
    "noms2 = ['abscisse', 'ordonnées', 'cotes']\n",
    "zz = zip (noms2, data)"
   ]
  },
  {
   "cell_type": "markdown",
   "metadata": {},
   "source": [
    "### Copie d'une liste\n",
    "A la différence des variables numériques ou des chaînes de caractères pour lesquelles un espace mémoire est associé de manière univoque à l'identifiant de la variable, l'identifiant d'une liste (son nom dans le programme) ne contient que l'adresse de l'espace mémoire alloué, mais pas à son contenu.\n",
    "Il en résulte que la copie par création d'une nouvelle liste égale à la première n'a pour résultat que la création d'un nouveau nom pour le même espace mémoire."
   ]
  },
  {
   "cell_type": "code",
   "execution_count": 16,
   "metadata": {},
   "outputs": [
    {
     "name": "stdout",
     "output_type": "stream",
     "text": [
      "Avant la modification de x, y == x :  False\n",
      "Après la modification de x, y == x :  False\n",
      "la liste copiée y contient : \n",
      " [3, 6, 9, 12]\n"
     ]
    }
   ],
   "source": [
    "x = ['je', 'suis', 'unique' ]\n",
    "y == x\n",
    "print ('Avant la modification de x, y == x : ', y==x)\n",
    "x += ['et', 'ne', 'me', 'laisserai', 'pas', 'dissocier', 'de', 'mes', 'copies']\n",
    "\n",
    "print ('Après la modification de x, y == x : ', y==x)\n",
    "print('la liste copiée y contient : \\n', y)"
   ]
  },
  {
   "cell_type": "markdown",
   "metadata": {},
   "source": [
    "Pour créer une copie véritablement indépendante de la liste originale, il faut la copier élément par élément dans une nouvelle liste."
   ]
  },
  {
   "cell_type": "markdown",
   "metadata": {},
   "source": [
    "## Conteneurs non modifiables : t-uples\n",
    "On utilise les t-uples à chaque fois que l'on veut être certain que les données transmies ne seront pas modifiées par erreur au sein du programme."
   ]
  },
  {
   "cell_type": "code",
   "execution_count": 17,
   "metadata": {},
   "outputs": [
    {
     "name": "stdout",
     "output_type": "stream",
     "text": [
      "y        =  (4, 5, (1, 2, 3))\n",
      "y [2]    =  (1, 2, 3)\n",
      "y [2][0] =  1\n"
     ]
    }
   ],
   "source": [
    "x = (1, 2, 3)\n",
    "y = (4, 5, x)\n",
    "print ('y' + ' '*8+'= ', y)\n",
    "print ('y [2]'+ ' '*4+'= ', y [2])\n",
    "print ('y [2][0] = ', y [2][0])"
   ]
  },
  {
   "cell_type": "code",
   "execution_count": 18,
   "metadata": {},
   "outputs": [
    {
     "name": "stdout",
     "output_type": "stream",
     "text": [
      "<class 'tuple'>\n"
     ]
    }
   ],
   "source": [
    "x = (1, 2, 3)\n",
    "print (type (x))"
   ]
  },
  {
   "cell_type": "markdown",
   "metadata": {},
   "source": [
    "L'ajout d'un élément à un t-uple existant se fait par l'opérateur __+__ :"
   ]
  },
  {
   "cell_type": "code",
   "execution_count": 19,
   "metadata": {},
   "outputs": [
    {
     "name": "stdout",
     "output_type": "stream",
     "text": [
      "x =  (1, 2, 3, 4, 5.0, 'toto')\n"
     ]
    }
   ],
   "source": [
    "x = (1, 2, 3)\n",
    "x = x + (4,)\n",
    "x = x + (5.,)\n",
    "x = x + ('toto',)\n",
    "print ('x = ', x)"
   ]
  },
  {
   "cell_type": "markdown",
   "metadata": {},
   "source": [
    "### Empaquetage et désempaquetage d'un t-uple\n",
    "Les t-uples sont particulièrement commodes pour rendre plus lisible la lecture d'un code grâce à leurs possibilités d'empaquetage et de désempaquetage.\n",
    "Ces opérations permettent d'affecter plusieurs variables en une seule ligne."
   ]
  },
  {
   "cell_type": "code",
   "execution_count": 20,
   "metadata": {},
   "outputs": [
    {
     "name": "stdout",
     "output_type": "stream",
     "text": [
      "(1.0, 2, 0.0)\n",
      "1.0\n",
      "2\n",
      "0.0\n"
     ]
    }
   ],
   "source": [
    "coordonnees_de_v = 1., 2, 0.\n",
    "print (coordonnees_de_v)\n",
    "x, y, z = coordonnees_de_v\n",
    "print (x)\n",
    "print (y)\n",
    "print (z)"
   ]
  },
  {
   "cell_type": "markdown",
   "metadata": {},
   "source": [
    "### Modification d'un  t-uple\n",
    "La modification d'un t-uple n'est pas permise."
   ]
  },
  {
   "cell_type": "code",
   "execution_count": 21,
   "metadata": {},
   "outputs": [
    {
     "ename": "TypeError",
     "evalue": "'tuple' object does not support item assignment",
     "output_type": "error",
     "traceback": [
      "\u001b[0;31m---------------------------------------------------------------------------\u001b[0m",
      "\u001b[0;31mTypeError\u001b[0m                                 Traceback (most recent call last)",
      "Cell \u001b[0;32mIn[21], line 2\u001b[0m\n\u001b[1;32m      1\u001b[0m x \u001b[38;5;241m=\u001b[39m \u001b[38;5;241m1\u001b[39m, \u001b[38;5;241m2\u001b[39m, \u001b[38;5;241m3\u001b[39m\n\u001b[0;32m----> 2\u001b[0m \u001b[43mx\u001b[49m\u001b[43m \u001b[49m\u001b[43m[\u001b[49m\u001b[38;5;241;43m0\u001b[39;49m\u001b[43m]\u001b[49m \u001b[38;5;241m=\u001b[39m \u001b[38;5;124m'\u001b[39m\u001b[38;5;124m12\u001b[39m\u001b[38;5;124m'\u001b[39m \u001b[38;5;66;03m# la modification d'un t-uple n'est pas permise\u001b[39;00m\n\u001b[1;32m      3\u001b[0m \u001b[38;5;28mprint\u001b[39m (x)\n",
      "\u001b[0;31mTypeError\u001b[0m: 'tuple' object does not support item assignment"
     ]
    }
   ],
   "source": [
    "x = 1, 2, 3\n",
    "x [0] = '12' # la modification d'un t-uple n'est pas permise\n",
    "print (x)"
   ]
  },
  {
   "cell_type": "code",
   "execution_count": null,
   "metadata": {},
   "outputs": [],
   "source": [
    "print (x)\n",
    "y = list (x)\n",
    "y [0] = '12'\n",
    "print ('y = ', y)"
   ]
  },
  {
   "cell_type": "markdown",
   "metadata": {},
   "source": [
    "### Les parenthèses ne sont pas indispensables pour définir un t-uple"
   ]
  },
  {
   "cell_type": "code",
   "execution_count": null,
   "metadata": {},
   "outputs": [],
   "source": [
    "avec = (1, 2, 3) \n",
    "sans = 1, 2, 3\n",
    "expression = ( avec == sans )\n",
    "print (expression)"
   ]
  },
  {
   "cell_type": "markdown",
   "metadata": {},
   "source": [
    "## Tuple ou liste ?\n",
    "Les tuple et les listes offrent les mêmes fonctionnalités de stockage d'un ensemble de variables de divers types avec accès par l'indice du rang de stockage.\n",
    "A l'usage, ces deux types de conteneurs présentent différences suivantes."
   ]
  },
  {
   "cell_type": "markdown",
   "metadata": {},
   "source": [
    "### 1. argument de fonction:\n",
    "Le tuple est dupliqué localement dans la fonction, la liste ne l'est pas. Les listent présentent donc l'inconvénient des variables globales : toute modification d'une liste dans une fonction est implicitement répercutée dans le programme principale (avantage tuple)"
   ]
  },
  {
   "cell_type": "code",
   "execution_count": 1,
   "metadata": {},
   "outputs": [
    {
     "name": "stdout",
     "output_type": "stream",
     "text": [
      "Avec une liste : [1, 2, 3, 4, 5, 1, 2, 3, 4, 5] 55\n",
      "Avec un tuple :\t (1, 2, 3, 4, 5) 55\n"
     ]
    }
   ],
   "source": [
    "# Contre-exemple à ne pas reproduire\n",
    "def norme_2 (conteneur):\n",
    "    somme = 0\n",
    "    for element in conteneur:\n",
    "        somme += element ** 2\n",
    "    conteneur += conteneur\n",
    "    return somme\n",
    "\n",
    "Liste = [1, 2, 3, 4, 5]\n",
    "print ('Avec une liste :', Liste, norme_2 (Liste))\n",
    "\n",
    "Tuple = (1, 2, 3, 4, 5)\n",
    "print ('Avec un tuple :\\t', Tuple, norme_2 (Tuple))"
   ]
  },
  {
   "cell_type": "markdown",
   "metadata": {},
   "source": [
    "### 2. protection des éléments\n",
    "Les éléments d'un tuple sont protégés : leur modification nécessite la création d'un nouveau conteneur. La rigidité caractéristique des tuple complique (un peu) le codage, mais simplifie (beaucoup) la recherche d'erreurs et l'extension des programme (avantage tuple)\n"
   ]
  },
  {
   "cell_type": "markdown",
   "metadata": {},
   "source": [
    "### 3. affectation-concaténation de chaînes de caractères :\n",
    "L'affectation-concaténation est possible pour les listes et pour les tuples, mais ne produit pas le même résultat lorsque la variable affectée-concaténée est une chaîne de caractère : les caractères de la chaîne se trouvent distribués en éléments séparés dans le cas de la liste."
   ]
  },
  {
   "cell_type": "code",
   "execution_count": 7,
   "metadata": {},
   "outputs": [
    {
     "name": "stdout",
     "output_type": "stream",
     "text": [
      "(1, 2, 3, 'cinq')\n",
      "[1, 2, 3, 4, 'c', 'i', 'n', 'q']\n",
      "[1, 2, 3, 4, 'c', 'i', 'n', 'q', 'six']\n"
     ]
    }
   ],
   "source": [
    "mon_tuple = (1, 2, 3)\n",
    "mon_tuple += ('cinq',)\n",
    "print (mon_tuple)\n",
    "\n",
    "ma_liste = [1, 2, 3, 4]\n",
    "ma_liste += 'cinq'\n",
    "print (ma_liste)\n",
    "\n",
    "ma_liste.append ('six')\n",
    "print (ma_liste)"
   ]
  },
  {
   "cell_type": "markdown",
   "metadata": {},
   "source": [
    "### 4. méthodes natives:\n",
    "Les méthodes associées aux listes sont plus nombreuses et puissantes que celles des tuples (avantage liste)"
   ]
  },
  {
   "cell_type": "markdown",
   "metadata": {},
   "source": [
    "## Dictionnaires\n",
    "A la différence des t-uple et des listes dans lesquels l'accès direct aux éléments se fait par un indice (donné entre crochets), l'accès aux éléments d'un dictionnaire se fait par _mots clef_ (de type __str__)."
   ]
  },
  {
   "cell_type": "code",
   "execution_count": null,
   "metadata": {},
   "outputs": [],
   "source": [
    "# exemple de dictionnaire\n",
    "jours_dans_le_mois = {'janvier' : 31,\n",
    "                      'février' : (28,  29),\n",
    "                      'mars' : 31,\n",
    "                      'avril' : 30,\n",
    "                      'mai' : 31,\n",
    "                      'juin' : 30,\n",
    "                      'juillet' : 31,\n",
    "                      'aout' : 31,\n",
    "                      'septembre' : 30,\n",
    "                      'octobre' : 31,\n",
    "                      'novembre' : 30}\n",
    "print ('Le contenu du dictionnaire est :\\n', jours_dans_le_mois)\n",
    "print (type (jours_dans_le_mois))"
   ]
  },
  {
   "cell_type": "code",
   "execution_count": null,
   "metadata": {},
   "outputs": [],
   "source": [
    "mois = 'janvier'\n",
    "print (f'Il y a {jours_dans_le_mois [mois]:d} jous dans le mois de', mois)"
   ]
  },
  {
   "cell_type": "markdown",
   "metadata": {
    "heading_collapsed": true
   },
   "source": [
    "### Ajout d'un élément à un dictionnaire"
   ]
  },
  {
   "cell_type": "code",
   "execution_count": null,
   "metadata": {
    "hidden": true
   },
   "outputs": [],
   "source": [
    "jours_dans_le_mois ['décembre'] = 31\n",
    "print ('Le nouveau contenu du dictionnaire est :\\n', jours_dans_le_mois)"
   ]
  },
  {
   "cell_type": "markdown",
   "metadata": {
    "heading_collapsed": true
   },
   "source": [
    "### Méthode .keys ()\n",
    "La méthode __.keys ()__ retourne l'ensemble des _mots-clef_ du dictionnaire."
   ]
  },
  {
   "cell_type": "code",
   "execution_count": null,
   "metadata": {
    "hidden": true
   },
   "outputs": [],
   "source": [
    "print ('Les entrées du dictionnaire sont :')\n",
    "print (jours_dans_le_mois.keys ())"
   ]
  },
  {
   "cell_type": "markdown",
   "metadata": {
    "heading_collapsed": true
   },
   "source": [
    "### Méthode .items ()\n",
    "La méthode __.items ()__"
   ]
  },
  {
   "cell_type": "code",
   "execution_count": null,
   "metadata": {
    "hidden": true
   },
   "outputs": [],
   "source": [
    "jours_dans_le_mois.items ()"
   ]
  },
  {
   "cell_type": "markdown",
   "metadata": {
    "heading_collapsed": true
   },
   "source": [
    "### Comment utiliser les dictionnaires ?\n",
    "Les dictionnaires offrent un outil puissant pour construire des bases de données évolutives constituées de dictionnaires en cascade.\n",
    "Dans le contexte particulier de l'analyse de données en Physique, ils peuvent être utilisés efficacement dans le référencement de jeux de données expérimentales et de leurs résultats d'analyse\n",
    "\n",
    "<div class=\"alert alert-block alert-info\"> <b> 1 fichier de données = 1 entrée du dictionnaire </b></div>"
   ]
  },
  {
   "cell_type": "markdown",
   "metadata": {},
   "source": [
    "## Fonction len()\n",
    "La fonction __len__ permet de connaître la longueur (nombre d'éléments du premier niveau) de n'importe quel type de conteneur."
   ]
  },
  {
   "cell_type": "code",
   "execution_count": null,
   "metadata": {},
   "outputs": [],
   "source": [
    "# renvoie le nombre d'entrées d'un dictionnaire\n",
    "len (jours_dans_le_mois)"
   ]
  },
  {
   "cell_type": "code",
   "execution_count": null,
   "metadata": {},
   "outputs": [],
   "source": [
    "# renvoie le nombre d'éléments d'un tuple ou d'une liste\n",
    "len (['1', '2', '3', ['quatre', 'cinq', 'six']])"
   ]
  },
  {
   "cell_type": "code",
   "execution_count": null,
   "metadata": {},
   "outputs": [],
   "source": [
    "# renvoie le nombre d'éléments d'un tuple\n",
    "mon_tuple = (1, 2, 3, 4, 5), (6, 7, 8, 9, 10)\n",
    "len (mon_tuple)"
   ]
  }
 ],
 "metadata": {
  "hide_input": false,
  "kernelspec": {
   "display_name": "Python 3 (ipykernel)",
   "language": "python",
   "name": "python3"
  },
  "language_info": {
   "codemirror_mode": {
    "name": "ipython",
    "version": 3
   },
   "file_extension": ".py",
   "mimetype": "text/x-python",
   "name": "python",
   "nbconvert_exporter": "python",
   "pygments_lexer": "ipython3",
   "version": "3.12.3"
  }
 },
 "nbformat": 4,
 "nbformat_minor": 4
}