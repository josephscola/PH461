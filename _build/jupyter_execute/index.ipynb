{
 "cells": [
  {
   "cell_type": "markdown",
   "metadata": {},
   "source": [
    "<img src=\"logo-ufr-sciences.jpg\" />"
   ]
  },
  {
   "cell_type": "markdown",
   "metadata": {},
   "source": [
    "# PH461 : Python pour la Physique\n",
    "J. Scola joseph.scola@uvsq.fr\n",
    "& \n",
    "R. Modolo ronan.modolo@latmos.ipsl.fr\n",
    "\n",
    "Année universitaire 2021-2022"
   ]
  },
  {
   "cell_type": "markdown",
   "metadata": {},
   "source": [
    "## Présentation\n",
    "\n",
    "Le langage de programmation Python et ses bibliothèques de fonctions permet de remplacer des séquences d'opérations à la souris dans des logiciels par des lignes de commandes exécutés par l'_interpréteur_ Python3.\n",
    "Cette __méthodologie de travail__ présente plusieurs avantages :\n",
    "- facilitation des échanges et du partage (plateforme universelle où toutes les fonctionnalités sont gratuites et librement modifiables);\n",
    "- traçabilité des procédures d'analyse et de traitement numériques, en conformité avec la politique de données ouvertes dans la science publique.\n",
    "\n",
    "L'UE PH461 a pour but de __fournir des outils pour faciliter le travail en licence et approfondir les connaissances en Physique__. \n",
    "Les ressources offertes par le langage de programmation Python peuvent être vues comme celles d'une \"super-calculatrice graphique\" gratuite installées sur un ordinateur (Linux, Windows ou MacOS).\n",
    "Les fonctionnalités essentielles couvertes par cet enseignement sont les suivantes :\n",
    "- applications numériques (et incertitudes)\n",
    "- analyse de données\n",
    "- simulation numérique\n",
    "- rédaction de compte-rendus d'expérience\n",
    "\n",
    "Le programme du PH461 inclutse décompose en deux parties principales :\n",
    "- [Partie 1 : Algorithmique et syntaxe Python](./chapitre2/Algorithmique_et_syntaxe.ipynb)\n",
    "- [Partie 2 : Opérations essentielles](./chapitre3/chapitre3.ipynb)\n",
    "\n",
    "Les séances se dérouleront sur machine afin que les nouvelles notions puissent être expérimentées immédiatement sur des documents interactifs.\n",
    "Il est donc nécessaire de __se munir d'un ordinateur (personnel ou cartable numérique) à chaque séance.__\n",
    "Le travail sera approfondi par des exercices de synthèse à réaliser durant ces séances de CM/TD ainsi que par des mini-projets effectués durant les 3 séances de 3 h de TP."
   ]
  }
 ],
 "metadata": {
  "hide_input": false,
  "kernelspec": {
   "display_name": "Python 3 (ipykernel)",
   "language": "python",
   "name": "python3"
  },
  "language_info": {
   "codemirror_mode": {
    "name": "ipython",
    "version": 3
   },
   "file_extension": ".py",
   "mimetype": "text/x-python",
   "name": "python",
   "nbconvert_exporter": "python",
   "pygments_lexer": "ipython3",
   "version": "3.9.16"
  }
 },
 "nbformat": 4,
 "nbformat_minor": 4
}